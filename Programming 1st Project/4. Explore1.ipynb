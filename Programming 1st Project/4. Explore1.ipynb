{
 "cells": [
  {
   "cell_type": "markdown",
   "metadata": {},
   "source": [
    "**Group Members**:\n",
    "- Afonso Cadete | 20211519@novaims.unl.pt\n",
    "- Catarina Oliveira | 20211616@novaims.unl.pt\n",
    "- Joana Rosa | 20211516@novaims.unl.pt\n",
    "- Rita Centeno | 20211579@novaims.unl.pt"
   ]
  },
  {
   "cell_type": "markdown",
   "metadata": {},
   "source": [
    "# 4. Jupyter Notebook - Explore1\n",
    "## Assessment of Individual Features’ Discrimination\n",
    "\n",
    "In this fourth Jupyter notebook the main goal is to assess individual feature discrimination. Concluding the initial insights on the respondents to the marketing campaigns and the selection of non-redundant features for the next step.\n"
   ]
  },
  {
   "cell_type": "markdown",
   "metadata": {},
   "source": [
    "In the following cell, the needed libraries for this notebook to be correctly run (Pandas and Mode from Statistics) are imported."
   ]
  },
  {
   "cell_type": "code",
   "execution_count": 1,
   "metadata": {
    "collapsed": false,
    "jupyter": {
     "outputs_hidden": false
    }
   },
   "outputs": [],
   "source": [
    "# Library Importation\n",
    "import pandas as pd\n",
    "import numpy as np\n",
    "import seaborn as sns\n",
    "import matplotlib.pyplot as plt\n",
    "from statistics import mode"
   ]
  },
  {
   "cell_type": "markdown",
   "metadata": {},
   "source": [
    "## Opening the data\n",
    "\n",
    "In the next cell, the importation of the dataset with all the previously made transformations is done."
   ]
  },
  {
   "cell_type": "code",
   "execution_count": 2,
   "metadata": {
    "collapsed": false,
    "jupyter": {
     "outputs_hidden": false
    }
   },
   "outputs": [
    {
     "data": {
      "text/plain": "      Age  NKids  NTeens    Income  MntWines  MntFruits  MntMeatProducts  \\\nID                                                                         \n5314   65      0       1   40689.0       270          3               27   \n2493   50      0       1   61286.0       356          0              107   \n4931   39      0       0  157146.0         1          0             1725   \n1100   56      1       2   41275.0        24          4               22   \n7224   39      1       0   31353.0        10          0               10   \n\n      MntFishProducts  MntSweetProducts  MntGoldProds  ...  Response  \\\nID                                                     ...             \n5314               39                 6            99  ...         0   \n2493               19                 9           117  ...         0   \n4931                2                 1             1  ...         0   \n1100                0                 2             9  ...         0   \n7224                3                 1             7  ...         0   \n\n       Education  MaritalStatus  NMinors  FamilySize  MntTotal  %IncomeSpent  \\\nID                                                                             \n5314  Graduation       Together        1           3       345         0.424   \n2493  Graduation        Married        1           3       491         0.401   \n4931  Graduation       Together        0           2      1729         0.550   \n1100      Master       Together        3           5        52         0.063   \n7224  Graduation        Married        1           3        24         0.038   \n\n      TotalPurchases  TotalResponses  NDaysPurchase  \nID                                                   \n5314              13               0             92  \n2493              16               0             66  \n4931              28               0             41  \n1100               7               0            118  \n7224               4               0            228  \n\n[5 rows x 33 columns]",
      "text/html": "<div>\n<style scoped>\n    .dataframe tbody tr th:only-of-type {\n        vertical-align: middle;\n    }\n\n    .dataframe tbody tr th {\n        vertical-align: top;\n    }\n\n    .dataframe thead th {\n        text-align: right;\n    }\n</style>\n<table border=\"1\" class=\"dataframe\">\n  <thead>\n    <tr style=\"text-align: right;\">\n      <th></th>\n      <th>Age</th>\n      <th>NKids</th>\n      <th>NTeens</th>\n      <th>Income</th>\n      <th>MntWines</th>\n      <th>MntFruits</th>\n      <th>MntMeatProducts</th>\n      <th>MntFishProducts</th>\n      <th>MntSweetProducts</th>\n      <th>MntGoldProds</th>\n      <th>...</th>\n      <th>Response</th>\n      <th>Education</th>\n      <th>MaritalStatus</th>\n      <th>NMinors</th>\n      <th>FamilySize</th>\n      <th>MntTotal</th>\n      <th>%IncomeSpent</th>\n      <th>TotalPurchases</th>\n      <th>TotalResponses</th>\n      <th>NDaysPurchase</th>\n    </tr>\n    <tr>\n      <th>ID</th>\n      <th></th>\n      <th></th>\n      <th></th>\n      <th></th>\n      <th></th>\n      <th></th>\n      <th></th>\n      <th></th>\n      <th></th>\n      <th></th>\n      <th></th>\n      <th></th>\n      <th></th>\n      <th></th>\n      <th></th>\n      <th></th>\n      <th></th>\n      <th></th>\n      <th></th>\n      <th></th>\n      <th></th>\n    </tr>\n  </thead>\n  <tbody>\n    <tr>\n      <th>5314</th>\n      <td>65</td>\n      <td>0</td>\n      <td>1</td>\n      <td>40689.0</td>\n      <td>270</td>\n      <td>3</td>\n      <td>27</td>\n      <td>39</td>\n      <td>6</td>\n      <td>99</td>\n      <td>...</td>\n      <td>0</td>\n      <td>Graduation</td>\n      <td>Together</td>\n      <td>1</td>\n      <td>3</td>\n      <td>345</td>\n      <td>0.424</td>\n      <td>13</td>\n      <td>0</td>\n      <td>92</td>\n    </tr>\n    <tr>\n      <th>2493</th>\n      <td>50</td>\n      <td>0</td>\n      <td>1</td>\n      <td>61286.0</td>\n      <td>356</td>\n      <td>0</td>\n      <td>107</td>\n      <td>19</td>\n      <td>9</td>\n      <td>117</td>\n      <td>...</td>\n      <td>0</td>\n      <td>Graduation</td>\n      <td>Married</td>\n      <td>1</td>\n      <td>3</td>\n      <td>491</td>\n      <td>0.401</td>\n      <td>16</td>\n      <td>0</td>\n      <td>66</td>\n    </tr>\n    <tr>\n      <th>4931</th>\n      <td>39</td>\n      <td>0</td>\n      <td>0</td>\n      <td>157146.0</td>\n      <td>1</td>\n      <td>0</td>\n      <td>1725</td>\n      <td>2</td>\n      <td>1</td>\n      <td>1</td>\n      <td>...</td>\n      <td>0</td>\n      <td>Graduation</td>\n      <td>Together</td>\n      <td>0</td>\n      <td>2</td>\n      <td>1729</td>\n      <td>0.550</td>\n      <td>28</td>\n      <td>0</td>\n      <td>41</td>\n    </tr>\n    <tr>\n      <th>1100</th>\n      <td>56</td>\n      <td>1</td>\n      <td>2</td>\n      <td>41275.0</td>\n      <td>24</td>\n      <td>4</td>\n      <td>22</td>\n      <td>0</td>\n      <td>2</td>\n      <td>9</td>\n      <td>...</td>\n      <td>0</td>\n      <td>Master</td>\n      <td>Together</td>\n      <td>3</td>\n      <td>5</td>\n      <td>52</td>\n      <td>0.063</td>\n      <td>7</td>\n      <td>0</td>\n      <td>118</td>\n    </tr>\n    <tr>\n      <th>7224</th>\n      <td>39</td>\n      <td>1</td>\n      <td>0</td>\n      <td>31353.0</td>\n      <td>10</td>\n      <td>0</td>\n      <td>10</td>\n      <td>3</td>\n      <td>1</td>\n      <td>7</td>\n      <td>...</td>\n      <td>0</td>\n      <td>Graduation</td>\n      <td>Married</td>\n      <td>1</td>\n      <td>3</td>\n      <td>24</td>\n      <td>0.038</td>\n      <td>4</td>\n      <td>0</td>\n      <td>228</td>\n    </tr>\n  </tbody>\n</table>\n<p>5 rows × 33 columns</p>\n</div>"
     },
     "execution_count": 2,
     "metadata": {},
     "output_type": "execute_result"
    }
   ],
   "source": [
    "# Importation of the extracted dataset\n",
    "\n",
    "# This path should be changed into the path where the Excel document was stored.\n",
    "path = 'C:\\\\Users\\\\joana\\\\Documents\\\\Joana Rita\\\\Universidade\\\\Data Science\\\\Year 2\\\\1st Semester\\\\Programming for Data Science\\\\1st Project\\\\'\n",
    "\n",
    "# Reads the Excel document and defines that the 'ID' column is the index of the dataset\n",
    "data_original = pd.read_excel(path + \"3Extract.xlsx\", index_col = 'ID')\n",
    "\n",
    "# Creates a copy of the imported data, so that the original one is never changed\n",
    "data=data_original.copy()\n",
    "\n",
    "# Calls the head of the dataset, to ensure the import was correctly done.\n",
    "data.head()"
   ]
  },
  {
   "cell_type": "markdown",
   "metadata": {},
   "source": [
    "## Data Exploration\n",
    "\n",
    "To simplify the data exploration process, features of the dataset were grouped in batches according to their category (in the cell below)."
   ]
  },
  {
   "cell_type": "code",
   "execution_count": 3,
   "metadata": {
    "collapsed": false,
    "jupyter": {
     "outputs_hidden": false
    }
   },
   "outputs": [],
   "source": [
    "# socio-demographic features\n",
    "g_demo = ['Age', 'Education', 'MaritalStatus', 'NKids', 'NTeens', 'Income', 'NMinors', 'FamilySize', '%IncomeSpent']\n",
    "# frequency features\n",
    "g_freq = ['Recency', 'NDealsPurchases', 'NWebPurchases', 'NCatalogPurchases', 'NStorePurchases', 'NWebVisitsMonth', 'TotalPurchases', 'NDaysPurchase']\n",
    "# monetary value features\n",
    "g_mon_val = ['MntWines', \"MntFruits\", \"MntMeatProducts\", \"MntFishProducts\", \"MntSweetProducts\", \"MntGoldProds\", \"MntTotal\"]\n",
    "# customer lifetime and satisfaction features\n",
    "g_lifetime_sat = ['Longevity', \"Complain\"]\n",
    "# campaigns response features\n",
    "g_responses = [\"Response1\", \"Response2\", \"Response3\", \"Response4\", \"Response5\", 'TotalResponses']\n",
    "# target feature\n",
    "g_target = [\"Response\"]"
   ]
  },
  {
   "cell_type": "markdown",
   "source": [
    "Some statistics can only be computed with numeric values, consequently numeric variable. Therefore, a new demographic group (`g_demo_num`) was created just for those kind of features."
   ],
   "metadata": {
    "collapsed": false
   }
  },
  {
   "cell_type": "code",
   "execution_count": 4,
   "metadata": {
    "collapsed": false,
    "jupyter": {
     "outputs_hidden": false
    }
   },
   "outputs": [],
   "source": [
    "# numeric socio-demographic features\n",
    "g_demo_num = ['Age','Income','%IncomeSpent']"
   ]
  },
  {
   "cell_type": "markdown",
   "metadata": {},
   "source": [
    "For variables `FamilySize`, `NKids` and `NTeens` a different approach was used due to their low number of unique values."
   ],
   "outputs": []
  },
  {
   "cell_type": "markdown",
   "source": [
    "The statistics that will be used to evaluate the different features of the dataset, as well as, the target variable are identified in the following cell."
   ],
   "metadata": {
    "collapsed": false
   }
  },
  {
   "cell_type": "code",
   "execution_count": 5,
   "metadata": {
    "collapsed": false,
    "jupyter": {
     "outputs_hidden": false
    }
   },
   "outputs": [],
   "source": [
    "# defines the target variable of the dataset\n",
    "by_cols = ['Response']\n",
    "# defines the statistics that will be used to evaluate the features of the dataset\n",
    "stats_num = ['mean', 'median', 'std', 'max', 'min','sum']\n",
    "stats_cat = mode"
   ]
  },
  {
   "cell_type": "markdown",
   "metadata": {},
   "source": [
    "### Analysis of the statistics of the continuous features of the socio-demographic group\n",
    "\n",
    "In order to assess relevant differences between customers who responded positively and negatively to the target feature - `Response`, the statistics for the numeric features of the socio-demographic group were computed and presented in a table below."
   ]
  },
  {
   "cell_type": "code",
   "execution_count": 6,
   "metadata": {
    "collapsed": false,
    "jupyter": {
     "outputs_hidden": false
    }
   },
   "outputs": [
    {
     "data": {
      "text/plain": "Response                       0            1\nAge          mean          47.37        46.39\n             median        46.00        45.00\n             std           11.88        12.30\n             max          123.00        73.00\n             min           20.00        20.00\n             sum        81909.00     14242.00\nIncome       mean       50948.11     60221.35\n             median     50150.00     64260.00\n             std        25242.19     23228.46\n             max       666666.00    105471.00\n             min         2447.00      7500.00\n             sum     88089278.20  18487954.40\n%IncomeSpent mean           0.42         0.66\n             median         0.30         0.70\n             std            0.91         0.41\n             max           35.33         1.55\n             min            0.00         0.02\n             sum          722.18       201.38",
      "text/html": "<div>\n<style scoped>\n    .dataframe tbody tr th:only-of-type {\n        vertical-align: middle;\n    }\n\n    .dataframe tbody tr th {\n        vertical-align: top;\n    }\n\n    .dataframe thead th {\n        text-align: right;\n    }\n</style>\n<table border=\"1\" class=\"dataframe\">\n  <thead>\n    <tr style=\"text-align: right;\">\n      <th></th>\n      <th>Response</th>\n      <th>0</th>\n      <th>1</th>\n    </tr>\n  </thead>\n  <tbody>\n    <tr>\n      <th rowspan=\"6\" valign=\"top\">Age</th>\n      <th>mean</th>\n      <td>47.37</td>\n      <td>46.39</td>\n    </tr>\n    <tr>\n      <th>median</th>\n      <td>46.00</td>\n      <td>45.00</td>\n    </tr>\n    <tr>\n      <th>std</th>\n      <td>11.88</td>\n      <td>12.30</td>\n    </tr>\n    <tr>\n      <th>max</th>\n      <td>123.00</td>\n      <td>73.00</td>\n    </tr>\n    <tr>\n      <th>min</th>\n      <td>20.00</td>\n      <td>20.00</td>\n    </tr>\n    <tr>\n      <th>sum</th>\n      <td>81909.00</td>\n      <td>14242.00</td>\n    </tr>\n    <tr>\n      <th rowspan=\"6\" valign=\"top\">Income</th>\n      <th>mean</th>\n      <td>50948.11</td>\n      <td>60221.35</td>\n    </tr>\n    <tr>\n      <th>median</th>\n      <td>50150.00</td>\n      <td>64260.00</td>\n    </tr>\n    <tr>\n      <th>std</th>\n      <td>25242.19</td>\n      <td>23228.46</td>\n    </tr>\n    <tr>\n      <th>max</th>\n      <td>666666.00</td>\n      <td>105471.00</td>\n    </tr>\n    <tr>\n      <th>min</th>\n      <td>2447.00</td>\n      <td>7500.00</td>\n    </tr>\n    <tr>\n      <th>sum</th>\n      <td>88089278.20</td>\n      <td>18487954.40</td>\n    </tr>\n    <tr>\n      <th rowspan=\"6\" valign=\"top\">%IncomeSpent</th>\n      <th>mean</th>\n      <td>0.42</td>\n      <td>0.66</td>\n    </tr>\n    <tr>\n      <th>median</th>\n      <td>0.30</td>\n      <td>0.70</td>\n    </tr>\n    <tr>\n      <th>std</th>\n      <td>0.91</td>\n      <td>0.41</td>\n    </tr>\n    <tr>\n      <th>max</th>\n      <td>35.33</td>\n      <td>1.55</td>\n    </tr>\n    <tr>\n      <th>min</th>\n      <td>0.00</td>\n      <td>0.02</td>\n    </tr>\n    <tr>\n      <th>sum</th>\n      <td>722.18</td>\n      <td>201.38</td>\n    </tr>\n  </tbody>\n</table>\n</div>"
     },
     "execution_count": 6,
     "metadata": {},
     "output_type": "execute_result"
    }
   ],
   "source": [
    "# aggregates the statistics per numeric socio-demographic feature\n",
    "aggregation = {f: stats_num for f in g_demo_num}\n",
    "\n",
    "# groups the columns by the type of response the clients gave\n",
    "gb_object = data.groupby(by_cols)\n",
    "data_agg = gb_object.agg(aggregation).round(2)\n",
    "\n",
    "pd.set_option('display.max_rows', None)\n",
    "# displays the transposed table\n",
    "data_agg.T"
   ]
  },
  {
   "cell_type": "markdown",
   "metadata": {},
   "source": [
    "In regard to `Age`, and from the above table, it is possible to conclude that the average age of the contacted customers holds similar values for both positive and negative scenarios. It can also be assessed that the clients who did accept the offers are less than the ones who did actually buy the marketing campaigns. Therefore, it is only natural that the value for the sum statistic when response is equal to zero to be fairly higher than the value for the same statistic when response is 1 (clients who bought the campaign). Another information that can be taken is that the oldest person who did not buy the campaigned products was much older than the oldest person who did accept the offer. Thus, this might not be a useful variable to predict the outcome (`Response`).\n",
    "\n",
    "For the `Income` variable, the average value of the group of people who did not accept the marketed offer is considerably lower than the value for the other one. As so, `Income` might be a good predictor for the `Response` variable.\n",
    "\n",
    "As for `%IncomeSpent`, due to it being an extracted feature from `Income`, its values follow the same logic, so the average values of the group which accepted the offer are higher than the one for the other group.\n",
    "\n",
    "Moreover, all features that were tested on this table have mean values similar to the median ones, which indicates that these variables are not greatly influenced by outliers."
   ]
  },
  {
   "cell_type": "code",
   "execution_count": 7,
   "metadata": {
    "collapsed": false,
    "jupyter": {
     "outputs_hidden": false
    }
   },
   "outputs": [
    {
     "data": {
      "text/plain": "Response                          0         1\nRecency           mean        51.63     35.02\n                  median      52.00     29.00\n                  std         28.54     27.28\n                  max         99.00     99.00\n                  min          0.00      0.00\n                  sum      89267.00  10750.00\nNDealsPurchases   mean         2.32      2.29\n                  median       2.00      1.00\n                  std          1.84      2.05\n                  max         15.00     11.00\n                  min          0.00      0.00\n                  sum       4012.00    703.00\nNWebPurchases     mean         3.90      5.08\n                  median       3.00      5.00\n                  std          2.66      2.56\n                  max         27.00     11.00\n                  min          0.00      0.00\n                  sum       6745.00   1561.00\nNCatalogPurchases mean         2.39      4.19\n                  median       1.00      4.00\n                  std          2.81      3.12\n                  max         28.00     11.00\n                  min          0.00      0.00\n                  sum       4140.00   1287.00\nNStorePurchases   mean         5.75      6.08\n                  median       5.00      6.00\n                  std          3.24      3.10\n                  max         13.00     13.00\n                  min          0.00      2.00\n                  sum       9943.00   1868.00\nNWebVisitsMonth   mean         5.29      5.28\n                  median       6.00      6.00\n                  std          2.30      2.56\n                  max         20.00     10.00\n                  min          0.00      1.00\n                  sum       9142.00   1622.00\nTotalPurchases    mean        12.05     15.36\n                  median      11.00     16.00\n                  std          7.09      6.83\n                  max         32.00     32.00\n                  min          1.00      3.00\n                  sum      20828.00   4716.00\nNDaysPurchase     mean       135.80    103.89\n                  median      97.00     73.00\n                  std        108.98     76.07\n                  max       1419.00    452.00\n                  min         28.00     26.00\n                  sum     234801.00  31895.00",
      "text/html": "<div>\n<style scoped>\n    .dataframe tbody tr th:only-of-type {\n        vertical-align: middle;\n    }\n\n    .dataframe tbody tr th {\n        vertical-align: top;\n    }\n\n    .dataframe thead th {\n        text-align: right;\n    }\n</style>\n<table border=\"1\" class=\"dataframe\">\n  <thead>\n    <tr style=\"text-align: right;\">\n      <th></th>\n      <th>Response</th>\n      <th>0</th>\n      <th>1</th>\n    </tr>\n  </thead>\n  <tbody>\n    <tr>\n      <th rowspan=\"6\" valign=\"top\">Recency</th>\n      <th>mean</th>\n      <td>51.63</td>\n      <td>35.02</td>\n    </tr>\n    <tr>\n      <th>median</th>\n      <td>52.00</td>\n      <td>29.00</td>\n    </tr>\n    <tr>\n      <th>std</th>\n      <td>28.54</td>\n      <td>27.28</td>\n    </tr>\n    <tr>\n      <th>max</th>\n      <td>99.00</td>\n      <td>99.00</td>\n    </tr>\n    <tr>\n      <th>min</th>\n      <td>0.00</td>\n      <td>0.00</td>\n    </tr>\n    <tr>\n      <th>sum</th>\n      <td>89267.00</td>\n      <td>10750.00</td>\n    </tr>\n    <tr>\n      <th rowspan=\"6\" valign=\"top\">NDealsPurchases</th>\n      <th>mean</th>\n      <td>2.32</td>\n      <td>2.29</td>\n    </tr>\n    <tr>\n      <th>median</th>\n      <td>2.00</td>\n      <td>1.00</td>\n    </tr>\n    <tr>\n      <th>std</th>\n      <td>1.84</td>\n      <td>2.05</td>\n    </tr>\n    <tr>\n      <th>max</th>\n      <td>15.00</td>\n      <td>11.00</td>\n    </tr>\n    <tr>\n      <th>min</th>\n      <td>0.00</td>\n      <td>0.00</td>\n    </tr>\n    <tr>\n      <th>sum</th>\n      <td>4012.00</td>\n      <td>703.00</td>\n    </tr>\n    <tr>\n      <th rowspan=\"6\" valign=\"top\">NWebPurchases</th>\n      <th>mean</th>\n      <td>3.90</td>\n      <td>5.08</td>\n    </tr>\n    <tr>\n      <th>median</th>\n      <td>3.00</td>\n      <td>5.00</td>\n    </tr>\n    <tr>\n      <th>std</th>\n      <td>2.66</td>\n      <td>2.56</td>\n    </tr>\n    <tr>\n      <th>max</th>\n      <td>27.00</td>\n      <td>11.00</td>\n    </tr>\n    <tr>\n      <th>min</th>\n      <td>0.00</td>\n      <td>0.00</td>\n    </tr>\n    <tr>\n      <th>sum</th>\n      <td>6745.00</td>\n      <td>1561.00</td>\n    </tr>\n    <tr>\n      <th rowspan=\"6\" valign=\"top\">NCatalogPurchases</th>\n      <th>mean</th>\n      <td>2.39</td>\n      <td>4.19</td>\n    </tr>\n    <tr>\n      <th>median</th>\n      <td>1.00</td>\n      <td>4.00</td>\n    </tr>\n    <tr>\n      <th>std</th>\n      <td>2.81</td>\n      <td>3.12</td>\n    </tr>\n    <tr>\n      <th>max</th>\n      <td>28.00</td>\n      <td>11.00</td>\n    </tr>\n    <tr>\n      <th>min</th>\n      <td>0.00</td>\n      <td>0.00</td>\n    </tr>\n    <tr>\n      <th>sum</th>\n      <td>4140.00</td>\n      <td>1287.00</td>\n    </tr>\n    <tr>\n      <th rowspan=\"6\" valign=\"top\">NStorePurchases</th>\n      <th>mean</th>\n      <td>5.75</td>\n      <td>6.08</td>\n    </tr>\n    <tr>\n      <th>median</th>\n      <td>5.00</td>\n      <td>6.00</td>\n    </tr>\n    <tr>\n      <th>std</th>\n      <td>3.24</td>\n      <td>3.10</td>\n    </tr>\n    <tr>\n      <th>max</th>\n      <td>13.00</td>\n      <td>13.00</td>\n    </tr>\n    <tr>\n      <th>min</th>\n      <td>0.00</td>\n      <td>2.00</td>\n    </tr>\n    <tr>\n      <th>sum</th>\n      <td>9943.00</td>\n      <td>1868.00</td>\n    </tr>\n    <tr>\n      <th rowspan=\"6\" valign=\"top\">NWebVisitsMonth</th>\n      <th>mean</th>\n      <td>5.29</td>\n      <td>5.28</td>\n    </tr>\n    <tr>\n      <th>median</th>\n      <td>6.00</td>\n      <td>6.00</td>\n    </tr>\n    <tr>\n      <th>std</th>\n      <td>2.30</td>\n      <td>2.56</td>\n    </tr>\n    <tr>\n      <th>max</th>\n      <td>20.00</td>\n      <td>10.00</td>\n    </tr>\n    <tr>\n      <th>min</th>\n      <td>0.00</td>\n      <td>1.00</td>\n    </tr>\n    <tr>\n      <th>sum</th>\n      <td>9142.00</td>\n      <td>1622.00</td>\n    </tr>\n    <tr>\n      <th rowspan=\"6\" valign=\"top\">TotalPurchases</th>\n      <th>mean</th>\n      <td>12.05</td>\n      <td>15.36</td>\n    </tr>\n    <tr>\n      <th>median</th>\n      <td>11.00</td>\n      <td>16.00</td>\n    </tr>\n    <tr>\n      <th>std</th>\n      <td>7.09</td>\n      <td>6.83</td>\n    </tr>\n    <tr>\n      <th>max</th>\n      <td>32.00</td>\n      <td>32.00</td>\n    </tr>\n    <tr>\n      <th>min</th>\n      <td>1.00</td>\n      <td>3.00</td>\n    </tr>\n    <tr>\n      <th>sum</th>\n      <td>20828.00</td>\n      <td>4716.00</td>\n    </tr>\n    <tr>\n      <th rowspan=\"6\" valign=\"top\">NDaysPurchase</th>\n      <th>mean</th>\n      <td>135.80</td>\n      <td>103.89</td>\n    </tr>\n    <tr>\n      <th>median</th>\n      <td>97.00</td>\n      <td>73.00</td>\n    </tr>\n    <tr>\n      <th>std</th>\n      <td>108.98</td>\n      <td>76.07</td>\n    </tr>\n    <tr>\n      <th>max</th>\n      <td>1419.00</td>\n      <td>452.00</td>\n    </tr>\n    <tr>\n      <th>min</th>\n      <td>28.00</td>\n      <td>26.00</td>\n    </tr>\n    <tr>\n      <th>sum</th>\n      <td>234801.00</td>\n      <td>31895.00</td>\n    </tr>\n  </tbody>\n</table>\n</div>"
     },
     "execution_count": 7,
     "metadata": {},
     "output_type": "execute_result"
    }
   ],
   "source": [
    "# aggregates the statistics per frequency feature\n",
    "aggregation = {f: stats_num for f in g_freq}\n",
    "\n",
    "# groups the columns by the type of response the clients gave\n",
    "gb_object = data.groupby(by_cols)\n",
    "\n",
    "data_agg = gb_object.agg(aggregation).round(2)\n",
    "pd.set_option('display.max_rows', None)\n",
    "\n",
    "# displays the transposed table\n",
    "data_agg.T"
   ]
  },
  {
   "cell_type": "markdown",
   "metadata": {},
   "source": [
    "When it comes to the features: `NDealsPurchases`, `WebPurchases`, `NStorePurchases` and `NWebVisitsMonth`, the average values for both the group of customers who bought and who did not buy the campaign are almost the same.\n",
    "\n",
    "Nevertheless, even though there is a large difference between the sum statistic values of these two distinct sets of people, the mean values of these variables are still similar; which can indicate that the sum might not be a relevant descriptive statistic for these specific features. As so, these do not seem to be good for making any predictions of the target response feature.\n",
    "\n",
    "Additionally, the variables `Recency`, `NCatalogPurchases`, `NDaysPurchase` and `Total Purchases` have considerably different values of the average in both groups, which can be a good indicator of a great predictive influence on the outcome variable; since the bigger the difference between the means of the two groups the better. That said, this features appears to be important predictor of the target - `Response`.\n",
    "\n",
    "In summary, and on the one hand, by looking at the average values of each of the above described variables, it can most likely be deduced that the following aspects have a high influence on the prediction of the outcome variable:\n",
    "- the number of days between each purchase (the smaller the gap, the better);\n",
    "- the purchase was made via catalog;\n",
    "- the total number of purchases (the larger, the better).\n",
    "\n",
    "On the other hand, the succeeding cases are the ones in which a pattern, for when the marketing campaign was not successful, was identified:\n",
    "- the customer buys its products online or directly at the store;\n",
    "- the products were bought on sales or with regular pricing;\n",
    "- how many visits, per month, does the customer make to the website."
   ]
  },
  {
   "cell_type": "code",
   "execution_count": 8,
   "metadata": {
    "collapsed": false,
    "jupyter": {
     "outputs_hidden": false
    }
   },
   "outputs": [
    {
     "data": {
      "text/plain": "Response                         0          1\nMntWines         mean       271.10     494.19\n                 median     156.00     437.00\n                 std        306.85     422.82\n                 max       1493.00    1492.00\n                 min          0.00       1.00\n                 sum     468735.00  151716.00\nMntFruits        mean        24.33      39.03\n                 median       7.00      21.00\n                 std         38.23      46.62\n                 max        199.00     193.00\n                 min          0.00       0.00\n                 sum      42063.00   11981.00\nMntMeatProducts  mean       145.41     300.51\n                 median      57.00     184.00\n                 std        207.15     290.84\n                 max       1725.00     981.00\n                 min          0.00       1.00\n                 sum     251409.00   92257.00\nMntFishProducts  mean        35.08      51.48\n                 median      11.00      25.00\n                 std         52.88      61.35\n                 max        259.00     250.00\n                 min          0.00       0.00\n                 sum      60651.00   15803.00\nMntSweetProducts mean        25.21      39.48\n                 median       7.00      21.00\n                 std         40.20      46.94\n                 max        262.00     198.00\n                 min          0.00       0.00\n                 sum      43582.00   12121.00\nMntGoldProds     mean        39.80      62.79\n                 median      21.00      40.00\n                 std         48.33      57.76\n                 max        249.00     241.00\n                 min          0.00       0.00\n                 sum      68806.00   19275.00\nMntTotal         mean       501.12     924.68\n                 median     276.00     964.00\n                 std        529.59     698.01\n                 max       2429.00    2491.00\n                 min          6.00      14.00\n                 sum     866440.00  283878.00",
      "text/html": "<div>\n<style scoped>\n    .dataframe tbody tr th:only-of-type {\n        vertical-align: middle;\n    }\n\n    .dataframe tbody tr th {\n        vertical-align: top;\n    }\n\n    .dataframe thead th {\n        text-align: right;\n    }\n</style>\n<table border=\"1\" class=\"dataframe\">\n  <thead>\n    <tr style=\"text-align: right;\">\n      <th></th>\n      <th>Response</th>\n      <th>0</th>\n      <th>1</th>\n    </tr>\n  </thead>\n  <tbody>\n    <tr>\n      <th rowspan=\"6\" valign=\"top\">MntWines</th>\n      <th>mean</th>\n      <td>271.10</td>\n      <td>494.19</td>\n    </tr>\n    <tr>\n      <th>median</th>\n      <td>156.00</td>\n      <td>437.00</td>\n    </tr>\n    <tr>\n      <th>std</th>\n      <td>306.85</td>\n      <td>422.82</td>\n    </tr>\n    <tr>\n      <th>max</th>\n      <td>1493.00</td>\n      <td>1492.00</td>\n    </tr>\n    <tr>\n      <th>min</th>\n      <td>0.00</td>\n      <td>1.00</td>\n    </tr>\n    <tr>\n      <th>sum</th>\n      <td>468735.00</td>\n      <td>151716.00</td>\n    </tr>\n    <tr>\n      <th rowspan=\"6\" valign=\"top\">MntFruits</th>\n      <th>mean</th>\n      <td>24.33</td>\n      <td>39.03</td>\n    </tr>\n    <tr>\n      <th>median</th>\n      <td>7.00</td>\n      <td>21.00</td>\n    </tr>\n    <tr>\n      <th>std</th>\n      <td>38.23</td>\n      <td>46.62</td>\n    </tr>\n    <tr>\n      <th>max</th>\n      <td>199.00</td>\n      <td>193.00</td>\n    </tr>\n    <tr>\n      <th>min</th>\n      <td>0.00</td>\n      <td>0.00</td>\n    </tr>\n    <tr>\n      <th>sum</th>\n      <td>42063.00</td>\n      <td>11981.00</td>\n    </tr>\n    <tr>\n      <th rowspan=\"6\" valign=\"top\">MntMeatProducts</th>\n      <th>mean</th>\n      <td>145.41</td>\n      <td>300.51</td>\n    </tr>\n    <tr>\n      <th>median</th>\n      <td>57.00</td>\n      <td>184.00</td>\n    </tr>\n    <tr>\n      <th>std</th>\n      <td>207.15</td>\n      <td>290.84</td>\n    </tr>\n    <tr>\n      <th>max</th>\n      <td>1725.00</td>\n      <td>981.00</td>\n    </tr>\n    <tr>\n      <th>min</th>\n      <td>0.00</td>\n      <td>1.00</td>\n    </tr>\n    <tr>\n      <th>sum</th>\n      <td>251409.00</td>\n      <td>92257.00</td>\n    </tr>\n    <tr>\n      <th rowspan=\"6\" valign=\"top\">MntFishProducts</th>\n      <th>mean</th>\n      <td>35.08</td>\n      <td>51.48</td>\n    </tr>\n    <tr>\n      <th>median</th>\n      <td>11.00</td>\n      <td>25.00</td>\n    </tr>\n    <tr>\n      <th>std</th>\n      <td>52.88</td>\n      <td>61.35</td>\n    </tr>\n    <tr>\n      <th>max</th>\n      <td>259.00</td>\n      <td>250.00</td>\n    </tr>\n    <tr>\n      <th>min</th>\n      <td>0.00</td>\n      <td>0.00</td>\n    </tr>\n    <tr>\n      <th>sum</th>\n      <td>60651.00</td>\n      <td>15803.00</td>\n    </tr>\n    <tr>\n      <th rowspan=\"6\" valign=\"top\">MntSweetProducts</th>\n      <th>mean</th>\n      <td>25.21</td>\n      <td>39.48</td>\n    </tr>\n    <tr>\n      <th>median</th>\n      <td>7.00</td>\n      <td>21.00</td>\n    </tr>\n    <tr>\n      <th>std</th>\n      <td>40.20</td>\n      <td>46.94</td>\n    </tr>\n    <tr>\n      <th>max</th>\n      <td>262.00</td>\n      <td>198.00</td>\n    </tr>\n    <tr>\n      <th>min</th>\n      <td>0.00</td>\n      <td>0.00</td>\n    </tr>\n    <tr>\n      <th>sum</th>\n      <td>43582.00</td>\n      <td>12121.00</td>\n    </tr>\n    <tr>\n      <th rowspan=\"6\" valign=\"top\">MntGoldProds</th>\n      <th>mean</th>\n      <td>39.80</td>\n      <td>62.79</td>\n    </tr>\n    <tr>\n      <th>median</th>\n      <td>21.00</td>\n      <td>40.00</td>\n    </tr>\n    <tr>\n      <th>std</th>\n      <td>48.33</td>\n      <td>57.76</td>\n    </tr>\n    <tr>\n      <th>max</th>\n      <td>249.00</td>\n      <td>241.00</td>\n    </tr>\n    <tr>\n      <th>min</th>\n      <td>0.00</td>\n      <td>0.00</td>\n    </tr>\n    <tr>\n      <th>sum</th>\n      <td>68806.00</td>\n      <td>19275.00</td>\n    </tr>\n    <tr>\n      <th rowspan=\"6\" valign=\"top\">MntTotal</th>\n      <th>mean</th>\n      <td>501.12</td>\n      <td>924.68</td>\n    </tr>\n    <tr>\n      <th>median</th>\n      <td>276.00</td>\n      <td>964.00</td>\n    </tr>\n    <tr>\n      <th>std</th>\n      <td>529.59</td>\n      <td>698.01</td>\n    </tr>\n    <tr>\n      <th>max</th>\n      <td>2429.00</td>\n      <td>2491.00</td>\n    </tr>\n    <tr>\n      <th>min</th>\n      <td>6.00</td>\n      <td>14.00</td>\n    </tr>\n    <tr>\n      <th>sum</th>\n      <td>866440.00</td>\n      <td>283878.00</td>\n    </tr>\n  </tbody>\n</table>\n</div>"
     },
     "execution_count": 8,
     "metadata": {},
     "output_type": "execute_result"
    }
   ],
   "source": [
    "# aggregates the statistics per monetary value feature\n",
    "aggregation = {f: stats_num for f in g_mon_val}\n",
    "\n",
    "# groups the columns by the type of response the clients gave\n",
    "gb_object = data.groupby(by_cols)\n",
    "data_agg = gb_object.agg(aggregation).round(2)\n",
    "\n",
    "pd.set_option('display.max_rows', None)\n",
    "# displays the transposed table\n",
    "data_agg.T"
   ]
  },
  {
   "cell_type": "markdown",
   "metadata": {},
   "source": [
    "In all monetary features there is a large difference between the mean values when the response is equal to 0 and 1. Nevertheless, for the particular cases of the variables:  `MntWines `,  `MntMeatProducts ` and `MntTotal `  this difference is more noticeable. Therefore, it can be said that all variables related to monetary have the potential to be good predictors of the final campaign  - `Response `.\n",
    "\n",
    "This analysis suggests that independently of the type of products bought by the customers, the tendency that can be established is \"the more bought products, the more likely is the client to buy the campaign\"."
   ]
  },
  {
   "cell_type": "code",
   "execution_count": 9,
   "metadata": {
    "collapsed": false,
    "jupyter": {
     "outputs_hidden": false
    }
   },
   "outputs": [
    {
     "data": {
      "text/plain": "Response                   0          1\nLongevity mean       1068.68    1173.83\n          median     1060.00    1218.00\n          std         198.02     200.42\n          max        1431.00    1432.00\n          min         733.00     739.00\n          sum     1847742.00  360367.00",
      "text/html": "<div>\n<style scoped>\n    .dataframe tbody tr th:only-of-type {\n        vertical-align: middle;\n    }\n\n    .dataframe tbody tr th {\n        vertical-align: top;\n    }\n\n    .dataframe thead th {\n        text-align: right;\n    }\n</style>\n<table border=\"1\" class=\"dataframe\">\n  <thead>\n    <tr style=\"text-align: right;\">\n      <th></th>\n      <th>Response</th>\n      <th>0</th>\n      <th>1</th>\n    </tr>\n  </thead>\n  <tbody>\n    <tr>\n      <th rowspan=\"6\" valign=\"top\">Longevity</th>\n      <th>mean</th>\n      <td>1068.68</td>\n      <td>1173.83</td>\n    </tr>\n    <tr>\n      <th>median</th>\n      <td>1060.00</td>\n      <td>1218.00</td>\n    </tr>\n    <tr>\n      <th>std</th>\n      <td>198.02</td>\n      <td>200.42</td>\n    </tr>\n    <tr>\n      <th>max</th>\n      <td>1431.00</td>\n      <td>1432.00</td>\n    </tr>\n    <tr>\n      <th>min</th>\n      <td>733.00</td>\n      <td>739.00</td>\n    </tr>\n    <tr>\n      <th>sum</th>\n      <td>1847742.00</td>\n      <td>360367.00</td>\n    </tr>\n  </tbody>\n</table>\n</div>"
     },
     "execution_count": 9,
     "metadata": {},
     "output_type": "execute_result"
    }
   ],
   "source": [
    "# aggregates the statistics per customer lifetime and satisfaction features\n",
    "aggregation = {f: stats_num for f in g_lifetime_sat[0:-1]} # We don't want to analyze the variable complain through this method\n",
    "\n",
    "# groups the columns by the type of response the clients gave\n",
    "gb_object = data.groupby(by_cols)\n",
    "data_agg = gb_object.agg(aggregation).round(2)\n",
    "\n",
    "pd.set_option('display.max_rows', None)\n",
    "# displays the transposed table\n",
    "\n",
    "data_agg.T"
   ]
  },
  {
   "cell_type": "markdown",
   "metadata": {},
   "source": [
    "Considering that `Longevity` is a variable which states for how many days the customer has been a client of the company; the above shown table allows for the deductions of the following conclusions:\n",
    "- there seems to be no considerable difference between the mean values of longevity for both groups of customers (the ones who did buy the final campaign and the ones who did not);\n",
    "- since the values for the standard deviations of both sets of clients are not extremely large, it can be said that the values of `Longevity` are not really spread apart from each other (low variability of the data).\n",
    "\n",
    "Finally, there is no great distinction between the oldest and youngest clients of the company (in terms of `Longevity`) regarding who is usually the likeliest to buy the final campaign - `Response`."
   ]
  },
  {
   "cell_type": "markdown",
   "metadata": {},
   "source": [
    "### Categorical/Binary Variables GroupBy Analysis\n",
    "\n",
    "**_How to evaluate the target variable in relation to categorical and binary variables?_**\n",
    "\n",
    "Instead of using `Response` to aggregate other categorical and binary variables.\n",
    "Due to the fact that the outcome variable `Response` is a binary feature, it is also possible and much simpler to analyse it by using categorical and binary features to aggregate `Response`. Such a method results in the proportion of customers who bought and who did not buy the final campaign."
   ]
  },
  {
   "cell_type": "markdown",
   "metadata": {},
   "source": [
    "#### Customer Household Analysis\n",
    "\n",
    "In the following cells, groups of categorical variables were created in order to facilitate the aggregation of values in relation to `Response`."
   ]
  },
  {
   "cell_type": "code",
   "execution_count": 10,
   "metadata": {
    "collapsed": false,
    "jupyter": {
     "outputs_hidden": false
    }
   },
   "outputs": [],
   "source": [
    "# creation of 4 lists with different grouped or individual variables\n",
    "columns = ['NKids','NTeens', 'FamilySize', 'NMinors']\n",
    "columns_1 = ['Complain']\n",
    "columns_2 = ['Education']\n",
    "columns_3 = ['MaritalStatus']"
   ]
  },
  {
   "cell_type": "markdown",
   "source": [
    "Now, the statistics to be used to evaluate the categorical features of the dataset were defines, as well as the aggregation of the stats per category of `Response`."
   ],
   "metadata": {
    "collapsed": false
   }
  },
  {
   "cell_type": "code",
   "execution_count": 11,
   "metadata": {
    "collapsed": false,
    "jupyter": {
     "outputs_hidden": false
    }
   },
   "outputs": [],
   "source": [
    "# definition of the statistic to be used in the variable Response\n",
    "stats = ['mean', \"count\"]\n",
    "aggregation = {'Response' : stats}"
   ]
  },
  {
   "cell_type": "markdown",
   "source": [
    "Aggregation of the target variable answers by the categorical features of the dataset."
   ],
   "metadata": {
    "collapsed": false
   }
  },
  {
   "cell_type": "code",
   "execution_count": 12,
   "metadata": {
    "collapsed": false,
    "jupyter": {
     "outputs_hidden": false
    }
   },
   "outputs": [
    {
     "data": {
      "text/plain": "       Response      \n           mean count\nNKids                \n0      0.176871  1176\n1      0.118727   817\n2      0.046512    43",
      "text/html": "<div>\n<style scoped>\n    .dataframe tbody tr th:only-of-type {\n        vertical-align: middle;\n    }\n\n    .dataframe tbody tr th {\n        vertical-align: top;\n    }\n\n    .dataframe thead tr th {\n        text-align: left;\n    }\n\n    .dataframe thead tr:last-of-type th {\n        text-align: right;\n    }\n</style>\n<table border=\"1\" class=\"dataframe\">\n  <thead>\n    <tr>\n      <th></th>\n      <th colspan=\"2\" halign=\"left\">Response</th>\n    </tr>\n    <tr>\n      <th></th>\n      <th>mean</th>\n      <th>count</th>\n    </tr>\n    <tr>\n      <th>NKids</th>\n      <th></th>\n      <th></th>\n    </tr>\n  </thead>\n  <tbody>\n    <tr>\n      <th>0</th>\n      <td>0.176871</td>\n      <td>1176</td>\n    </tr>\n    <tr>\n      <th>1</th>\n      <td>0.118727</td>\n      <td>817</td>\n    </tr>\n    <tr>\n      <th>2</th>\n      <td>0.046512</td>\n      <td>43</td>\n    </tr>\n  </tbody>\n</table>\n</div>"
     },
     "metadata": {},
     "output_type": "display_data"
    },
    {
     "data": {
      "text/plain": "        Response      \n            mean count\nNTeens                \n0       0.209479  1055\n1       0.086724   934\n2       0.106383    47",
      "text/html": "<div>\n<style scoped>\n    .dataframe tbody tr th:only-of-type {\n        vertical-align: middle;\n    }\n\n    .dataframe tbody tr th {\n        vertical-align: top;\n    }\n\n    .dataframe thead tr th {\n        text-align: left;\n    }\n\n    .dataframe thead tr:last-of-type th {\n        text-align: right;\n    }\n</style>\n<table border=\"1\" class=\"dataframe\">\n  <thead>\n    <tr>\n      <th></th>\n      <th colspan=\"2\" halign=\"left\">Response</th>\n    </tr>\n    <tr>\n      <th></th>\n      <th>mean</th>\n      <th>count</th>\n    </tr>\n    <tr>\n      <th>NTeens</th>\n      <th></th>\n      <th></th>\n    </tr>\n  </thead>\n  <tbody>\n    <tr>\n      <th>0</th>\n      <td>0.209479</td>\n      <td>1055</td>\n    </tr>\n    <tr>\n      <th>1</th>\n      <td>0.086724</td>\n      <td>934</td>\n    </tr>\n    <tr>\n      <th>2</th>\n      <td>0.106383</td>\n      <td>47</td>\n    </tr>\n  </tbody>\n</table>\n</div>"
     },
     "metadata": {},
     "output_type": "display_data"
    },
    {
     "data": {
      "text/plain": "            Response      \n                mean count\nFamilySize                \n1           0.412017   233\n2           0.157287   693\n3           0.099754   812\n4           0.074074   270\n5           0.035714    28",
      "text/html": "<div>\n<style scoped>\n    .dataframe tbody tr th:only-of-type {\n        vertical-align: middle;\n    }\n\n    .dataframe tbody tr th {\n        vertical-align: top;\n    }\n\n    .dataframe thead tr th {\n        text-align: left;\n    }\n\n    .dataframe thead tr:last-of-type th {\n        text-align: right;\n    }\n</style>\n<table border=\"1\" class=\"dataframe\">\n  <thead>\n    <tr>\n      <th></th>\n      <th colspan=\"2\" halign=\"left\">Response</th>\n    </tr>\n    <tr>\n      <th></th>\n      <th>mean</th>\n      <th>count</th>\n    </tr>\n    <tr>\n      <th>FamilySize</th>\n      <th></th>\n      <th></th>\n    </tr>\n  </thead>\n  <tbody>\n    <tr>\n      <th>1</th>\n      <td>0.412017</td>\n      <td>233</td>\n    </tr>\n    <tr>\n      <th>2</th>\n      <td>0.157287</td>\n      <td>693</td>\n    </tr>\n    <tr>\n      <th>3</th>\n      <td>0.099754</td>\n      <td>812</td>\n    </tr>\n    <tr>\n      <th>4</th>\n      <td>0.074074</td>\n      <td>270</td>\n    </tr>\n    <tr>\n      <th>5</th>\n      <td>0.035714</td>\n      <td>28</td>\n    </tr>\n  </tbody>\n</table>\n</div>"
     },
     "metadata": {},
     "output_type": "display_data"
    },
    {
     "data": {
      "text/plain": "         Response      \n             mean count\nNMinors                \n0        0.276817   578\n1        0.100678  1033\n2        0.108753   377\n3        0.041667    48",
      "text/html": "<div>\n<style scoped>\n    .dataframe tbody tr th:only-of-type {\n        vertical-align: middle;\n    }\n\n    .dataframe tbody tr th {\n        vertical-align: top;\n    }\n\n    .dataframe thead tr th {\n        text-align: left;\n    }\n\n    .dataframe thead tr:last-of-type th {\n        text-align: right;\n    }\n</style>\n<table border=\"1\" class=\"dataframe\">\n  <thead>\n    <tr>\n      <th></th>\n      <th colspan=\"2\" halign=\"left\">Response</th>\n    </tr>\n    <tr>\n      <th></th>\n      <th>mean</th>\n      <th>count</th>\n    </tr>\n    <tr>\n      <th>NMinors</th>\n      <th></th>\n      <th></th>\n    </tr>\n  </thead>\n  <tbody>\n    <tr>\n      <th>0</th>\n      <td>0.276817</td>\n      <td>578</td>\n    </tr>\n    <tr>\n      <th>1</th>\n      <td>0.100678</td>\n      <td>1033</td>\n    </tr>\n    <tr>\n      <th>2</th>\n      <td>0.108753</td>\n      <td>377</td>\n    </tr>\n    <tr>\n      <th>3</th>\n      <td>0.041667</td>\n      <td>48</td>\n    </tr>\n  </tbody>\n</table>\n</div>"
     },
     "metadata": {},
     "output_type": "display_data"
    }
   ],
   "source": [
    "# generates the tables for each variable in columns\n",
    "for column in columns:\n",
    "    gb_object = data.groupby(column)\n",
    "    data_agg = gb_object.agg(aggregation)\n",
    "    display(data_agg)"
   ]
  },
  {
   "cell_type": "markdown",
   "metadata": {},
   "source": [
    "From the analysis of the previous tables, it is possible to take the following insight: \"the larger the family size is, the smaller is the probability of customer adherence to the target campaign - `Response`\". Thus, because on average the mean of the campaign `Response` has a tendency to be closer to 1 when the family size, and consequently `NKids` and `NTeens`, has smaller values."
   ]
  },
  {
   "cell_type": "markdown",
   "source": [
    "#### Complains"
   ],
   "metadata": {
    "collapsed": false
   }
  },
  {
   "cell_type": "code",
   "execution_count": 13,
   "metadata": {
    "collapsed": false,
    "jupyter": {
     "outputs_hidden": false
    }
   },
   "outputs": [
    {
     "data": {
      "text/plain": "          Response      \n              mean count\nComplain                \n0         0.150794  2016\n1         0.150000    20",
      "text/html": "<div>\n<style scoped>\n    .dataframe tbody tr th:only-of-type {\n        vertical-align: middle;\n    }\n\n    .dataframe tbody tr th {\n        vertical-align: top;\n    }\n\n    .dataframe thead tr th {\n        text-align: left;\n    }\n\n    .dataframe thead tr:last-of-type th {\n        text-align: right;\n    }\n</style>\n<table border=\"1\" class=\"dataframe\">\n  <thead>\n    <tr>\n      <th></th>\n      <th colspan=\"2\" halign=\"left\">Response</th>\n    </tr>\n    <tr>\n      <th></th>\n      <th>mean</th>\n      <th>count</th>\n    </tr>\n    <tr>\n      <th>Complain</th>\n      <th></th>\n      <th></th>\n    </tr>\n  </thead>\n  <tbody>\n    <tr>\n      <th>0</th>\n      <td>0.150794</td>\n      <td>2016</td>\n    </tr>\n    <tr>\n      <th>1</th>\n      <td>0.150000</td>\n      <td>20</td>\n    </tr>\n  </tbody>\n</table>\n</div>"
     },
     "metadata": {},
     "output_type": "display_data"
    }
   ],
   "source": [
    "# generates the tables for the variable in columns_1\n",
    "for column in columns_1:\n",
    "    gb_object = data.groupby(column)\n",
    "    data_agg = gb_object.agg(aggregation)\n",
    "    display(data_agg)"
   ]
  },
  {
   "cell_type": "markdown",
   "metadata": {},
   "source": [
    "For the `Complain` feature, since there is not a large representativity of people who complained (only 20 people from the 2036 presented complains), it is not possible to take accurate conclusions from this variable. Therefore, this is most likely not a great predictor of the target variable - `Response`."
   ]
  },
  {
   "cell_type": "markdown",
   "source": [
    "#### Education"
   ],
   "metadata": {
    "collapsed": false
   }
  },
  {
   "cell_type": "code",
   "execution_count": 14,
   "metadata": {
    "collapsed": false,
    "jupyter": {
     "outputs_hidden": false
    }
   },
   "outputs": [
    {
     "data": {
      "text/plain": "             Response      \n                 mean count\nEducation                  \nBasic        0.040816    49\nGraduation   0.136364  1034\nHigh School  0.119565   184\nMaster       0.155689   334\nPhD          0.206897   435",
      "text/html": "<div>\n<style scoped>\n    .dataframe tbody tr th:only-of-type {\n        vertical-align: middle;\n    }\n\n    .dataframe tbody tr th {\n        vertical-align: top;\n    }\n\n    .dataframe thead tr th {\n        text-align: left;\n    }\n\n    .dataframe thead tr:last-of-type th {\n        text-align: right;\n    }\n</style>\n<table border=\"1\" class=\"dataframe\">\n  <thead>\n    <tr>\n      <th></th>\n      <th colspan=\"2\" halign=\"left\">Response</th>\n    </tr>\n    <tr>\n      <th></th>\n      <th>mean</th>\n      <th>count</th>\n    </tr>\n    <tr>\n      <th>Education</th>\n      <th></th>\n      <th></th>\n    </tr>\n  </thead>\n  <tbody>\n    <tr>\n      <th>Basic</th>\n      <td>0.040816</td>\n      <td>49</td>\n    </tr>\n    <tr>\n      <th>Graduation</th>\n      <td>0.136364</td>\n      <td>1034</td>\n    </tr>\n    <tr>\n      <th>High School</th>\n      <td>0.119565</td>\n      <td>184</td>\n    </tr>\n    <tr>\n      <th>Master</th>\n      <td>0.155689</td>\n      <td>334</td>\n    </tr>\n    <tr>\n      <th>PhD</th>\n      <td>0.206897</td>\n      <td>435</td>\n    </tr>\n  </tbody>\n</table>\n</div>"
     },
     "metadata": {},
     "output_type": "display_data"
    }
   ],
   "source": [
    "# generates the tables for the variable in columns_2\n",
    "for column in columns_2:\n",
    "    gb_object = data.groupby(column)\n",
    "    data_agg = gb_object.agg(aggregation)\n",
    "    display(data_agg)"
   ]
  },
  {
   "cell_type": "markdown",
   "metadata": {},
   "source": [
    "By observing the statistics concerning the `Education` variable in relation to the target, it can be assessed that: the higher the education of the customer, the closer the mean is to 1. Which can only mean that customers with a higher education are most likely to positively respond to the final marketing campaign."
   ]
  },
  {
   "cell_type": "markdown",
   "source": [
    "#### Marital Status"
   ],
   "metadata": {
    "collapsed": false
   }
  },
  {
   "cell_type": "code",
   "execution_count": 15,
   "metadata": {
    "collapsed": false,
    "jupyter": {
     "outputs_hidden": false
    }
   },
   "outputs": [
    {
     "data": {
      "text/plain": "               Response      \n                   mean count\nMaritalStatus                \nDivorced       0.203791   211\nMarried        0.112801   789\nSingle         0.228188   447\nTogether       0.104046   519\nWidow          0.271429    70",
      "text/html": "<div>\n<style scoped>\n    .dataframe tbody tr th:only-of-type {\n        vertical-align: middle;\n    }\n\n    .dataframe tbody tr th {\n        vertical-align: top;\n    }\n\n    .dataframe thead tr th {\n        text-align: left;\n    }\n\n    .dataframe thead tr:last-of-type th {\n        text-align: right;\n    }\n</style>\n<table border=\"1\" class=\"dataframe\">\n  <thead>\n    <tr>\n      <th></th>\n      <th colspan=\"2\" halign=\"left\">Response</th>\n    </tr>\n    <tr>\n      <th></th>\n      <th>mean</th>\n      <th>count</th>\n    </tr>\n    <tr>\n      <th>MaritalStatus</th>\n      <th></th>\n      <th></th>\n    </tr>\n  </thead>\n  <tbody>\n    <tr>\n      <th>Divorced</th>\n      <td>0.203791</td>\n      <td>211</td>\n    </tr>\n    <tr>\n      <th>Married</th>\n      <td>0.112801</td>\n      <td>789</td>\n    </tr>\n    <tr>\n      <th>Single</th>\n      <td>0.228188</td>\n      <td>447</td>\n    </tr>\n    <tr>\n      <th>Together</th>\n      <td>0.104046</td>\n      <td>519</td>\n    </tr>\n    <tr>\n      <th>Widow</th>\n      <td>0.271429</td>\n      <td>70</td>\n    </tr>\n  </tbody>\n</table>\n</div>"
     },
     "metadata": {},
     "output_type": "display_data"
    }
   ],
   "source": [
    "# generates the tables for the variable in columns_3\n",
    "for column in columns_3:\n",
    "    gb_object = data.groupby(column)\n",
    "    data_agg = gb_object.agg(aggregation)\n",
    "    display(data_agg)"
   ]
  },
  {
   "cell_type": "markdown",
   "metadata": {},
   "source": [
    "In concordance to the previously explained methods from the above tables, it is possible to notice that the classes of `MaritalStatus` that present higher values of the mean of the target variable are \"Divorced\", \"Single\" and \"Widow\" (all with values above 0.20). This suggests that people who have a `MaritalStatus` in which they have a higher probability of being single (\"Divorced\", \"Single\", \"Widow\") are the ones which have a greater tendency of buying the last marketing campaign (referent to `Response` target variable)."
   ]
  },
  {
   "cell_type": "markdown",
   "source": [
    "#### Response\n",
    "\n",
    "Similar to the analysis of the categorical variables, the values of the mean and count of the `Response` (target feature) were grouped according to the answers given by the specific response campaigns (which are also binary)."
   ],
   "metadata": {
    "collapsed": false
   }
  },
  {
   "cell_type": "code",
   "execution_count": 16,
   "metadata": {
    "collapsed": false,
    "jupyter": {
     "outputs_hidden": false
    }
   },
   "outputs": [],
   "source": [
    "# definition of the statistic to be used in the variable Response\n",
    "stats = ['mean', \"count\"]\n",
    "aggregation = {'Response' : stats}"
   ]
  },
  {
   "cell_type": "code",
   "execution_count": 17,
   "outputs": [
    {
     "data": {
      "text/plain": "           Response      \n               mean count\nResponse1                \n0          0.122964  1903\n1          0.548872   133",
      "text/html": "<div>\n<style scoped>\n    .dataframe tbody tr th:only-of-type {\n        vertical-align: middle;\n    }\n\n    .dataframe tbody tr th {\n        vertical-align: top;\n    }\n\n    .dataframe thead tr th {\n        text-align: left;\n    }\n\n    .dataframe thead tr:last-of-type th {\n        text-align: right;\n    }\n</style>\n<table border=\"1\" class=\"dataframe\">\n  <thead>\n    <tr>\n      <th></th>\n      <th colspan=\"2\" halign=\"left\">Response</th>\n    </tr>\n    <tr>\n      <th></th>\n      <th>mean</th>\n      <th>count</th>\n    </tr>\n    <tr>\n      <th>Response1</th>\n      <th></th>\n      <th></th>\n    </tr>\n  </thead>\n  <tbody>\n    <tr>\n      <th>0</th>\n      <td>0.122964</td>\n      <td>1903</td>\n    </tr>\n    <tr>\n      <th>1</th>\n      <td>0.548872</td>\n      <td>133</td>\n    </tr>\n  </tbody>\n</table>\n</div>"
     },
     "metadata": {},
     "output_type": "display_data"
    },
    {
     "data": {
      "text/plain": "           Response      \n               mean count\nResponse2                \n0          0.143284  2010\n1          0.730769    26",
      "text/html": "<div>\n<style scoped>\n    .dataframe tbody tr th:only-of-type {\n        vertical-align: middle;\n    }\n\n    .dataframe tbody tr th {\n        vertical-align: top;\n    }\n\n    .dataframe thead tr th {\n        text-align: left;\n    }\n\n    .dataframe thead tr:last-of-type th {\n        text-align: right;\n    }\n</style>\n<table border=\"1\" class=\"dataframe\">\n  <thead>\n    <tr>\n      <th></th>\n      <th colspan=\"2\" halign=\"left\">Response</th>\n    </tr>\n    <tr>\n      <th></th>\n      <th>mean</th>\n      <th>count</th>\n    </tr>\n    <tr>\n      <th>Response2</th>\n      <th></th>\n      <th></th>\n    </tr>\n  </thead>\n  <tbody>\n    <tr>\n      <th>0</th>\n      <td>0.143284</td>\n      <td>2010</td>\n    </tr>\n    <tr>\n      <th>1</th>\n      <td>0.730769</td>\n      <td>26</td>\n    </tr>\n  </tbody>\n</table>\n</div>"
     },
     "metadata": {},
     "output_type": "display_data"
    },
    {
     "data": {
      "text/plain": "           Response      \n               mean count\nResponse3                \n0          0.125133  1886\n1          0.473333   150",
      "text/html": "<div>\n<style scoped>\n    .dataframe tbody tr th:only-of-type {\n        vertical-align: middle;\n    }\n\n    .dataframe tbody tr th {\n        vertical-align: top;\n    }\n\n    .dataframe thead tr th {\n        text-align: left;\n    }\n\n    .dataframe thead tr:last-of-type th {\n        text-align: right;\n    }\n</style>\n<table border=\"1\" class=\"dataframe\">\n  <thead>\n    <tr>\n      <th></th>\n      <th colspan=\"2\" halign=\"left\">Response</th>\n    </tr>\n    <tr>\n      <th></th>\n      <th>mean</th>\n      <th>count</th>\n    </tr>\n    <tr>\n      <th>Response3</th>\n      <th></th>\n      <th></th>\n    </tr>\n  </thead>\n  <tbody>\n    <tr>\n      <th>0</th>\n      <td>0.125133</td>\n      <td>1886</td>\n    </tr>\n    <tr>\n      <th>1</th>\n      <td>0.473333</td>\n      <td>150</td>\n    </tr>\n  </tbody>\n</table>\n</div>"
     },
     "metadata": {},
     "output_type": "display_data"
    },
    {
     "data": {
      "text/plain": "           Response      \n               mean count\nResponse4                \n0          0.133971  1881\n1          0.354839   155",
      "text/html": "<div>\n<style scoped>\n    .dataframe tbody tr th:only-of-type {\n        vertical-align: middle;\n    }\n\n    .dataframe tbody tr th {\n        vertical-align: top;\n    }\n\n    .dataframe thead tr th {\n        text-align: left;\n    }\n\n    .dataframe thead tr:last-of-type th {\n        text-align: right;\n    }\n</style>\n<table border=\"1\" class=\"dataframe\">\n  <thead>\n    <tr>\n      <th></th>\n      <th colspan=\"2\" halign=\"left\">Response</th>\n    </tr>\n    <tr>\n      <th></th>\n      <th>mean</th>\n      <th>count</th>\n    </tr>\n    <tr>\n      <th>Response4</th>\n      <th></th>\n      <th></th>\n    </tr>\n  </thead>\n  <tbody>\n    <tr>\n      <th>0</th>\n      <td>0.133971</td>\n      <td>1881</td>\n    </tr>\n    <tr>\n      <th>1</th>\n      <td>0.354839</td>\n      <td>155</td>\n    </tr>\n  </tbody>\n</table>\n</div>"
     },
     "metadata": {},
     "output_type": "display_data"
    },
    {
     "data": {
      "text/plain": "           Response      \n               mean count\nResponse5                \n0          0.118707  1887\n1          0.557047   149",
      "text/html": "<div>\n<style scoped>\n    .dataframe tbody tr th:only-of-type {\n        vertical-align: middle;\n    }\n\n    .dataframe tbody tr th {\n        vertical-align: top;\n    }\n\n    .dataframe thead tr th {\n        text-align: left;\n    }\n\n    .dataframe thead tr:last-of-type th {\n        text-align: right;\n    }\n</style>\n<table border=\"1\" class=\"dataframe\">\n  <thead>\n    <tr>\n      <th></th>\n      <th colspan=\"2\" halign=\"left\">Response</th>\n    </tr>\n    <tr>\n      <th></th>\n      <th>mean</th>\n      <th>count</th>\n    </tr>\n    <tr>\n      <th>Response5</th>\n      <th></th>\n      <th></th>\n    </tr>\n  </thead>\n  <tbody>\n    <tr>\n      <th>0</th>\n      <td>0.118707</td>\n      <td>1887</td>\n    </tr>\n    <tr>\n      <th>1</th>\n      <td>0.557047</td>\n      <td>149</td>\n    </tr>\n  </tbody>\n</table>\n</div>"
     },
     "metadata": {},
     "output_type": "display_data"
    },
    {
     "data": {
      "text/plain": "                Response      \n                    mean count\nTotalResponses                \n0               0.083903  1609\n1               0.308970   301\n2               0.500000    76\n3               0.800000    40\n4               0.900000    10",
      "text/html": "<div>\n<style scoped>\n    .dataframe tbody tr th:only-of-type {\n        vertical-align: middle;\n    }\n\n    .dataframe tbody tr th {\n        vertical-align: top;\n    }\n\n    .dataframe thead tr th {\n        text-align: left;\n    }\n\n    .dataframe thead tr:last-of-type th {\n        text-align: right;\n    }\n</style>\n<table border=\"1\" class=\"dataframe\">\n  <thead>\n    <tr>\n      <th></th>\n      <th colspan=\"2\" halign=\"left\">Response</th>\n    </tr>\n    <tr>\n      <th></th>\n      <th>mean</th>\n      <th>count</th>\n    </tr>\n    <tr>\n      <th>TotalResponses</th>\n      <th></th>\n      <th></th>\n    </tr>\n  </thead>\n  <tbody>\n    <tr>\n      <th>0</th>\n      <td>0.083903</td>\n      <td>1609</td>\n    </tr>\n    <tr>\n      <th>1</th>\n      <td>0.308970</td>\n      <td>301</td>\n    </tr>\n    <tr>\n      <th>2</th>\n      <td>0.500000</td>\n      <td>76</td>\n    </tr>\n    <tr>\n      <th>3</th>\n      <td>0.800000</td>\n      <td>40</td>\n    </tr>\n    <tr>\n      <th>4</th>\n      <td>0.900000</td>\n      <td>10</td>\n    </tr>\n  </tbody>\n</table>\n</div>"
     },
     "metadata": {},
     "output_type": "display_data"
    }
   ],
   "source": [
    "# generates the tables for the variable in g_responses\n",
    "for column in g_responses:\n",
    "    gb_object = data.groupby(column)\n",
    "    data_agg = gb_object.agg(aggregation)\n",
    "    display(data_agg)"
   ],
   "metadata": {
    "collapsed": false
   }
  },
  {
   "cell_type": "markdown",
   "metadata": {},
   "source": [
    "If it is considered that a representative result in terms of the mean value of the target campaign responses, aggregated by the previous campaign responses, is any value above 0.5, the following conclusions can be discerned.\n",
    "\n",
    "- People who bought the first campaign (values stored in variable `Response1`) are more likely to buy the target campaign (`Response`).\n",
    "\n",
    "- Just as for the previous feature, people who bought the second campaign (values stored in variable `Response2`) are also more likely to buy the target campaign (`Response`).\n",
    "\n",
    "- For the third campaign (values of feature `Response3`), the same conclusion cannot be reached. Since, the value of the mean of `Response` is smaller than 0.5 for both the people who responded positively (0.473333) and negatively (0.124802).\n",
    "\n",
    "- In `Response4`, a similar situation occurs. None of the values of the mean of `Response` are smaller than 0.5 for both people who bought the forth campaign (0.133616) and those who did not (0.354839).\n",
    "\n",
    "- Finally, in `Response5`, it is again relevant that the customers who bought the final campaign were the ones which had the most adherence to the fifth campaign (values of `Response5`).\n",
    "\n",
    "In comparison to previously analysed features, the response variables have great results when it comes to possibly predicting the target variable - `Response`. Nevertheless, it is obvious that `Response2` and `Response5` stand out amongst the others.\n",
    "\n",
    "Additionally, in `TotalResponses`, it is possible to confirm the tendency that has just been said above - \"The more previous campaigns the customers bought, the higher the probability of them buying the target campaign (`Response`)\"."
   ]
  },
  {
   "cell_type": "markdown",
   "source": [
    "The following graphs consist on a more visually appealing way of what was just concluded above."
   ],
   "metadata": {
    "collapsed": false
   }
  },
  {
   "cell_type": "code",
   "execution_count": 18,
   "outputs": [
    {
     "data": {
      "text/plain": "<Figure size 576x216 with 2 Axes>",
      "image/png": "[encoded data removed]"
     },
     "metadata": {},
     "output_type": "display_data"
    },
    {
     "data": {
      "text/plain": "<Figure size 576x216 with 2 Axes>",
      "image/png": "[encoded data removed]"
     },
     "metadata": {},
     "output_type": "display_data"
    },
    {
     "data": {
      "text/plain": "<Figure size 576x216 with 2 Axes>",
      "image/png": "[encoded data removed]"
     },
     "metadata": {},
     "output_type": "display_data"
    },
    {
     "data": {
      "text/plain": "<Figure size 576x216 with 2 Axes>",
      "image/png": "[encoded data removed]"
     },
     "metadata": {},
     "output_type": "display_data"
    },
    {
     "data": {
      "text/plain": "<Figure size 576x216 with 2 Axes>",
      "image/png": "[encoded data removed]"
     },
     "metadata": {},
     "output_type": "display_data"
    }
   ],
   "source": [
    "def bin_cat_plot(data, f, target):\n",
    "\n",
    "    # Creation of Contigency table\n",
    "    cont_table = pd.crosstab(data[f], data[target], margins = True)\n",
    "    # Labels of the rows\n",
    "    l_rows = cont_table.index[:-1].astype(str)\n",
    "    # Creation of the figures' pair\n",
    "    fig = plt.figure(figsize=(8, 3))\n",
    "\n",
    "    # Plot 1)\n",
    "    plt.subplot(121)\n",
    "    p1 = plt.bar(l_rows, cont_table.iloc[:-1, 0].values, width=0.55, color=\"gray\")\n",
    "    p2 = plt.bar(l_rows, cont_table.iloc[:-1, 1].values, width=0.55, bottom=cont_table.iloc[:-1, 0], color=\"cadetblue\")\n",
    "    plt.title(\"Frequencies bar-chart\")\n",
    "    plt.xlabel(f)\n",
    "    plt.ylabel(\"$Frequency$\")\n",
    "\n",
    "    pct_cnt = np.array([np.divide(cont_table.iloc[:-1, 0].values, cont_table.iloc[:-1, -1].values),\n",
    "                        np.divide(cont_table.iloc[:-1, 1].values, cont_table.iloc[:-1, -1].values)])\n",
    "    target_mean = 1 - data[target].mean()\n",
    "\n",
    "    # Plot 2)\n",
    "    plt.subplot(122)\n",
    "    p1 = plt.bar(l_rows, pct_cnt[0], width=0.55, color=\"gray\")\n",
    "    p2 = plt.bar(l_rows, pct_cnt[1], width=0.55, bottom=pct_cnt[0], color=\"cadetblue\")\n",
    "    p3 = plt.plot([-.5, len(l_rows)], [target_mean, target_mean],'--', lw=2, color=\"black\")\n",
    "    plt.legend((p2[0], p1[0], p3[0]), ('$y_i=1$', '$y_i=0$', \"AVG\"), loc=\"lower right\")\n",
    "    plt.title(\"Proportions stacked bar-chart\")\n",
    "    plt.xlabel(f)\n",
    "    plt.ylabel(\"$p$\")\n",
    "\n",
    "    plt.show()\n",
    "\n",
    "\n",
    "# Calls the function on a set of user-specified categorical features\n",
    "features = ['Response1', 'Response2', 'Response3', 'Response4', 'Response5']\n",
    "for f in features:\n",
    "    bin_cat_plot(data, f, \"Response\")"
   ],
   "metadata": {
    "collapsed": false
   }
  },
  {
   "cell_type": "markdown",
   "source": [
    "The first bar chart of each feature shows the difference between the frequencies of previous campaign answers (represented by different bars), related with the answers customers gave on the last campaign (target), which is represented by the colors blue and gray. However, most of the customers, in every campaign, answered 0. Therefore, making the 0 bar considerably larger and the bar representing 1 very hard to analyse.\n",
    "\n",
    "In the second bar chart, the answers are more proportional which allow for a more readable and fair analysis. Results provided by these graphics go according to the previous analysis. Finally, it is possible to conclude through these graphics that Responses 1, 2 and 5 have a bigger amount of customers who have answered 1 both on these and the target campaign."
   ],
   "metadata": {
    "collapsed": false
   }
  },
  {
   "cell_type": "markdown",
   "metadata": {},
   "source": [
    "## SMD - Scaled Mean Deviation\n",
    "\n",
    "The Scaled Mean Deviation (SMD) has the goal of comparing the mean of a numerical feature with the mean of a generated group according to one or more categorical features. The result is supposed to measure the worth of a numeric feature, and it is computed through the following formula:\n",
    "\n",
    "$$\\sum_{j=0}^{c}\n",
    "|SMD_{x, y_{i=j}}| = \\sum_{j=0}^{c} |\\frac{\\overline{x}_{y_{i=j}} - \\overline{x}}{\\overline{x}}|,$$\n",
    "\n",
    "where $j$ enumerates categories of feature $y$."
   ]
  },
  {
   "cell_type": "markdown",
   "metadata": {},
   "source": [
    "For the study of the Scaled Mean Deviation only the numeric variables were used. This means that every categorical feature (including binary or the ones with a small number of features) were not used."
   ]
  },
  {
   "cell_type": "code",
   "execution_count": 19,
   "metadata": {
    "collapsed": false,
    "jupyter": {
     "outputs_hidden": false
    }
   },
   "outputs": [],
   "source": [
    "# ft is the used shortform for features\n",
    "ft = ['Age', 'Income', 'NDealsPurchases','NWebPurchases','NCatalogPurchases','NStorePurchases','NWebVisitsMonth','TotalPurchases','NDaysPurchase','MntWines','MntFruits', 'MntMeatProducts', 'MntFishProducts','MntSweetProducts','MntGoldProds','MntTotal',\n",
    "      'Longevity', 'Recency']\n",
    "y = 'Response'"
   ]
  },
  {
   "cell_type": "code",
   "execution_count": 20,
   "outputs": [],
   "source": [
    "# calculates the mean of the values of each feature in ft\n",
    "x_mean = data[ft].mean()\n",
    "x_group_mean = data[ft + [y]].groupby(y).agg({xi: \"mean\" for xi in ft})\n",
    "\n",
    "# calculates the scaled mean deviation for every feature in ft\n",
    "x_group_mean_diff = ((x_group_mean - x_mean)/x_mean)"
   ],
   "metadata": {
    "collapsed": false
   }
  },
  {
   "cell_type": "code",
   "execution_count": 21,
   "outputs": [
    {
     "data": {
      "text/plain": "MntMeatProducts      0.918893\nMntTotal             0.749682\nMntWines             0.732057\nNCatalogPurchases    0.674440\nMntFruits            0.553723\nMntGoldProds         0.531410\nMntSweetProducts     0.521788\nMntFishProducts      0.436656\nRecency              0.338183\nNWebPurchases        0.290127\nTotalPurchases       0.264248\nNDaysPurchase        0.243599\nIncome               0.177152\nLongevity            0.096961\nNStorePurchases      0.057570\nAge                  0.020810\nNDealsPurchases      0.013176\nNWebVisitsMonth      0.000768\ndtype: float64"
     },
     "execution_count": 21,
     "metadata": {},
     "output_type": "execute_result"
    }
   ],
   "source": [
    "# calculates the sum of the absolutes of every feature's scaled mean deviation\n",
    "ft_y_smd = x_group_mean_diff.abs().sum()\n",
    "ft_y_smd.sort_values(ascending=False)"
   ],
   "metadata": {
    "collapsed": false
   }
  },
  {
   "cell_type": "markdown",
   "source": [
    "Values of the SMD show that the feature with more \"worth\" is `MntMeatProducts` followed by the other monetary value features. It is also important to notice the difference of the results between the monetary features and the others (except for `NCatalogPurchases` which is the third feature with more \"worth\").\n",
    "\n",
    "The features which had a lower result of SMD were `NStorePurchases` and `Longevity`, meaning that their worth towards the target `Response` is not so favourable (they are not such good predictors of the target variable).\n",
    "\n",
    "In order to make a decision of which features should be kept to improve the profit of the company, one chose 0.2 as the minimum threshold of worth."
   ],
   "metadata": {
    "collapsed": false
   }
  },
  {
   "cell_type": "markdown",
   "source": [
    "The following cells compute the SMD , grouped by the Response (target), in order to plot it into a barchart, making it visually more appealing."
   ],
   "metadata": {
    "collapsed": false
   }
  },
  {
   "cell_type": "code",
   "execution_count": 22,
   "outputs": [
    {
     "data": {
      "text/plain": "Response                  0         1\nAge                0.003138 -0.017672\nIncome            -0.026712  0.150440\nNDealsPurchases    0.001987 -0.011190\nNWebPurchases     -0.043747  0.246380\nNCatalogPurchases -0.101696  0.572744\nNStorePurchases   -0.008681  0.048889\nNWebVisitsMonth    0.000116 -0.000652\nTotalPurchases    -0.039845  0.224403\nNDaysPurchase      0.036731 -0.206868\nMntWines          -0.110384  0.621673\nMntFruits         -0.083494  0.470229\nMntMeatProducts   -0.138556  0.780337\nMntFishProducts   -0.065842  0.370815\nMntSweetProducts  -0.078678  0.443109\nMntGoldProds      -0.080129  0.451281\nMntTotal          -0.113041  0.636640\nLongevity         -0.014620  0.082340\nRecency            0.050993 -0.287190",
      "text/html": "<div>\n<style scoped>\n    .dataframe tbody tr th:only-of-type {\n        vertical-align: middle;\n    }\n\n    .dataframe tbody tr th {\n        vertical-align: top;\n    }\n\n    .dataframe thead th {\n        text-align: right;\n    }\n</style>\n<table border=\"1\" class=\"dataframe\">\n  <thead>\n    <tr style=\"text-align: right;\">\n      <th>Response</th>\n      <th>0</th>\n      <th>1</th>\n    </tr>\n  </thead>\n  <tbody>\n    <tr>\n      <th>Age</th>\n      <td>0.003138</td>\n      <td>-0.017672</td>\n    </tr>\n    <tr>\n      <th>Income</th>\n      <td>-0.026712</td>\n      <td>0.150440</td>\n    </tr>\n    <tr>\n      <th>NDealsPurchases</th>\n      <td>0.001987</td>\n      <td>-0.011190</td>\n    </tr>\n    <tr>\n      <th>NWebPurchases</th>\n      <td>-0.043747</td>\n      <td>0.246380</td>\n    </tr>\n    <tr>\n      <th>NCatalogPurchases</th>\n      <td>-0.101696</td>\n      <td>0.572744</td>\n    </tr>\n    <tr>\n      <th>NStorePurchases</th>\n      <td>-0.008681</td>\n      <td>0.048889</td>\n    </tr>\n    <tr>\n      <th>NWebVisitsMonth</th>\n      <td>0.000116</td>\n      <td>-0.000652</td>\n    </tr>\n    <tr>\n      <th>TotalPurchases</th>\n      <td>-0.039845</td>\n      <td>0.224403</td>\n    </tr>\n    <tr>\n      <th>NDaysPurchase</th>\n      <td>0.036731</td>\n      <td>-0.206868</td>\n    </tr>\n    <tr>\n      <th>MntWines</th>\n      <td>-0.110384</td>\n      <td>0.621673</td>\n    </tr>\n    <tr>\n      <th>MntFruits</th>\n      <td>-0.083494</td>\n      <td>0.470229</td>\n    </tr>\n    <tr>\n      <th>MntMeatProducts</th>\n      <td>-0.138556</td>\n      <td>0.780337</td>\n    </tr>\n    <tr>\n      <th>MntFishProducts</th>\n      <td>-0.065842</td>\n      <td>0.370815</td>\n    </tr>\n    <tr>\n      <th>MntSweetProducts</th>\n      <td>-0.078678</td>\n      <td>0.443109</td>\n    </tr>\n    <tr>\n      <th>MntGoldProds</th>\n      <td>-0.080129</td>\n      <td>0.451281</td>\n    </tr>\n    <tr>\n      <th>MntTotal</th>\n      <td>-0.113041</td>\n      <td>0.636640</td>\n    </tr>\n    <tr>\n      <th>Longevity</th>\n      <td>-0.014620</td>\n      <td>0.082340</td>\n    </tr>\n    <tr>\n      <th>Recency</th>\n      <td>0.050993</td>\n      <td>-0.287190</td>\n    </tr>\n  </tbody>\n</table>\n</div>"
     },
     "execution_count": 22,
     "metadata": {},
     "output_type": "execute_result"
    }
   ],
   "source": [
    "# calculates the sum of the scaled mean deviation values for every feature relatively to the response values\n",
    "x_group_mean_diff_T = x_group_mean_diff.T\n",
    "x_group_mean_diff_T"
   ],
   "metadata": {
    "collapsed": false
   }
  },
  {
   "cell_type": "code",
   "execution_count": 23,
   "outputs": [],
   "source": [
    "#  Unpivots a DataFrame from wide to long format\n",
    "dataframe = x_group_mean_diff_T.reset_index().rename(columns = {'index': 'Feature' })\n",
    "dataframe = pd.melt(dataframe, id_vars = 'Feature', value_vars=[0,1] )\n",
    "dataframe['abs_value'] = dataframe['value'].abs()\n",
    "dataframe.sort_values(by = 'abs_value', ascending = False, inplace = True)"
   ],
   "metadata": {
    "collapsed": false
   }
  },
  {
   "cell_type": "code",
   "execution_count": 24,
   "metadata": {
    "collapsed": false,
    "jupyter": {
     "outputs_hidden": false
    }
   },
   "outputs": [
    {
     "data": {
      "text/plain": "<Figure size 216x504 with 1 Axes>",
      "image/png": "[encoded data removed]"
     },
     "metadata": {},
     "output_type": "display_data"
    }
   ],
   "source": [
    "# Barchart SMD graphic\n",
    "my_palette = ['darksalmon','cornflowerblue']\n",
    "plt.figure(figsize = (3,7))\n",
    "g = sns.barplot(data = dataframe, y = 'Feature', x = 'value', linewidth = 1, edgecolor = 'black', hue = 'Response', palette = my_palette)\n",
    "g.legend(loc = (1.05,0.9))\n",
    "g.yaxis.grid(True)"
   ]
  },
  {
   "cell_type": "markdown",
   "source": [
    "The results of the SMD bar chart are according to what was shown before. They indicate that the most worthy feature is `MntMeatProducts`, and the less worthy one is `NWebVisitsMonth`."
   ],
   "metadata": {
    "collapsed": false
   }
  },
  {
   "cell_type": "markdown",
   "source": [
    "To conclude this notebook, the features were organized in the tables below as a way to figure out if they influence more or less the `Response` (target).\n",
    "\n",
    " # Categoricals\n",
    "\n",
    "| Feature | Influence |\n",
    "|--- | --- |\n",
    "| MaritalStatus | As 'single' the better |\n",
    "| Education | As 'higher' the better |\n",
    "| Responses | All are good with 1, 2 and 5 being the best |\n",
    "\n",
    "# Numericals\n",
    "\n",
    "|Features | Analysis of group by Response | Analysis of SMD | Way of Influence |\n",
    "|--- | --- | --- | --- |\n",
    "|Income or %IncomeSpent| Keep | Drop | The highest the better |\n",
    "|Recency | Keep | Keep |The lower the better|\n",
    "|NCatalogPurchases| Keep | Keep |The highest the better |\n",
    "|NDaysPurchases | Keep | Keep |  The lower the better |\n",
    "|TotalPurchases | Keep | Keep | The higher the better |\n",
    "| Mnt | Keep | Keep | All Mnt features are good, with MntMeatProducts, MntWines and MntTotal being the better |"
   ],
   "metadata": {
    "collapsed": false
   }
  },
  {
   "cell_type": "markdown",
   "source": [
    "In the cell below, the variables which were considered as not so relevant features for `Response` were dropped out of the dataset."
   ],
   "metadata": {
    "collapsed": false
   }
  },
  {
   "cell_type": "code",
   "execution_count": 25,
   "outputs": [],
   "source": [
    "# droping the variables with less predictive power\n",
    "data.drop(['Age', 'NKids', 'NTeens', 'Longevity', 'Complain', 'NDealsPurchases', 'NWebPurchases', 'NStorePurchases', 'NWebVisitsMonth', 'NMinors'], axis = 1,inplace=True)"
   ],
   "metadata": {
    "collapsed": false
   }
  },
  {
   "cell_type": "markdown",
   "source": [
    "Data exportation with new alterations to an Excel file."
   ],
   "metadata": {
    "collapsed": false
   }
  },
  {
   "cell_type": "code",
   "execution_count": 26,
   "outputs": [],
   "source": [
    "data.to_excel(path + \"4Explore1.xlsx\")"
   ],
   "metadata": {
    "collapsed": false
   }
  }
 ],
 "metadata": {
  "kernelspec": {
   "display_name": "Python 3",
   "language": "python",
   "name": "python3"
  },
  "language_info": {
   "codemirror_mode": {
    "name": "ipython",
    "version": 3
   },
   "file_extension": ".py",
   "mimetype": "text/x-python",
   "name": "python",
   "nbconvert_exporter": "python",
   "pygments_lexer": "ipython3",
   "version": "3.8.8"
  }
 },
 "nbformat": 4,
 "nbformat_minor": 4
}
