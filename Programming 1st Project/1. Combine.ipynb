{
 "cells": [
  {
   "cell_type": "markdown",
   "id": "b485c8d6",
   "metadata": {},
   "source": [
    "**Group Members**:\n",
    "- Afonso Cadete | 20211519@novaims.unl.pt\n",
    "- Catarina Oliveira | 20211616@novaims.unl.pt\n",
    "- Joana Rosa | 20211516@novaims.unl.pt\n",
    "- Rita Centeno | 20211579@novaims.unl.pt"
   ]
  },
  {
   "cell_type": "markdown",
   "id": "aff95289",
   "metadata": {},
   "source": [
    "# 1. Jupyter Notebook - Combine\n",
    "## Data Combination"
   ]
  },
  {
   "cell_type": "markdown",
   "id": "d9eae2ab",
   "metadata": {},
   "source": [
    "In the following cell, the needed libraries for the program to run were imported (Pandas and Numpy)."
   ]
  },
  {
   "cell_type": "code",
   "execution_count": 1,
   "id": "125479e9",
   "metadata": {
    "collapsed": false,
    "jupyter": {
     "outputs_hidden": false
    }
   },
   "outputs": [],
   "source": [
    "# Importation of relevant libraries for the combination of all data in only one single dataset\n",
    "import pandas as pd\n",
    "import os"
   ]
  },
  {
   "cell_type": "markdown",
   "id": "059096f8",
   "metadata": {},
   "source": [
    "Next are defined the cells which contain the memory path that leads to the folders where the final combined dataset will be saved (variable path) and where the collected data is already stored in the computer's memory (data_path)."
   ]
  },
  {
   "cell_type": "code",
   "execution_count": 2,
   "id": "6c8dbbd6-316b-4cfd-a448-9c584181ebf5",
   "metadata": {},
   "outputs": [],
   "source": [
    "path = 'C:\\\\Users\\\\joana\\\\Documents\\\\Joana Rita\\\\Universidade\\\\Data Science\\\\Year 2\\\\1st Semester\\\\Programming for Data Science\\\\1st Project\\\\'"
   ]
  },
  {
   "cell_type": "code",
   "execution_count": 3,
   "id": "877b21a3",
   "metadata": {
    "collapsed": false,
    "jupyter": {
     "outputs_hidden": false
    }
   },
   "outputs": [],
   "source": [
    "data_path = path + 'DB_response\\\\'"
   ]
  },
  {
   "cell_type": "markdown",
   "source": [
    "This cell serves the purpose of showing the denominations of the folders within the collected data folder (name of the folders inside the location defined as data_path)."
   ],
   "metadata": {
    "collapsed": false
   }
  },
  {
   "cell_type": "code",
   "execution_count": 4,
   "outputs": [
    {
     "data": {
      "text/plain": "['cost', 'demo', 'mnt', 'other', 'purchases', 'response']"
     },
     "execution_count": 4,
     "metadata": {},
     "output_type": "execute_result"
    }
   ],
   "source": [
    "os.listdir(data_path)"
   ],
   "metadata": {
    "collapsed": false
   }
  },
  {
   "cell_type": "markdown",
   "source": [
    "In the following cell is the automatized code for the combination of all collected data in only one dataframe."
   ],
   "metadata": {
    "collapsed": false
   }
  },
  {
   "cell_type": "code",
   "execution_count": 5,
   "id": "ebb2c7c4-d5b9-4912-b478-2669f30a1088",
   "metadata": {},
   "outputs": [],
   "source": [
    "# Automatized way of combining all the collected data in only one dataframe.\n",
    "data = []\n",
    "for folder in os.listdir(data_path):\n",
    "    dt = []\n",
    "    folder_path = data_path + folder\n",
    "    for file in os.listdir(folder_path):             \n",
    "        file_path = folder_path + '\\\\' + file\n",
    "        if file.endswith('xlsx'):\n",
    "            dt.append(pd.read_excel(file_path, index_col = 'ID'))                                 \n",
    "        else:\n",
    "            dt.append(pd.read_csv(file_path, index_col = 'ID'))\n",
    "    data.append(pd.concat(dt, axis = 0))\n",
    "data = pd.concat(data, axis = 1)"
   ]
  },
  {
   "cell_type": "markdown",
   "source": [
    "The final combined dataset was called, in order to verify if the combination of the data was successful."
   ],
   "metadata": {
    "collapsed": false
   }
  },
  {
   "cell_type": "code",
   "execution_count": 6,
   "id": "ba259103-c44f-4161-b161-de16805fdfd8",
   "metadata": {},
   "outputs": [
    {
     "data": {
      "text/plain": "       CostContact  Revenue  BirthYear   Education MaritalStatus  NKids  \\\nID                                                                        \n5314             3       11     1951.0  Graduation      Together    0.0   \n2493             3       11     1966.0  Graduation       Married    0.0   \n4931             3       11     1977.0  Graduation      Together    0.0   \n1100             3       11     1960.0      Master      Together    1.0   \n7224             3       11     1977.0  Graduation       Married    NaN   \n...            ...      ...        ...         ...           ...    ...   \n10795            3       11     1973.0         PhD       Married    1.0   \n5181             3       11     1982.0       Basic        Single    1.0   \n5758             3       11     1982.0  Graduation       Married    0.0   \n9729             3       11     1955.0  Graduation         Widow    1.0   \n10478            3       11     1950.0         PhD       Married    1.0   \n\n       NTeens    Income  MntWines  MntFruits  ...  NWebPurchases  \\\nID                                            ...                  \n5314      1.0   40689.0       270          3  ...              7   \n2493      1.0   61286.0       356          0  ...              7   \n4931      0.0  157146.0         1          0  ...              0   \n1100      2.0   41275.0        24          4  ...              3   \n7224      NaN   31353.0        10          0  ...              1   \n...       ...       ...       ...        ...  ...            ...   \n10795     0.0   37401.0        19          3  ...              2   \n5181      0.0   24367.0         2          4  ...              1   \n5758      0.0   65169.0      1074          0  ...             10   \n9729      1.0   58275.0       189         10  ...              8   \n10478     1.0   55517.0       483          0  ...             11   \n\n       NCatalogPurchases  NStorePurchases  NWebVisitsMonth Response1  \\\nID                                                                     \n5314                   1                5                8         0   \n2493                   1                8                5         0   \n4931                  28                0                1         0   \n1100                   1                3                5         0   \n7224                   1                2                8         0   \n...                  ...              ...              ...       ...   \n10795                  0                3                7         0   \n5181                   0                2                9         0   \n5758                   4               13                6         1   \n9729                   2                7                7         0   \n10478                  1                6                9         0   \n\n       Response2  Response3  Response4  Response5  Response  \nID                                                           \n5314           0          0          0          0         0  \n2493           0          0          0          0         0  \n4931           0          0          0          0         0  \n1100           0          0          0          0         0  \n7224           0          0          0          0         0  \n...          ...        ...        ...        ...       ...  \n10795          0          0          0          0         0  \n5181           0          0          0          0         0  \n5758           1          1          0          1         1  \n9729           0          0          0          0         0  \n10478          0          0          0          0         1  \n\n[2240 rows x 28 columns]",
      "text/html": "<div>\n<style scoped>\n    .dataframe tbody tr th:only-of-type {\n        vertical-align: middle;\n    }\n\n    .dataframe tbody tr th {\n        vertical-align: top;\n    }\n\n    .dataframe thead th {\n        text-align: right;\n    }\n</style>\n<table border=\"1\" class=\"dataframe\">\n  <thead>\n    <tr style=\"text-align: right;\">\n      <th></th>\n      <th>CostContact</th>\n      <th>Revenue</th>\n      <th>BirthYear</th>\n      <th>Education</th>\n      <th>MaritalStatus</th>\n      <th>NKids</th>\n      <th>NTeens</th>\n      <th>Income</th>\n      <th>MntWines</th>\n      <th>MntFruits</th>\n      <th>...</th>\n      <th>NWebPurchases</th>\n      <th>NCatalogPurchases</th>\n      <th>NStorePurchases</th>\n      <th>NWebVisitsMonth</th>\n      <th>Response1</th>\n      <th>Response2</th>\n      <th>Response3</th>\n      <th>Response4</th>\n      <th>Response5</th>\n      <th>Response</th>\n    </tr>\n    <tr>\n      <th>ID</th>\n      <th></th>\n      <th></th>\n      <th></th>\n      <th></th>\n      <th></th>\n      <th></th>\n      <th></th>\n      <th></th>\n      <th></th>\n      <th></th>\n      <th></th>\n      <th></th>\n      <th></th>\n      <th></th>\n      <th></th>\n      <th></th>\n      <th></th>\n      <th></th>\n      <th></th>\n      <th></th>\n      <th></th>\n    </tr>\n  </thead>\n  <tbody>\n    <tr>\n      <th>5314</th>\n      <td>3</td>\n      <td>11</td>\n      <td>1951.0</td>\n      <td>Graduation</td>\n      <td>Together</td>\n      <td>0.0</td>\n      <td>1.0</td>\n      <td>40689.0</td>\n      <td>270</td>\n      <td>3</td>\n      <td>...</td>\n      <td>7</td>\n      <td>1</td>\n      <td>5</td>\n      <td>8</td>\n      <td>0</td>\n      <td>0</td>\n      <td>0</td>\n      <td>0</td>\n      <td>0</td>\n      <td>0</td>\n    </tr>\n    <tr>\n      <th>2493</th>\n      <td>3</td>\n      <td>11</td>\n      <td>1966.0</td>\n      <td>Graduation</td>\n      <td>Married</td>\n      <td>0.0</td>\n      <td>1.0</td>\n      <td>61286.0</td>\n      <td>356</td>\n      <td>0</td>\n      <td>...</td>\n      <td>7</td>\n      <td>1</td>\n      <td>8</td>\n      <td>5</td>\n      <td>0</td>\n      <td>0</td>\n      <td>0</td>\n      <td>0</td>\n      <td>0</td>\n      <td>0</td>\n    </tr>\n    <tr>\n      <th>4931</th>\n      <td>3</td>\n      <td>11</td>\n      <td>1977.0</td>\n      <td>Graduation</td>\n      <td>Together</td>\n      <td>0.0</td>\n      <td>0.0</td>\n      <td>157146.0</td>\n      <td>1</td>\n      <td>0</td>\n      <td>...</td>\n      <td>0</td>\n      <td>28</td>\n      <td>0</td>\n      <td>1</td>\n      <td>0</td>\n      <td>0</td>\n      <td>0</td>\n      <td>0</td>\n      <td>0</td>\n      <td>0</td>\n    </tr>\n    <tr>\n      <th>1100</th>\n      <td>3</td>\n      <td>11</td>\n      <td>1960.0</td>\n      <td>Master</td>\n      <td>Together</td>\n      <td>1.0</td>\n      <td>2.0</td>\n      <td>41275.0</td>\n      <td>24</td>\n      <td>4</td>\n      <td>...</td>\n      <td>3</td>\n      <td>1</td>\n      <td>3</td>\n      <td>5</td>\n      <td>0</td>\n      <td>0</td>\n      <td>0</td>\n      <td>0</td>\n      <td>0</td>\n      <td>0</td>\n    </tr>\n    <tr>\n      <th>7224</th>\n      <td>3</td>\n      <td>11</td>\n      <td>1977.0</td>\n      <td>Graduation</td>\n      <td>Married</td>\n      <td>NaN</td>\n      <td>NaN</td>\n      <td>31353.0</td>\n      <td>10</td>\n      <td>0</td>\n      <td>...</td>\n      <td>1</td>\n      <td>1</td>\n      <td>2</td>\n      <td>8</td>\n      <td>0</td>\n      <td>0</td>\n      <td>0</td>\n      <td>0</td>\n      <td>0</td>\n      <td>0</td>\n    </tr>\n    <tr>\n      <th>...</th>\n      <td>...</td>\n      <td>...</td>\n      <td>...</td>\n      <td>...</td>\n      <td>...</td>\n      <td>...</td>\n      <td>...</td>\n      <td>...</td>\n      <td>...</td>\n      <td>...</td>\n      <td>...</td>\n      <td>...</td>\n      <td>...</td>\n      <td>...</td>\n      <td>...</td>\n      <td>...</td>\n      <td>...</td>\n      <td>...</td>\n      <td>...</td>\n      <td>...</td>\n      <td>...</td>\n    </tr>\n    <tr>\n      <th>10795</th>\n      <td>3</td>\n      <td>11</td>\n      <td>1973.0</td>\n      <td>PhD</td>\n      <td>Married</td>\n      <td>1.0</td>\n      <td>0.0</td>\n      <td>37401.0</td>\n      <td>19</td>\n      <td>3</td>\n      <td>...</td>\n      <td>2</td>\n      <td>0</td>\n      <td>3</td>\n      <td>7</td>\n      <td>0</td>\n      <td>0</td>\n      <td>0</td>\n      <td>0</td>\n      <td>0</td>\n      <td>0</td>\n    </tr>\n    <tr>\n      <th>5181</th>\n      <td>3</td>\n      <td>11</td>\n      <td>1982.0</td>\n      <td>Basic</td>\n      <td>Single</td>\n      <td>1.0</td>\n      <td>0.0</td>\n      <td>24367.0</td>\n      <td>2</td>\n      <td>4</td>\n      <td>...</td>\n      <td>1</td>\n      <td>0</td>\n      <td>2</td>\n      <td>9</td>\n      <td>0</td>\n      <td>0</td>\n      <td>0</td>\n      <td>0</td>\n      <td>0</td>\n      <td>0</td>\n    </tr>\n    <tr>\n      <th>5758</th>\n      <td>3</td>\n      <td>11</td>\n      <td>1982.0</td>\n      <td>Graduation</td>\n      <td>Married</td>\n      <td>0.0</td>\n      <td>0.0</td>\n      <td>65169.0</td>\n      <td>1074</td>\n      <td>0</td>\n      <td>...</td>\n      <td>10</td>\n      <td>4</td>\n      <td>13</td>\n      <td>6</td>\n      <td>1</td>\n      <td>1</td>\n      <td>1</td>\n      <td>0</td>\n      <td>1</td>\n      <td>1</td>\n    </tr>\n    <tr>\n      <th>9729</th>\n      <td>3</td>\n      <td>11</td>\n      <td>1955.0</td>\n      <td>Graduation</td>\n      <td>Widow</td>\n      <td>1.0</td>\n      <td>1.0</td>\n      <td>58275.0</td>\n      <td>189</td>\n      <td>10</td>\n      <td>...</td>\n      <td>8</td>\n      <td>2</td>\n      <td>7</td>\n      <td>7</td>\n      <td>0</td>\n      <td>0</td>\n      <td>0</td>\n      <td>0</td>\n      <td>0</td>\n      <td>0</td>\n    </tr>\n    <tr>\n      <th>10478</th>\n      <td>3</td>\n      <td>11</td>\n      <td>1950.0</td>\n      <td>PhD</td>\n      <td>Married</td>\n      <td>1.0</td>\n      <td>1.0</td>\n      <td>55517.0</td>\n      <td>483</td>\n      <td>0</td>\n      <td>...</td>\n      <td>11</td>\n      <td>1</td>\n      <td>6</td>\n      <td>9</td>\n      <td>0</td>\n      <td>0</td>\n      <td>0</td>\n      <td>0</td>\n      <td>0</td>\n      <td>1</td>\n    </tr>\n  </tbody>\n</table>\n<p>2240 rows × 28 columns</p>\n</div>"
     },
     "execution_count": 6,
     "metadata": {},
     "output_type": "execute_result"
    }
   ],
   "source": [
    "data"
   ]
  },
  {
   "cell_type": "markdown",
   "id": "884a3dac",
   "metadata": {},
   "source": [
    "Finally, in this last cell of the notebook, the combined dataframe is exported to the designated location in variable `path` in an Excel format."
   ]
  },
  {
   "cell_type": "code",
   "execution_count": 7,
   "id": "b70acb44",
   "metadata": {
    "collapsed": false,
    "jupyter": {
     "outputs_hidden": false
    }
   },
   "outputs": [],
   "source": [
    "data.to_excel(path + \"1Combine.xlsx\")"
   ]
  }
 ],
 "metadata": {
  "kernelspec": {
   "display_name": "Python 3",
   "language": "python",
   "name": "python3"
  },
  "language_info": {
   "codemirror_mode": {
    "name": "ipython",
    "version": 3
   },
   "file_extension": ".py",
   "mimetype": "text/x-python",
   "name": "python",
   "nbconvert_exporter": "python",
   "pygments_lexer": "ipython3",
   "version": "3.8.8"
  }
 },
 "nbformat": 4,
 "nbformat_minor": 5
}
