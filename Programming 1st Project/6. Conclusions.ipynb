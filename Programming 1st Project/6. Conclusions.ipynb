{
 "cells": [
  {
   "cell_type": "markdown",
   "id": "7ca27303-d897-43bc-b1f1-785117c51a3d",
   "metadata": {
    "tags": []
   },
   "source": [
    "**Group Members:**\n",
    "- Afonso Cadete | 20211519@novaims.unl.pt\n",
    "- Catarina Oliveira | 20211616@novaims.unl.pt\n",
    "- Joana Rosa | 20211516@novaims.unl.pt\n",
    "- Rita Centeno | 20211579@novaims.unl.pt"
   ],
   "outputs": []
  },
  {
   "cell_type": "markdown",
   "source": [
    "# 6. Jupyter Notebook - Conclusion\n",
    "# Conclusions of the obtained values and description of the final set of respondents and their characteristics."
   ],
   "metadata": {
    "collapsed": false
   }
  },
  {
   "cell_type": "markdown",
   "id": "5ca23c69-85e5-483f-834d-02c6601052a2",
   "metadata": {},
   "source": [
    "From the analysis, the obtained profit was 601 monetary units. This value was obtained with the combination of the following features: `Education`; `TotalResponses`; `FamilySize`; `MntTotal`; `%IncomeSpent`; `TotalPurchases`; `MntGoldProds`.\n",
    "As mentioned previously, it was necessary to find a balance between rate and count in order to maximize the company’s profit. This meant choosing the groups of observations that had a high rate of success while also having a sufficiently representative number of observations belonging to it. At a first glance, it might not be obvious that having 0.25% of possible profit is a pretty positive outcome. However, when trying to find certain rules it is not that easy to reach large values. Having this goal in mind, it would be counterproductive to follow this train of thought: “an easy way to increase the value of the profit is to decrease the number of observations per group (count)”. This would lead to an over-specification of the rules, which would lead to a higher presence of very specific characteristics."
   ]
  },
  {
   "cell_type": "markdown",
   "id": "9633de4f-56fe-4073-b8db-1c1e7aca6394",
   "metadata": {},
   "source": [
    "- Categorical\n",
    "\n",
    "In order to divide into groups with similar characteristics, let's start by distinguishing the levels of education. The best buyers, as a rule, go into higher education, with graduates, masters, or even individuals with a Ph.D. standing out in the analysis. <br>\n",
    "The groups of graduates are divided between responding positively to the previous campaigns by a total of 1 or 3. Those who accepted only 1 live alone and in the case of 3 live accompanied by another person. <br>\n",
    "Of those who have obtained a master's degree, only clients who have not accepted any previous campaign and live alone stand out. <br>\n",
    "On the part of the PhDs the scale is larger, since they accepted from 0 to 2 campaigns. Those who accepted none live alone, in the case of 1 live either alone or with 2 other people, and those who approved 2 live accompanied by another person.\n",
    "\n",
    "After this brief explanation, we realize that the company tends to attract people who are more lonely or who live accompanied by another individual. The number of TotalResponses is not as high as one would expect and ends up being around 1 successful ex-campaign before. Seeing the range of breadth when individuals obtained their Ph.D., we can conclude that academic education is central to attracting customers; the greater the knowledge, the greater the willingness to spend on the company.\n",
    "\n",
    "- Numerical\n",
    "\n",
    "In the case of the numeric variables, the grouping begins by distinguishing monetary expenses, highlighting customers with expenses from 43 to 181 or from 1101 to 2491. <br>\n",
    "Those who fall into the first option spend between 0.209 to 0.495% of their money in the company, have total purchases between 5 and 9, and specific spending and gold products were 34 to 71.\n",
    "On the other hand, those who offer the most profit to the company start by dividing by %IncomeSpent. <br> If they spent between 0.495 and 0.793%, they made between 20 and 32 purchases and spent between 71 and 249 monetary amounts on gold products. <br>\n",
    "If they spent between 0.793 and 35.329%, they must have bought 9 to 15 products, 15 to 20, or 20 to 32. In the first option, there is the possibility of the spending on gold products between 34 to 249. In the second alternative, the spending on exclusives was from 16 to 34.\n",
    "<br> Nevertheless, in the last possibility, this kind of spending ranged from 16 to 249. <br>\n",
    "In summary, customers with more potential present a high MntTotal, as expected. However, there is a group that presents less expressive values, not in this variable but in %IncomeSpent and total purchase. This group stands out for its interest in gold products, which, in this case, is at a higher level. What remains is what was already predicted, the main stakeholders of the campaign are loyal customers that have already created a bond of trust with the company, dedicating a good percentage of their income to it with many purchases and monetary transactions, namely in gold products."
   ]
  }
 ],
 "metadata": {
  "kernelspec": {
   "display_name": "Python 3 (ipykernel)",
   "language": "python",
   "name": "python3"
  },
  "language_info": {
   "codemirror_mode": {
    "name": "ipython",
    "version": 3
   },
   "file_extension": ".py",
   "mimetype": "text/x-python",
   "name": "python",
   "nbconvert_exporter": "python",
   "pygments_lexer": "ipython3",
   "version": "3.9.13"
  }
 },
 "nbformat": 4,
 "nbformat_minor": 5
}
