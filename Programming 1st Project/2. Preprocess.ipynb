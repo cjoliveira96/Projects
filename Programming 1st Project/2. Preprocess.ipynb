{
 "cells": [
  {
   "cell_type": "markdown",
   "metadata": {},
   "source": [
    "**Group Members**:\n",
    "- Afonso Cadete | 20211519@novaims.unl.pt\n",
    "- Catarina Oliveira | 20211616@novaims.unl.pt\n",
    "- Joana Rosa | 20211516@novaims.unl.pt\n",
    "- Rita Centeno | 20211579@novaims.unl.pt"
   ]
  },
  {
   "cell_type": "markdown",
   "metadata": {},
   "source": [
    "# 2. Jupyter Notebook - Preprocess\n",
    "# Data Pre-processing\n",
    "\n",
    "In this Jupyter Notebook, the previously combined dataframe is analysed and treated in regard to:\n",
    "- data inconsistencies;\n",
    "- missing values;\n",
    "- outliers.\n",
    "\n",
    "A brief description of the dataset structure is also presented."
   ]
  },
  {
   "cell_type": "markdown",
   "metadata": {},
   "source": [
    "Importation of needed libraries for the pre-processing of the variables of the dataset."
   ]
  },
  {
   "cell_type": "code",
   "execution_count": 1,
   "metadata": {},
   "outputs": [],
   "source": [
    "# Libraries Importation\n",
    "import numpy as np\n",
    "import pandas as pd\n",
    "# conda install sklearn\n",
    "import matplotlib.pyplot as plt\n",
    "\n",
    "from sklearn.preprocessing import RobustScaler\n",
    "from sklearn.impute import KNNImputer"
   ]
  },
  {
   "cell_type": "markdown",
   "metadata": {},
   "source": [
    "## Opening the data\n",
    "\n",
    "The combined dataset (exported at the end of the first Jupyter Notebook - Combine) has to be imported into this new jupyter notebook in order for the description of the dataset and feature treatment and transformation to be applied."
   ]
  },
  {
   "cell_type": "code",
   "execution_count": 2,
   "metadata": {},
   "outputs": [
    {
     "data": {
      "text/plain": "      CostContact  Revenue  BirthYear   Education MaritalStatus  NKids  \\\nID                                                                       \n5314            3       11     1951.0  Graduation      Together    0.0   \n2493            3       11     1966.0  Graduation       Married    0.0   \n4931            3       11     1977.0  Graduation      Together    0.0   \n1100            3       11     1960.0      Master      Together    1.0   \n7224            3       11     1977.0  Graduation       Married    NaN   \n\n      NTeens    Income  MntWines  MntFruits  ...  NWebPurchases  \\\nID                                           ...                  \n5314     1.0   40689.0       270          3  ...              7   \n2493     1.0   61286.0       356          0  ...              7   \n4931     0.0  157146.0         1          0  ...              0   \n1100     2.0   41275.0        24          4  ...              3   \n7224     NaN   31353.0        10          0  ...              1   \n\n      NCatalogPurchases  NStorePurchases  NWebVisitsMonth Response1  \\\nID                                                                    \n5314                  1                5                8         0   \n2493                  1                8                5         0   \n4931                 28                0                1         0   \n1100                  1                3                5         0   \n7224                  1                2                8         0   \n\n      Response2  Response3  Response4  Response5  Response  \nID                                                          \n5314          0          0          0          0         0  \n2493          0          0          0          0         0  \n4931          0          0          0          0         0  \n1100          0          0          0          0         0  \n7224          0          0          0          0         0  \n\n[5 rows x 28 columns]",
      "text/html": "<div>\n<style scoped>\n    .dataframe tbody tr th:only-of-type {\n        vertical-align: middle;\n    }\n\n    .dataframe tbody tr th {\n        vertical-align: top;\n    }\n\n    .dataframe thead th {\n        text-align: right;\n    }\n</style>\n<table border=\"1\" class=\"dataframe\">\n  <thead>\n    <tr style=\"text-align: right;\">\n      <th></th>\n      <th>CostContact</th>\n      <th>Revenue</th>\n      <th>BirthYear</th>\n      <th>Education</th>\n      <th>MaritalStatus</th>\n      <th>NKids</th>\n      <th>NTeens</th>\n      <th>Income</th>\n      <th>MntWines</th>\n      <th>MntFruits</th>\n      <th>...</th>\n      <th>NWebPurchases</th>\n      <th>NCatalogPurchases</th>\n      <th>NStorePurchases</th>\n      <th>NWebVisitsMonth</th>\n      <th>Response1</th>\n      <th>Response2</th>\n      <th>Response3</th>\n      <th>Response4</th>\n      <th>Response5</th>\n      <th>Response</th>\n    </tr>\n    <tr>\n      <th>ID</th>\n      <th></th>\n      <th></th>\n      <th></th>\n      <th></th>\n      <th></th>\n      <th></th>\n      <th></th>\n      <th></th>\n      <th></th>\n      <th></th>\n      <th></th>\n      <th></th>\n      <th></th>\n      <th></th>\n      <th></th>\n      <th></th>\n      <th></th>\n      <th></th>\n      <th></th>\n      <th></th>\n      <th></th>\n    </tr>\n  </thead>\n  <tbody>\n    <tr>\n      <th>5314</th>\n      <td>3</td>\n      <td>11</td>\n      <td>1951.0</td>\n      <td>Graduation</td>\n      <td>Together</td>\n      <td>0.0</td>\n      <td>1.0</td>\n      <td>40689.0</td>\n      <td>270</td>\n      <td>3</td>\n      <td>...</td>\n      <td>7</td>\n      <td>1</td>\n      <td>5</td>\n      <td>8</td>\n      <td>0</td>\n      <td>0</td>\n      <td>0</td>\n      <td>0</td>\n      <td>0</td>\n      <td>0</td>\n    </tr>\n    <tr>\n      <th>2493</th>\n      <td>3</td>\n      <td>11</td>\n      <td>1966.0</td>\n      <td>Graduation</td>\n      <td>Married</td>\n      <td>0.0</td>\n      <td>1.0</td>\n      <td>61286.0</td>\n      <td>356</td>\n      <td>0</td>\n      <td>...</td>\n      <td>7</td>\n      <td>1</td>\n      <td>8</td>\n      <td>5</td>\n      <td>0</td>\n      <td>0</td>\n      <td>0</td>\n      <td>0</td>\n      <td>0</td>\n      <td>0</td>\n    </tr>\n    <tr>\n      <th>4931</th>\n      <td>3</td>\n      <td>11</td>\n      <td>1977.0</td>\n      <td>Graduation</td>\n      <td>Together</td>\n      <td>0.0</td>\n      <td>0.0</td>\n      <td>157146.0</td>\n      <td>1</td>\n      <td>0</td>\n      <td>...</td>\n      <td>0</td>\n      <td>28</td>\n      <td>0</td>\n      <td>1</td>\n      <td>0</td>\n      <td>0</td>\n      <td>0</td>\n      <td>0</td>\n      <td>0</td>\n      <td>0</td>\n    </tr>\n    <tr>\n      <th>1100</th>\n      <td>3</td>\n      <td>11</td>\n      <td>1960.0</td>\n      <td>Master</td>\n      <td>Together</td>\n      <td>1.0</td>\n      <td>2.0</td>\n      <td>41275.0</td>\n      <td>24</td>\n      <td>4</td>\n      <td>...</td>\n      <td>3</td>\n      <td>1</td>\n      <td>3</td>\n      <td>5</td>\n      <td>0</td>\n      <td>0</td>\n      <td>0</td>\n      <td>0</td>\n      <td>0</td>\n      <td>0</td>\n    </tr>\n    <tr>\n      <th>7224</th>\n      <td>3</td>\n      <td>11</td>\n      <td>1977.0</td>\n      <td>Graduation</td>\n      <td>Married</td>\n      <td>NaN</td>\n      <td>NaN</td>\n      <td>31353.0</td>\n      <td>10</td>\n      <td>0</td>\n      <td>...</td>\n      <td>1</td>\n      <td>1</td>\n      <td>2</td>\n      <td>8</td>\n      <td>0</td>\n      <td>0</td>\n      <td>0</td>\n      <td>0</td>\n      <td>0</td>\n      <td>0</td>\n    </tr>\n  </tbody>\n</table>\n<p>5 rows × 28 columns</p>\n</div>"
     },
     "execution_count": 2,
     "metadata": {},
     "output_type": "execute_result"
    }
   ],
   "source": [
    "# Importation of the Combined Dataset\n",
    "\n",
    "# This path should be changed into the path where the Excel document \"1Combine\" was stored.\n",
    "path = 'C:\\\\Users\\\\joana\\\\Documents\\\\Joana Rita\\\\Universidade\\\\Data Science\\\\Year 2\\\\1st Semester\\\\Programming for Data Science\\\\1st Project\\\\'\n",
    "# Read the Excel document and define that the 'ID' column is the index of the dataset\n",
    "data_original = pd.read_excel(path + '1Combine.xlsx', index_col = 'ID')\n",
    "# Creating a copy of the imported data, so that the original one is never changed\n",
    "data = data_original.copy()\n",
    "\n",
    "# Calling the head of the dataset, to ensure the import was correctly done.\n",
    "data.head()"
   ]
  },
  {
   "cell_type": "markdown",
   "metadata": {},
   "source": [
    "As all variables and their respective values, show in the above head of the data dataframe, are the same as the ones from the previous Jupyter Notebook (1. Combine) it is possible to conclude that the dataset was rightfully imported into this new notebook."
   ]
  },
  {
   "cell_type": "markdown",
   "metadata": {},
   "source": [
    "## Description of the Dataset"
   ]
  },
  {
   "cell_type": "markdown",
   "metadata": {},
   "source": [
    "In this sub-part of the project, the description of the dataset will be performed in terms of:\n",
    "- analysis of which variables have missing values;\n",
    "- description of the variable types that exist in the dataset;\n",
    "- analysis of the descriptive statistics of the variables of the dataset."
   ]
  },
  {
   "cell_type": "code",
   "execution_count": 3,
   "metadata": {
    "collapsed": false,
    "jupyter": {
     "outputs_hidden": false
    }
   },
   "outputs": [
    {
     "name": "stdout",
     "output_type": "stream",
     "text": [
      "<class 'pandas.core.frame.DataFrame'>\n",
      "Int64Index: 2240 entries, 5314 to 10478\n",
      "Data columns (total 28 columns):\n",
      " #   Column             Non-Null Count  Dtype  \n",
      "---  ------             --------------  -----  \n",
      " 0   CostContact        2240 non-null   int64  \n",
      " 1   Revenue            2240 non-null   int64  \n",
      " 2   BirthYear          2218 non-null   float64\n",
      " 3   Education          2209 non-null   object \n",
      " 4   MaritalStatus      2240 non-null   object \n",
      " 5   NKids              2212 non-null   float64\n",
      " 6   NTeens             2212 non-null   float64\n",
      " 7   Income             2189 non-null   float64\n",
      " 8   MntWines           2240 non-null   int64  \n",
      " 9   MntFruits          2240 non-null   int64  \n",
      " 10  MntMeatProducts    2240 non-null   int64  \n",
      " 11  MntFishProducts    2240 non-null   int64  \n",
      " 12  MntSweetProducts   2240 non-null   int64  \n",
      " 13  MntGoldProds       2240 non-null   int64  \n",
      " 14  CustomerFrom       2240 non-null   object \n",
      " 15  Complain           2240 non-null   int64  \n",
      " 16  Recency            2240 non-null   int64  \n",
      " 17  NDealsPurchases    2240 non-null   int64  \n",
      " 18  NWebPurchases      2240 non-null   int64  \n",
      " 19  NCatalogPurchases  2240 non-null   int64  \n",
      " 20  NStorePurchases    2240 non-null   int64  \n",
      " 21  NWebVisitsMonth    2240 non-null   int64  \n",
      " 22  Response1          2240 non-null   int64  \n",
      " 23  Response2          2240 non-null   int64  \n",
      " 24  Response3          2240 non-null   int64  \n",
      " 25  Response4          2240 non-null   int64  \n",
      " 26  Response5          2240 non-null   int64  \n",
      " 27  Response           2240 non-null   int64  \n",
      "dtypes: float64(4), int64(21), object(3)\n",
      "memory usage: 507.5+ KB\n"
     ]
    }
   ],
   "source": [
    "data.info()"
   ]
  },
  {
   "cell_type": "markdown",
   "metadata": {},
   "source": [
    "From the above information on the variables of the dataset it is possible to conclude that `BirthYear`, `Education`, `Nkids`, `Nteens` and `Income` have 22, 31, 28, 28 and 51 missing values, respectively. Further on in this document all missing values will be treated.\n",
    "\n",
    "Additionally, it can also be stated that, in this dataset, there are only three types of variables: object, int64 and float 64."
   ]
  },
  {
   "cell_type": "code",
   "execution_count": 4,
   "metadata": {},
   "outputs": [
    {
     "data": {
      "text/plain": "                    count          mean           std     min       25%  \\\nCostContact        2240.0      3.000000  0.000000e+00     3.0      3.00   \nRevenue            2240.0     11.000000  0.000000e+00    11.0     11.00   \nBirthYear          2218.0   1968.768711  1.198568e+01  1893.0   1959.00   \nNKids              2212.0      0.444394  5.389239e-01     0.0      0.00   \nNTeens             2212.0      0.507685  5.433989e-01     0.0      0.00   \nIncome             2189.0  97943.443582  2.136389e+06  1730.0  35340.00   \nMntWines           2240.0    303.935714  3.365974e+02     0.0     23.75   \nMntFruits          2240.0     26.302232  3.977343e+01     0.0      1.00   \nMntMeatProducts    2240.0    166.950000  2.257154e+02     0.0     16.00   \nMntFishProducts    2240.0     37.525446  5.462898e+01     0.0      3.00   \nMntSweetProducts   2240.0     27.062946  4.128050e+01     0.0      1.00   \nMntGoldProds       2240.0     44.021875  5.216744e+01     0.0      9.00   \nComplain           2240.0      0.009375  9.639117e-02     0.0      0.00   \nRecency            2240.0     49.109375  2.896245e+01     0.0     24.00   \nNDealsPurchases    2240.0      2.325000  1.932238e+00     0.0      1.00   \nNWebPurchases      2240.0      4.084821  2.778714e+00     0.0      2.00   \nNCatalogPurchases  2240.0      2.662054  2.923101e+00     0.0      0.00   \nNStorePurchases    2240.0      5.790179  3.250958e+00     0.0      3.00   \nNWebVisitsMonth    2240.0      5.316518  2.426645e+00     0.0      3.00   \nResponse1          2240.0      0.064286  2.453160e-01     0.0      0.00   \nResponse2          2240.0      0.013393  1.149756e-01     0.0      0.00   \nResponse3          2240.0      0.072768  2.598131e-01     0.0      0.00   \nResponse4          2240.0      0.074554  2.627283e-01     0.0      0.00   \nResponse5          2240.0      0.072768  2.598131e-01     0.0      0.00   \nResponse           2240.0      0.149107  3.562736e-01     0.0      0.00   \n\n                       50%       75%         max  \nCostContact            3.0      3.00         3.0  \nRevenue               11.0     11.00        11.0  \nBirthYear           1970.0   1977.00      1996.0  \nNKids                  0.0      1.00         2.0  \nNTeens                 0.0      1.00         2.0  \nIncome             51412.0  68655.00  99999999.0  \nMntWines             173.5    504.25      1493.0  \nMntFruits              8.0     33.00       199.0  \nMntMeatProducts       67.0    232.00      1725.0  \nMntFishProducts       12.0     50.00       259.0  \nMntSweetProducts       8.0     33.00       263.0  \nMntGoldProds          24.0     56.00       362.0  \nComplain               0.0      0.00         1.0  \nRecency               49.0     74.00        99.0  \nNDealsPurchases        2.0      3.00        15.0  \nNWebPurchases          4.0      6.00        27.0  \nNCatalogPurchases      2.0      4.00        28.0  \nNStorePurchases        5.0      8.00        13.0  \nNWebVisitsMonth        6.0      7.00        20.0  \nResponse1              0.0      0.00         1.0  \nResponse2              0.0      0.00         1.0  \nResponse3              0.0      0.00         1.0  \nResponse4              0.0      0.00         1.0  \nResponse5              0.0      0.00         1.0  \nResponse               0.0      0.00         1.0  ",
      "text/html": "<div>\n<style scoped>\n    .dataframe tbody tr th:only-of-type {\n        vertical-align: middle;\n    }\n\n    .dataframe tbody tr th {\n        vertical-align: top;\n    }\n\n    .dataframe thead th {\n        text-align: right;\n    }\n</style>\n<table border=\"1\" class=\"dataframe\">\n  <thead>\n    <tr style=\"text-align: right;\">\n      <th></th>\n      <th>count</th>\n      <th>mean</th>\n      <th>std</th>\n      <th>min</th>\n      <th>25%</th>\n      <th>50%</th>\n      <th>75%</th>\n      <th>max</th>\n    </tr>\n  </thead>\n  <tbody>\n    <tr>\n      <th>CostContact</th>\n      <td>2240.0</td>\n      <td>3.000000</td>\n      <td>0.000000e+00</td>\n      <td>3.0</td>\n      <td>3.00</td>\n      <td>3.0</td>\n      <td>3.00</td>\n      <td>3.0</td>\n    </tr>\n    <tr>\n      <th>Revenue</th>\n      <td>2240.0</td>\n      <td>11.000000</td>\n      <td>0.000000e+00</td>\n      <td>11.0</td>\n      <td>11.00</td>\n      <td>11.0</td>\n      <td>11.00</td>\n      <td>11.0</td>\n    </tr>\n    <tr>\n      <th>BirthYear</th>\n      <td>2218.0</td>\n      <td>1968.768711</td>\n      <td>1.198568e+01</td>\n      <td>1893.0</td>\n      <td>1959.00</td>\n      <td>1970.0</td>\n      <td>1977.00</td>\n      <td>1996.0</td>\n    </tr>\n    <tr>\n      <th>NKids</th>\n      <td>2212.0</td>\n      <td>0.444394</td>\n      <td>5.389239e-01</td>\n      <td>0.0</td>\n      <td>0.00</td>\n      <td>0.0</td>\n      <td>1.00</td>\n      <td>2.0</td>\n    </tr>\n    <tr>\n      <th>NTeens</th>\n      <td>2212.0</td>\n      <td>0.507685</td>\n      <td>5.433989e-01</td>\n      <td>0.0</td>\n      <td>0.00</td>\n      <td>0.0</td>\n      <td>1.00</td>\n      <td>2.0</td>\n    </tr>\n    <tr>\n      <th>Income</th>\n      <td>2189.0</td>\n      <td>97943.443582</td>\n      <td>2.136389e+06</td>\n      <td>1730.0</td>\n      <td>35340.00</td>\n      <td>51412.0</td>\n      <td>68655.00</td>\n      <td>99999999.0</td>\n    </tr>\n    <tr>\n      <th>MntWines</th>\n      <td>2240.0</td>\n      <td>303.935714</td>\n      <td>3.365974e+02</td>\n      <td>0.0</td>\n      <td>23.75</td>\n      <td>173.5</td>\n      <td>504.25</td>\n      <td>1493.0</td>\n    </tr>\n    <tr>\n      <th>MntFruits</th>\n      <td>2240.0</td>\n      <td>26.302232</td>\n      <td>3.977343e+01</td>\n      <td>0.0</td>\n      <td>1.00</td>\n      <td>8.0</td>\n      <td>33.00</td>\n      <td>199.0</td>\n    </tr>\n    <tr>\n      <th>MntMeatProducts</th>\n      <td>2240.0</td>\n      <td>166.950000</td>\n      <td>2.257154e+02</td>\n      <td>0.0</td>\n      <td>16.00</td>\n      <td>67.0</td>\n      <td>232.00</td>\n      <td>1725.0</td>\n    </tr>\n    <tr>\n      <th>MntFishProducts</th>\n      <td>2240.0</td>\n      <td>37.525446</td>\n      <td>5.462898e+01</td>\n      <td>0.0</td>\n      <td>3.00</td>\n      <td>12.0</td>\n      <td>50.00</td>\n      <td>259.0</td>\n    </tr>\n    <tr>\n      <th>MntSweetProducts</th>\n      <td>2240.0</td>\n      <td>27.062946</td>\n      <td>4.128050e+01</td>\n      <td>0.0</td>\n      <td>1.00</td>\n      <td>8.0</td>\n      <td>33.00</td>\n      <td>263.0</td>\n    </tr>\n    <tr>\n      <th>MntGoldProds</th>\n      <td>2240.0</td>\n      <td>44.021875</td>\n      <td>5.216744e+01</td>\n      <td>0.0</td>\n      <td>9.00</td>\n      <td>24.0</td>\n      <td>56.00</td>\n      <td>362.0</td>\n    </tr>\n    <tr>\n      <th>Complain</th>\n      <td>2240.0</td>\n      <td>0.009375</td>\n      <td>9.639117e-02</td>\n      <td>0.0</td>\n      <td>0.00</td>\n      <td>0.0</td>\n      <td>0.00</td>\n      <td>1.0</td>\n    </tr>\n    <tr>\n      <th>Recency</th>\n      <td>2240.0</td>\n      <td>49.109375</td>\n      <td>2.896245e+01</td>\n      <td>0.0</td>\n      <td>24.00</td>\n      <td>49.0</td>\n      <td>74.00</td>\n      <td>99.0</td>\n    </tr>\n    <tr>\n      <th>NDealsPurchases</th>\n      <td>2240.0</td>\n      <td>2.325000</td>\n      <td>1.932238e+00</td>\n      <td>0.0</td>\n      <td>1.00</td>\n      <td>2.0</td>\n      <td>3.00</td>\n      <td>15.0</td>\n    </tr>\n    <tr>\n      <th>NWebPurchases</th>\n      <td>2240.0</td>\n      <td>4.084821</td>\n      <td>2.778714e+00</td>\n      <td>0.0</td>\n      <td>2.00</td>\n      <td>4.0</td>\n      <td>6.00</td>\n      <td>27.0</td>\n    </tr>\n    <tr>\n      <th>NCatalogPurchases</th>\n      <td>2240.0</td>\n      <td>2.662054</td>\n      <td>2.923101e+00</td>\n      <td>0.0</td>\n      <td>0.00</td>\n      <td>2.0</td>\n      <td>4.00</td>\n      <td>28.0</td>\n    </tr>\n    <tr>\n      <th>NStorePurchases</th>\n      <td>2240.0</td>\n      <td>5.790179</td>\n      <td>3.250958e+00</td>\n      <td>0.0</td>\n      <td>3.00</td>\n      <td>5.0</td>\n      <td>8.00</td>\n      <td>13.0</td>\n    </tr>\n    <tr>\n      <th>NWebVisitsMonth</th>\n      <td>2240.0</td>\n      <td>5.316518</td>\n      <td>2.426645e+00</td>\n      <td>0.0</td>\n      <td>3.00</td>\n      <td>6.0</td>\n      <td>7.00</td>\n      <td>20.0</td>\n    </tr>\n    <tr>\n      <th>Response1</th>\n      <td>2240.0</td>\n      <td>0.064286</td>\n      <td>2.453160e-01</td>\n      <td>0.0</td>\n      <td>0.00</td>\n      <td>0.0</td>\n      <td>0.00</td>\n      <td>1.0</td>\n    </tr>\n    <tr>\n      <th>Response2</th>\n      <td>2240.0</td>\n      <td>0.013393</td>\n      <td>1.149756e-01</td>\n      <td>0.0</td>\n      <td>0.00</td>\n      <td>0.0</td>\n      <td>0.00</td>\n      <td>1.0</td>\n    </tr>\n    <tr>\n      <th>Response3</th>\n      <td>2240.0</td>\n      <td>0.072768</td>\n      <td>2.598131e-01</td>\n      <td>0.0</td>\n      <td>0.00</td>\n      <td>0.0</td>\n      <td>0.00</td>\n      <td>1.0</td>\n    </tr>\n    <tr>\n      <th>Response4</th>\n      <td>2240.0</td>\n      <td>0.074554</td>\n      <td>2.627283e-01</td>\n      <td>0.0</td>\n      <td>0.00</td>\n      <td>0.0</td>\n      <td>0.00</td>\n      <td>1.0</td>\n    </tr>\n    <tr>\n      <th>Response5</th>\n      <td>2240.0</td>\n      <td>0.072768</td>\n      <td>2.598131e-01</td>\n      <td>0.0</td>\n      <td>0.00</td>\n      <td>0.0</td>\n      <td>0.00</td>\n      <td>1.0</td>\n    </tr>\n    <tr>\n      <th>Response</th>\n      <td>2240.0</td>\n      <td>0.149107</td>\n      <td>3.562736e-01</td>\n      <td>0.0</td>\n      <td>0.00</td>\n      <td>0.0</td>\n      <td>0.00</td>\n      <td>1.0</td>\n    </tr>\n  </tbody>\n</table>\n</div>"
     },
     "execution_count": 4,
     "metadata": {},
     "output_type": "execute_result"
    }
   ],
   "source": [
    "data.describe().T"
   ]
  },
  {
   "cell_type": "markdown",
   "metadata": {},
   "source": [
    "On the table above the descriptive statistics of all variables of the dataset were computed (count of values, mean, standard deviation, minimum value, 1st, 2nd and 3rd quartile, as well as the maximum values of the features).\n",
    "\n",
    "The first two variables of the dataset are `CostContact` and `Revenue`. In these, it is possible to check a null standard deviation (std = 0), which indicates that these features are constants, in the sense that they have the same value for all ID's of the dataset. In context, this can be justified by the fact that each cost of contact is three monetary units and the revenue if each client buys a campaign is 11 monetary units.\n",
    "\n",
    "Moving on to `BirthYear`,  since the value of the mean does not differ a lot from the one of the median, this seems to be an approximately normally distributed variable.\n",
    "However, due to the fact that there is at least a customer born in 1893 (123 years old) - which is almost humanly impossible (nobody lives that long), there is still the possibility for the existence of outliers in this feature.\n",
    "\n",
    "In terms of the `Income` feature, since the customers contacted may come from many backgrounds it is possible that they do earn more or less than each other. This can also explain the extremely large value of standard deviation, as well as the great difference between the value of the third and the fourth quartile of this variable. However, it is still very unlikely that someone is able to receive in a year worth of pay's 99999999.0 monetary units. Therefore, the existence of outliers in this variable is still not totally disregarded.\n",
    "\n",
    "One common characteristic to all monetary related features is that their values of mean and median are very distinct from each other. Therefore, indicating that these variables do not follow normal distributions. Given that all of them also have values for the third and fourth quartile that are very apart from each other and that the standard deviations are also high, it can be said that these variables have a high variability of the data (data is very varied). Furthermore, outliers do exist in most of these variables. In context, this can be explained by the fact that some customers prefers some products over others and therefore buy different quantities of each.\n",
    "\n",
    "`Recency` is the variable of the dataset that indicates the number of days since the customer last made a purchase in the company. As so, and by analysing the descriptive statistics, it is possible to conclude that this seems to be an approximately normally distributed variable. It also has a reasonable value of the standard deviation, which gives away that there is not much dispersion of the data (most of the customers made their last purchases on dates relatively close to each other).\n",
    "\n",
    "Finally, almost all purchase features (`NDealsPurchases`, `NCatalogPurchases`, `NStorePurchases`, `NWebPurchases`, `NWebPurchases`) and the feature `NWebVisitsMonth` have akin characteristics. These are:\n",
    "- similar values for the mean and median;\n",
    "- do not have a large value of standard deviation;\n",
    "- acceptable values of minimum and maximum of variables (there was no customer which made like 1000 type of purchases);\n",
    "- slight difference from the values of the third to the ones of the fourth quartile.\n",
    "\n",
    "Additionally, it is important to mention that the above descriptive statistics do not give us relevant information on the binary variables of the dataset (`NKids`, `NTeens`, `Complain`, `Response1`, `Response2`, `Response3`, `Response4`, `Response5`, `Response`), since only the maximum and the minimum values can be taken into account, 0 and 1 , respectively.\n"
   ]
  },
  {
   "cell_type": "markdown",
   "metadata": {},
   "source": [
    "### Approximately Normally Distributed Variables Analysis\n",
    "\n",
    "#### Boxplots\n",
    "\n",
    "According to [__Oxford Languages__](https://languages.oup.com/google-dictionary-en/) a boxplot, also denominated as box and whisker plot, is \"a simple way of representing statistical data on a plot in which a rectangle is drawn to represent the second and third quartiles, usually with a vertical line inside to indicate the median value. The lower and upper quartiles are shown as horizontal lines either side of the rectangle \".\n",
    "\n",
    "From the above analysis of the descriptive statistics of the variables, we considered some variables as being approximately normally distributed. As so, we will now verify if that is actually true or not. Meanwhile, trying to always confirm the existence of outliers in such variables."
   ]
  },
  {
   "cell_type": "code",
   "execution_count": 5,
   "metadata": {},
   "outputs": [
    {
     "data": {
      "text/plain": "<Figure size 864x720 with 2 Axes>",
      "image/png": "[encoded data removed]"
     },
     "metadata": {},
     "output_type": "display_data"
    }
   ],
   "source": [
    "fs = ['Income', 'MntWines', 'MntFruits', 'MntMeatProducts', 'MntFishProducts', 'MntSweetProducts', \n",
    "     'MntGoldProds', 'NDealsPurchases', 'NWebPurchases', 'NCatalogPurchases', 'NStorePurchases','NWebVisitsMonth']\n",
    "\n",
    "fs_new = ['BirthYear', 'Recency']\n",
    "\n",
    "nrows, ncols = 1,2\n",
    "fig, axes = plt.subplots(nrows=nrows, ncols=ncols, figsize=(12, 10))\n",
    "fig.subplots_adjust(wspace=0.35, hspace=0.25)\n",
    "\n",
    "for i, f in enumerate(fs_new):\n",
    "    data.boxplot(f, ax=axes.flatten()[i])\n",
    "\n",
    "plt.tight_layout()"
   ]
  },
  {
   "cell_type": "markdown",
   "metadata": {},
   "source": [
    "From the boxplots that were just computed it can be said that for the `BirthYear` feature does indeed show points that are far away from the minimum value of the variable. Which means that these points possibly be outliers of the dataset. The point that is further away from the minimum value is someone who was born before 1900, which is most likely the one client, already mentioned before, which was born in 1893 (123 years old). Therefore, confirming our hypothesis.\n",
    "\n",
    "As for the `Recency` variable, it apparently shows no outliers and it is possible to verify that it is pretty normally distributed."
   ]
  },
  {
   "cell_type": "markdown",
   "metadata": {},
   "source": [
    "#### Histograms\n",
    "\n",
    "According to Cambridge Dictionary, [__Histograms__](https://dictionary.cambridge.org/dictionary/english/histogram) are \"a mathematical picture that uses vertical columns of different heights to show ranges of weight, height, time, etc. or frequencies (= how many times something happens).\"\n",
    "\n",
    "In the next cells, histograms for all continuous variables which were not defined as being normally distributed will be computed."
   ]
  },
  {
   "cell_type": "code",
   "execution_count": 6,
   "metadata": {
    "collapsed": false,
    "jupyter": {
     "outputs_hidden": false
    }
   },
   "outputs": [
    {
     "data": {
      "text/plain": "<Figure size 432x288 with 1 Axes>",
      "image/png": "[encoded data removed]"
     },
     "metadata": {},
     "output_type": "display_data"
    },
    {
     "data": {
      "text/plain": "<Figure size 432x288 with 1 Axes>",
      "image/png": "[encoded data removed]"
     },
     "metadata": {},
     "output_type": "display_data"
    },
    {
     "data": {
      "text/plain": "<Figure size 432x288 with 1 Axes>",
      "image/png": "[encoded data removed]"
     },
     "metadata": {},
     "output_type": "display_data"
    },
    {
     "data": {
      "text/plain": "<Figure size 432x288 with 1 Axes>",
      "image/png": "[encoded data removed]"
     },
     "metadata": {},
     "output_type": "display_data"
    },
    {
     "data": {
      "text/plain": "<Figure size 432x288 with 1 Axes>",
      "image/png": "[encoded data removed]"
     },
     "metadata": {},
     "output_type": "display_data"
    },
    {
     "data": {
      "text/plain": "<Figure size 432x288 with 1 Axes>",
      "image/png": "[encoded data removed]"
     },
     "metadata": {},
     "output_type": "display_data"
    },
    {
     "data": {
      "text/plain": "<Figure size 432x288 with 1 Axes>",
      "image/png": "[encoded data removed]"
     },
     "metadata": {},
     "output_type": "display_data"
    }
   ],
   "source": [
    "hist_var = ['Income', 'MntWines', 'MntFruits', 'MntFishProducts', 'MntMeatProducts', 'MntSweetProducts', 'MntGoldProds']\n",
    "\n",
    "for var in hist_var:\n",
    "    plt.title(var)\n",
    "    plt.hist(data[var])\n",
    "    plt.show()"
   ]
  },
  {
   "cell_type": "markdown",
   "metadata": {},
   "source": [
    "From the just computed histograms it was possible to conclude all analysed variables by the histograms, except `Income`, show extremely right-skewed distributions (that can be fixed by logarithmic transformations).\n",
    "\n",
    "Additionally, the variable `Income` only shows one peak in it's above computed histogram. As so and in order to verify this hypothesis, in the next few cells the outliers of this feature were analyzed and removed in a separate variable (so to not alter all the dataset)."
   ]
  },
  {
   "cell_type": "code",
   "execution_count": 7,
   "metadata": {},
   "outputs": [
    {
     "data": {
      "text/plain": "      CostContact  Revenue  BirthYear     Education MaritalStatus  NKids  \\\nID                                                                         \n9432            3       11     1977.0    Graduation      Together    1.0   \n9135            3       11     1950.0  SchoolOfLife      Together    1.0   \n\n      NTeens      Income  MntWines  MntFruits  ...  NWebPurchases  \\\nID                                             ...                  \n9432     0.0    666666.0         9         14  ...              3   \n9135     1.0  99999999.0        13          2  ...              1   \n\n      NCatalogPurchases  NStorePurchases  NWebVisitsMonth Response1  \\\nID                                                                    \n9432                  1                3                6         0   \n9135                  1                2                8         0   \n\n      Response2  Response3  Response4  Response5  Response  \nID                                                          \n9432          0          0          0          0         0  \n9135          0          0          0          0         0  \n\n[2 rows x 28 columns]",
      "text/html": "<div>\n<style scoped>\n    .dataframe tbody tr th:only-of-type {\n        vertical-align: middle;\n    }\n\n    .dataframe tbody tr th {\n        vertical-align: top;\n    }\n\n    .dataframe thead th {\n        text-align: right;\n    }\n</style>\n<table border=\"1\" class=\"dataframe\">\n  <thead>\n    <tr style=\"text-align: right;\">\n      <th></th>\n      <th>CostContact</th>\n      <th>Revenue</th>\n      <th>BirthYear</th>\n      <th>Education</th>\n      <th>MaritalStatus</th>\n      <th>NKids</th>\n      <th>NTeens</th>\n      <th>Income</th>\n      <th>MntWines</th>\n      <th>MntFruits</th>\n      <th>...</th>\n      <th>NWebPurchases</th>\n      <th>NCatalogPurchases</th>\n      <th>NStorePurchases</th>\n      <th>NWebVisitsMonth</th>\n      <th>Response1</th>\n      <th>Response2</th>\n      <th>Response3</th>\n      <th>Response4</th>\n      <th>Response5</th>\n      <th>Response</th>\n    </tr>\n    <tr>\n      <th>ID</th>\n      <th></th>\n      <th></th>\n      <th></th>\n      <th></th>\n      <th></th>\n      <th></th>\n      <th></th>\n      <th></th>\n      <th></th>\n      <th></th>\n      <th></th>\n      <th></th>\n      <th></th>\n      <th></th>\n      <th></th>\n      <th></th>\n      <th></th>\n      <th></th>\n      <th></th>\n      <th></th>\n      <th></th>\n    </tr>\n  </thead>\n  <tbody>\n    <tr>\n      <th>9432</th>\n      <td>3</td>\n      <td>11</td>\n      <td>1977.0</td>\n      <td>Graduation</td>\n      <td>Together</td>\n      <td>1.0</td>\n      <td>0.0</td>\n      <td>666666.0</td>\n      <td>9</td>\n      <td>14</td>\n      <td>...</td>\n      <td>3</td>\n      <td>1</td>\n      <td>3</td>\n      <td>6</td>\n      <td>0</td>\n      <td>0</td>\n      <td>0</td>\n      <td>0</td>\n      <td>0</td>\n      <td>0</td>\n    </tr>\n    <tr>\n      <th>9135</th>\n      <td>3</td>\n      <td>11</td>\n      <td>1950.0</td>\n      <td>SchoolOfLife</td>\n      <td>Together</td>\n      <td>1.0</td>\n      <td>1.0</td>\n      <td>99999999.0</td>\n      <td>13</td>\n      <td>2</td>\n      <td>...</td>\n      <td>1</td>\n      <td>1</td>\n      <td>2</td>\n      <td>8</td>\n      <td>0</td>\n      <td>0</td>\n      <td>0</td>\n      <td>0</td>\n      <td>0</td>\n      <td>0</td>\n    </tr>\n  </tbody>\n</table>\n<p>2 rows × 28 columns</p>\n</div>"
     },
     "execution_count": 7,
     "metadata": {},
     "output_type": "execute_result"
    }
   ],
   "source": [
    "# checks for the existence of outliers\n",
    "data[data['Income'] > 200000]"
   ]
  },
  {
   "cell_type": "code",
   "execution_count": 8,
   "outputs": [],
   "source": [
    "# removes the outliers found in the above cell\n",
    "data_wo_out_income = data.drop([9135, 9432])"
   ],
   "metadata": {
    "collapsed": false
   }
  },
  {
   "cell_type": "code",
   "execution_count": 9,
   "metadata": {},
   "outputs": [
    {
     "data": {
      "text/plain": "<Figure size 432x288 with 1 Axes>",
      "image/png": "[encoded data removed]"
     },
     "metadata": {},
     "output_type": "display_data"
    }
   ],
   "source": [
    "# plots the histogram of Income with using the variable which contains the data without outliers\n",
    "plt.title('Income')\n",
    "plt.hist(data_wo_out_income['Income'])\n",
    "plt.show()"
   ]
  },
  {
   "cell_type": "markdown",
   "source": [
    "After seeing the difference between the two plots for the `Income` variable it is possible to state that, without the outliers, this feature is approximately normally distributed (while being slightly right-skewed). Thus, the influence of outliers, in the variables in consequent statistical methods results, is verified."
   ],
   "metadata": {
    "collapsed": false
   }
  },
  {
   "cell_type": "markdown",
   "metadata": {},
   "source": [
    "As there would still be left some discrete non-normally distributed variables of the dataset, the barcharts presented below were computed."
   ]
  },
  {
   "cell_type": "code",
   "execution_count": 10,
   "metadata": {
    "collapsed": false,
    "jupyter": {
     "outputs_hidden": false
    }
   },
   "outputs": [
    {
     "data": {
      "text/plain": "<Figure size 432x288 with 1 Axes>",
      "image/png": "[encoded data removed]"
     },
     "metadata": {},
     "output_type": "display_data"
    },
    {
     "data": {
      "text/plain": "<Figure size 432x288 with 1 Axes>",
      "image/png": "[encoded data removed]"
     },
     "metadata": {},
     "output_type": "display_data"
    },
    {
     "data": {
      "text/plain": "<Figure size 432x288 with 1 Axes>",
      "image/png": "[encoded data removed]"
     },
     "metadata": {},
     "output_type": "display_data"
    },
    {
     "data": {
      "text/plain": "<Figure size 432x288 with 1 Axes>",
      "image/png": "[encoded data removed]"
     },
     "metadata": {},
     "output_type": "display_data"
    },
    {
     "data": {
      "text/plain": "<Figure size 432x288 with 1 Axes>",
      "image/png": "[encoded data removed]"
     },
     "metadata": {},
     "output_type": "display_data"
    }
   ],
   "source": [
    "bar_var = ['NDealsPurchases', 'NWebPurchases', 'NStorePurchases', 'NCatalogPurchases', 'NWebVisitsMonth']\n",
    "\n",
    "for var in bar_var:\n",
    "    plt.title(var)\n",
    "    plt.bar(data[var].value_counts().index, data[var].value_counts().values)\n",
    "    plt.show()"
   ]
  },
  {
   "cell_type": "markdown",
   "metadata": {},
   "source": [
    "From the brief analysis of the bar charts shown above, it is possible to check that all variables, except `NVisitsMonth` have right-skewed distributions.\n",
    "This is due to the fact that `NWebVisitsMonth` reveals a slight left-skewed distribution (which can be fixed with a square-root transformation)."
   ]
  },
  {
   "cell_type": "markdown",
   "metadata": {},
   "source": [
    "#### Pie Charts for Categorical and Binary Variables"
   ]
  },
  {
   "cell_type": "markdown",
   "metadata": {},
   "source": [
    "As binary variables could not be analysed through the descriptive statistics of the method .describe() the following pie charts were computed in order to give a visual representation of the distribution of each categorical variable of the dataset."
   ]
  },
  {
   "cell_type": "code",
   "execution_count": 11,
   "metadata": {
    "collapsed": false,
    "jupyter": {
     "outputs_hidden": false
    }
   },
   "outputs": [
    {
     "data": {
      "text/plain": "<AxesSubplot:ylabel='NKids'>"
     },
     "execution_count": 11,
     "metadata": {},
     "output_type": "execute_result"
    },
    {
     "data": {
      "text/plain": "<Figure size 432x288 with 1 Axes>",
      "image/png": "[encoded data removed]"
     },
     "metadata": {},
     "output_type": "display_data"
    }
   ],
   "source": [
    "data['NKids'].value_counts().plot(kind='pie')"
   ]
  },
  {
   "cell_type": "code",
   "execution_count": 12,
   "metadata": {
    "collapsed": false,
    "jupyter": {
     "outputs_hidden": false
    }
   },
   "outputs": [
    {
     "data": {
      "text/plain": "<AxesSubplot:ylabel='NTeens'>"
     },
     "execution_count": 12,
     "metadata": {},
     "output_type": "execute_result"
    },
    {
     "data": {
      "text/plain": "<Figure size 432x288 with 1 Axes>",
      "image/png": "[encoded data removed]"
     },
     "metadata": {},
     "output_type": "display_data"
    }
   ],
   "source": [
    "data['NTeens'].value_counts().plot(kind='pie')"
   ]
  },
  {
   "cell_type": "markdown",
   "metadata": {},
   "source": [
    "`NKids` and `NTeens` have similar distributions of its values and both only have the values 0, 1 and 2. Therefore, the maximum number of kids in a household is two and the same happens for the greatest value of teens in a household."
   ]
  },
  {
   "cell_type": "code",
   "execution_count": 13,
   "metadata": {
    "collapsed": false,
    "jupyter": {
     "outputs_hidden": false
    }
   },
   "outputs": [
    {
     "data": {
      "text/plain": "<AxesSubplot:ylabel='Complain'>"
     },
     "execution_count": 13,
     "metadata": {},
     "output_type": "execute_result"
    },
    {
     "data": {
      "text/plain": "<Figure size 432x288 with 1 Axes>",
      "image/png": "[encoded data removed]"
     },
     "metadata": {},
     "output_type": "display_data"
    }
   ],
   "source": [
    "data['Complain'].value_counts().plot(kind='pie')"
   ]
  },
  {
   "cell_type": "markdown",
   "metadata": {},
   "source": [
    "Most of the customers of the dataset did not fill in complains on the company. As so, it can be said that the company offers a good customer-service and is an effective enterprise.\n",
    "Given that the number of customer who did fill a complaint is very low compared to the ones who were satisfied, this might cause analysis problems further on, making this a possibly less relevant feature for the prediction of `Response`."
   ]
  },
  {
   "cell_type": "code",
   "execution_count": 14,
   "metadata": {
    "collapsed": false,
    "jupyter": {
     "outputs_hidden": false
    }
   },
   "outputs": [
    {
     "data": {
      "text/plain": "<AxesSubplot:ylabel='Response1'>"
     },
     "execution_count": 14,
     "metadata": {},
     "output_type": "execute_result"
    },
    {
     "data": {
      "text/plain": "<Figure size 432x288 with 1 Axes>",
      "image/png": "[encoded data removed]"
     },
     "metadata": {},
     "output_type": "display_data"
    }
   ],
   "source": [
    "data['Response1'].value_counts().plot(kind='pie')"
   ]
  },
  {
   "cell_type": "code",
   "execution_count": 15,
   "metadata": {
    "collapsed": false,
    "jupyter": {
     "outputs_hidden": false
    }
   },
   "outputs": [
    {
     "data": {
      "text/plain": "<AxesSubplot:ylabel='Response2'>"
     },
     "execution_count": 15,
     "metadata": {},
     "output_type": "execute_result"
    },
    {
     "data": {
      "text/plain": "<Figure size 432x288 with 1 Axes>",
      "image/png": "[encoded data removed]"
     },
     "metadata": {},
     "output_type": "display_data"
    }
   ],
   "source": [
    "data['Response2'].value_counts().plot(kind='pie')"
   ]
  },
  {
   "cell_type": "code",
   "execution_count": 16,
   "metadata": {
    "collapsed": false,
    "jupyter": {
     "outputs_hidden": false
    }
   },
   "outputs": [
    {
     "data": {
      "text/plain": "<AxesSubplot:ylabel='Response3'>"
     },
     "execution_count": 16,
     "metadata": {},
     "output_type": "execute_result"
    },
    {
     "data": {
      "text/plain": "<Figure size 432x288 with 1 Axes>",
      "image/png": "[encoded data removed]"
     },
     "metadata": {},
     "output_type": "display_data"
    }
   ],
   "source": [
    "data['Response3'].value_counts().plot(kind='pie')"
   ]
  },
  {
   "cell_type": "code",
   "execution_count": 17,
   "metadata": {
    "collapsed": false,
    "jupyter": {
     "outputs_hidden": false
    }
   },
   "outputs": [
    {
     "data": {
      "text/plain": "<AxesSubplot:ylabel='Response4'>"
     },
     "execution_count": 17,
     "metadata": {},
     "output_type": "execute_result"
    },
    {
     "data": {
      "text/plain": "<Figure size 432x288 with 1 Axes>",
      "image/png": "[encoded data removed]"
     },
     "metadata": {},
     "output_type": "display_data"
    }
   ],
   "source": [
    "data['Response4'].value_counts().plot(kind='pie')"
   ]
  },
  {
   "cell_type": "code",
   "execution_count": 18,
   "metadata": {
    "collapsed": false,
    "jupyter": {
     "outputs_hidden": false
    }
   },
   "outputs": [
    {
     "data": {
      "text/plain": "<AxesSubplot:ylabel='Response5'>"
     },
     "execution_count": 18,
     "metadata": {},
     "output_type": "execute_result"
    },
    {
     "data": {
      "text/plain": "<Figure size 432x288 with 1 Axes>",
      "image/png": "[encoded data removed]"
     },
     "metadata": {},
     "output_type": "display_data"
    }
   ],
   "source": [
    "data['Response5'].value_counts().plot(kind='pie')"
   ]
  },
  {
   "cell_type": "code",
   "execution_count": 19,
   "metadata": {
    "collapsed": false,
    "jupyter": {
     "outputs_hidden": false
    }
   },
   "outputs": [
    {
     "data": {
      "text/plain": "<AxesSubplot:ylabel='Response'>"
     },
     "execution_count": 19,
     "metadata": {},
     "output_type": "execute_result"
    },
    {
     "data": {
      "text/plain": "<Figure size 432x288 with 1 Axes>",
      "image/png": "[encoded data removed]"
     },
     "metadata": {},
     "output_type": "display_data"
    }
   ],
   "source": [
    "data['Response'].value_counts().plot(kind='pie')"
   ]
  },
  {
   "cell_type": "markdown",
   "metadata": {},
   "source": [
    "From the response feature piecharts it is intuitively possible to conclude that the worst marketing campaign was the second one, since the slice of the pie that represents the people who bought the offer is almost null.\n",
    "In contrast, all the other campaign (without counting with the target campaign - `Response`) have similar sizes of the slice that identifies those who bought the campaigned products."
   ]
  },
  {
   "cell_type": "markdown",
   "metadata": {},
   "source": [
    "## Feature Transformation\n",
    "\n",
    "In **feature transformation**, already existing variables of the dataset were transformed. Some altered variables are:\n",
    "- `BirthYear` was transformed into `Age`;\n",
    "- `Marital Status` classes were updated (had values that did not make sense in the context);\n",
    "- some classes from the variable `Education` were deleted since they did not make sense;\n",
    "- `CustomerFrom` was transformed from a string date into the number of days since the first purchase of that specific customer - `Longevity`."
   ]
  },
  {
   "cell_type": "markdown",
   "metadata": {},
   "source": [
    "#### BirthYear\n",
    "\n",
    "For a matter of simplicity the column `BirthYear` was renamed and transformed into `Age`. This new variable comprises the age of the client at the present year of analysis (2016) - difference between the considered year of the dataset, 2016, and the value of the `BirthYear`."
   ]
  },
  {
   "cell_type": "code",
   "execution_count": 20,
   "metadata": {
    "collapsed": false,
    "jupyter": {
     "outputs_hidden": false
    }
   },
   "outputs": [],
   "source": [
    "# Renaming of the BirthYear variable to Age\n",
    "data.rename({'BirthYear': 'Age'}, axis = 1, inplace = True)\n",
    "# Creation of the Age values for the renamed variable\n",
    "data['Age'] = 2016 - data['Age']"
   ]
  },
  {
   "cell_type": "markdown",
   "metadata": {},
   "source": [
    "#### MaritalStatus\n",
    "\n",
    "After a brief analysis of the combined dataset it was possible to check that the feature `MaritalStatus` had values that did not make sense, such as:\n",
    "- YOLO;\n",
    "- Absurd;\n",
    "- Alone (since there were only 3 customers with such value it was decided that Alone = Single)."
   ]
  },
  {
   "cell_type": "code",
   "execution_count": 21,
   "metadata": {
    "collapsed": false,
    "jupyter": {
     "outputs_hidden": false
    }
   },
   "outputs": [
    {
     "name": "stdout",
     "output_type": "stream",
     "text": [
      "Married     864\n",
      "Together    580\n",
      "Single      480\n",
      "Divorced    232\n",
      "Widow        77\n",
      "Alone         3\n",
      "YOLO          2\n",
      "Absurd        2\n",
      "Name: MaritalStatus, dtype: int64\n"
     ]
    }
   ],
   "source": [
    "# Prints the classes of MaritalStatus and the number of values for each class\n",
    "print(data['MaritalStatus'].value_counts())"
   ]
  },
  {
   "cell_type": "markdown",
   "metadata": {},
   "source": [
    "One possible explanation for the occurrence of these values is that the customers contacted did not take the marketing campaign questions seriously. Therefore, giving answers completely out of context.\n",
    "\n",
    "Hence, in order to keep the reliability of the data, these 4 rows of values (2 for 'YOLO' and 2 for 'Absurd') were dropped from the dataset.\n",
    "In regard to, the three observations with the answer 'Alone', for a matter of simplicity, these were considered as people who were 'Single' at the moment of the phone call."
   ]
  },
  {
   "cell_type": "code",
   "execution_count": 22,
   "metadata": {
    "collapsed": false,
    "jupyter": {
     "outputs_hidden": false
    }
   },
   "outputs": [],
   "source": [
    "# Replacement of values equal to Alone, in the `MaritalStatus` variable, for Single\n",
    "data['MaritalStatus'] = data['MaritalStatus'].replace('Alone', 'Single')"
   ]
  },
  {
   "cell_type": "code",
   "execution_count": 23,
   "metadata": {
    "collapsed": false,
    "jupyter": {
     "outputs_hidden": false
    }
   },
   "outputs": [],
   "source": [
    "# Drops the values, in the `MaritalStatus` variable, equal to YOLO\n",
    "data.drop(data[data['MaritalStatus'] == 'YOLO'].index, axis = 0, inplace = True)\n",
    "# Drops the values, in the `MaritalStatus` variable, equal to Absurd\n",
    "data.drop(data[data['MaritalStatus'] == 'Absurd'].index, axis = 0, inplace = True)"
   ]
  },
  {
   "cell_type": "markdown",
   "metadata": {},
   "source": [
    "In order to verify if the above transformation were done correctly, the below cell was computed to print, once again, all the values of the classes of `MaritalStatus`."
   ]
  },
  {
   "cell_type": "code",
   "execution_count": 24,
   "metadata": {
    "collapsed": false,
    "jupyter": {
     "outputs_hidden": false
    }
   },
   "outputs": [
    {
     "name": "stdout",
     "output_type": "stream",
     "text": [
      "Married     864\n",
      "Together    580\n",
      "Single      483\n",
      "Divorced    232\n",
      "Widow        77\n",
      "Name: MaritalStatus, dtype: int64\n"
     ]
    }
   ],
   "source": [
    "# Prints the classes of MaritalStatus and the number of values for each class\n",
    "print(data['MaritalStatus'].value_counts())"
   ]
  },
  {
   "cell_type": "markdown",
   "metadata": {},
   "source": [
    "As it can be seen, the classes Alone, YOLO and Absurd do not exist anymore. Therefore, the transformations were successfully applied."
   ]
  },
  {
   "cell_type": "markdown",
   "metadata": {},
   "source": [
    "#### Education\n",
    "\n",
    "Akin to `MaritalStatus`, the `Education` feature also has a class that does not make sense (School of Life). As so, that customer will be dropped out of the dataset, in order to keep the reliability of the dataset."
   ]
  },
  {
   "cell_type": "code",
   "execution_count": 25,
   "metadata": {},
   "outputs": [
    {
     "name": "stdout",
     "output_type": "stream",
     "text": [
      "Graduation      1106\n",
      "PhD              478\n",
      "Master           366\n",
      "2n Cycle         200\n",
      "Basic             54\n",
      "SchoolOfLife       1\n",
      "Name: Education, dtype: int64\n"
     ]
    }
   ],
   "source": [
    "# Prints the classes of Education and the number of values for each class\n",
    "print(data['Education'].value_counts())"
   ]
  },
  {
   "cell_type": "markdown",
   "metadata": {},
   "source": [
    "Since 2n Cycle class name might be a confusing name, because in Portugal High School is named 'Secundário', for a simplicity of further analysis of the dataset, the values of variable `Education` equal to 2n Cycle were replaced by High School."
   ]
  },
  {
   "cell_type": "code",
   "execution_count": 26,
   "metadata": {
    "collapsed": false,
    "jupyter": {
     "outputs_hidden": false
    }
   },
   "outputs": [],
   "source": [
    "# Replacement of values equal to 2n Cycle, in the `Education` variable, for High School\n",
    "data['Education'] = data['Education'].replace('2n Cycle', 'High School')"
   ]
  },
  {
   "cell_type": "markdown",
   "metadata": {},
   "source": [
    "Upon further examination of the above values, the following description illustrates the interpretation of each of the values of the 'Education' variable.\n",
    "- Graduation: People who have finished a Bachelor's degree;\n",
    "- PhD: People who successfully completed a doctorates degree/program;\n",
    "- Master: People who concluded a Master's degree;\n",
    "- High School: People who finished High School;\n",
    "- Basic: People who finished 9th grade."
   ]
  },
  {
   "cell_type": "code",
   "execution_count": 27,
   "metadata": {
    "collapsed": false,
    "jupyter": {
     "outputs_hidden": false
    }
   },
   "outputs": [],
   "source": [
    "# Drops the value, in the `Education` variable, equal to SchoolOfLife\n",
    "data.drop(data[data['Education'] == 'SchoolOfLife'].index, axis = 0, inplace = True)"
   ]
  },
  {
   "cell_type": "code",
   "execution_count": 28,
   "metadata": {
    "collapsed": false,
    "jupyter": {
     "outputs_hidden": false
    }
   },
   "outputs": [
    {
     "name": "stdout",
     "output_type": "stream",
     "text": [
      "Graduation     1106\n",
      "PhD             478\n",
      "Master          366\n",
      "High School     200\n",
      "Basic            54\n",
      "Name: Education, dtype: int64\n"
     ]
    }
   ],
   "source": [
    "# Prints the classes of Education and the number of values for each class\n",
    "print(data['Education'].value_counts())"
   ]
  },
  {
   "cell_type": "markdown",
   "metadata": {},
   "source": [
    "As it can be verified, the class School of Life has been dropped and the one named 2n Cycle was updated to High School."
   ]
  },
  {
   "cell_type": "markdown",
   "metadata": {},
   "source": [
    "#### CustomerFrom\n",
    "\n",
    "As the variable `CustomerFrom` was considered by pandas as an object, it was necessary to transform it into a numerical variable, in order to allow further analysis of the dataset observations. Hence, this variable was transformed into `Longevity`, which represents the number of days since the first purchase of the customer in the company.\n",
    "\n",
    "In order for the collected data values to make sense it was necessary to define a date of analysis. The chosen date was the first of July of 2016."
   ]
  },
  {
   "cell_type": "code",
   "execution_count": 29,
   "metadata": {},
   "outputs": [],
   "source": [
    "# Renames the variable `CustomerFrom` into `Longevity`\n",
    "data.rename({'CustomerFrom': 'Longevity'}, axis = 1, inplace = True)\n",
    "# Definition of the date of the dataset analysis\n",
    "data['Today'] = '2016-7-1'\n",
    "# Creation of the longevity variable data (computation of the number of days since the first purchase of the customer)\n",
    "data[['Longevity', 'Today']] = data[['Longevity', 'Today']].apply(pd.to_datetime)\n",
    "data['Longevity'] = (data['Today'] - data['Longevity']) / np.timedelta64(1, 'D')\n",
    "data.drop('Today', axis = 1, inplace = True)"
   ]
  },
  {
   "cell_type": "markdown",
   "metadata": {},
   "source": [
    "To check if every transformation was correctly implemented the head of the dataset was called in the next cell."
   ]
  },
  {
   "cell_type": "code",
   "execution_count": 30,
   "metadata": {
    "collapsed": false,
    "jupyter": {
     "outputs_hidden": false
    }
   },
   "outputs": [
    {
     "data": {
      "text/plain": "      CostContact  Revenue   Age   Education MaritalStatus  NKids  NTeens  \\\nID                                                                          \n5314            3       11  65.0  Graduation      Together    0.0     1.0   \n2493            3       11  50.0  Graduation       Married    0.0     1.0   \n4931            3       11  39.0  Graduation      Together    0.0     0.0   \n1100            3       11  56.0      Master      Together    1.0     2.0   \n7224            3       11  39.0  Graduation       Married    NaN     NaN   \n\n        Income  MntWines  MntFruits  ...  NWebPurchases  NCatalogPurchases  \\\nID                                   ...                                     \n5314   40689.0       270          3  ...              7                  1   \n2493   61286.0       356          0  ...              7                  1   \n4931  157146.0         1          0  ...              0                 28   \n1100   41275.0        24          4  ...              3                  1   \n7224   31353.0        10          0  ...              1                  1   \n\n      NStorePurchases  NWebVisitsMonth  Response1  Response2  Response3  \\\nID                                                                        \n5314                5                8          0          0          0   \n2493                8                5          0          0          0   \n4931                0                1          0          0          0   \n1100                3                5          0          0          0   \n7224                2                8          0          0          0   \n\n      Response4  Response5  Response  \nID                                    \n5314          0          0         0  \n2493          0          0         0  \n4931          0          0         0  \n1100          0          0         0  \n7224          0          0         0  \n\n[5 rows x 28 columns]",
      "text/html": "<div>\n<style scoped>\n    .dataframe tbody tr th:only-of-type {\n        vertical-align: middle;\n    }\n\n    .dataframe tbody tr th {\n        vertical-align: top;\n    }\n\n    .dataframe thead th {\n        text-align: right;\n    }\n</style>\n<table border=\"1\" class=\"dataframe\">\n  <thead>\n    <tr style=\"text-align: right;\">\n      <th></th>\n      <th>CostContact</th>\n      <th>Revenue</th>\n      <th>Age</th>\n      <th>Education</th>\n      <th>MaritalStatus</th>\n      <th>NKids</th>\n      <th>NTeens</th>\n      <th>Income</th>\n      <th>MntWines</th>\n      <th>MntFruits</th>\n      <th>...</th>\n      <th>NWebPurchases</th>\n      <th>NCatalogPurchases</th>\n      <th>NStorePurchases</th>\n      <th>NWebVisitsMonth</th>\n      <th>Response1</th>\n      <th>Response2</th>\n      <th>Response3</th>\n      <th>Response4</th>\n      <th>Response5</th>\n      <th>Response</th>\n    </tr>\n    <tr>\n      <th>ID</th>\n      <th></th>\n      <th></th>\n      <th></th>\n      <th></th>\n      <th></th>\n      <th></th>\n      <th></th>\n      <th></th>\n      <th></th>\n      <th></th>\n      <th></th>\n      <th></th>\n      <th></th>\n      <th></th>\n      <th></th>\n      <th></th>\n      <th></th>\n      <th></th>\n      <th></th>\n      <th></th>\n      <th></th>\n    </tr>\n  </thead>\n  <tbody>\n    <tr>\n      <th>5314</th>\n      <td>3</td>\n      <td>11</td>\n      <td>65.0</td>\n      <td>Graduation</td>\n      <td>Together</td>\n      <td>0.0</td>\n      <td>1.0</td>\n      <td>40689.0</td>\n      <td>270</td>\n      <td>3</td>\n      <td>...</td>\n      <td>7</td>\n      <td>1</td>\n      <td>5</td>\n      <td>8</td>\n      <td>0</td>\n      <td>0</td>\n      <td>0</td>\n      <td>0</td>\n      <td>0</td>\n      <td>0</td>\n    </tr>\n    <tr>\n      <th>2493</th>\n      <td>3</td>\n      <td>11</td>\n      <td>50.0</td>\n      <td>Graduation</td>\n      <td>Married</td>\n      <td>0.0</td>\n      <td>1.0</td>\n      <td>61286.0</td>\n      <td>356</td>\n      <td>0</td>\n      <td>...</td>\n      <td>7</td>\n      <td>1</td>\n      <td>8</td>\n      <td>5</td>\n      <td>0</td>\n      <td>0</td>\n      <td>0</td>\n      <td>0</td>\n      <td>0</td>\n      <td>0</td>\n    </tr>\n    <tr>\n      <th>4931</th>\n      <td>3</td>\n      <td>11</td>\n      <td>39.0</td>\n      <td>Graduation</td>\n      <td>Together</td>\n      <td>0.0</td>\n      <td>0.0</td>\n      <td>157146.0</td>\n      <td>1</td>\n      <td>0</td>\n      <td>...</td>\n      <td>0</td>\n      <td>28</td>\n      <td>0</td>\n      <td>1</td>\n      <td>0</td>\n      <td>0</td>\n      <td>0</td>\n      <td>0</td>\n      <td>0</td>\n      <td>0</td>\n    </tr>\n    <tr>\n      <th>1100</th>\n      <td>3</td>\n      <td>11</td>\n      <td>56.0</td>\n      <td>Master</td>\n      <td>Together</td>\n      <td>1.0</td>\n      <td>2.0</td>\n      <td>41275.0</td>\n      <td>24</td>\n      <td>4</td>\n      <td>...</td>\n      <td>3</td>\n      <td>1</td>\n      <td>3</td>\n      <td>5</td>\n      <td>0</td>\n      <td>0</td>\n      <td>0</td>\n      <td>0</td>\n      <td>0</td>\n      <td>0</td>\n    </tr>\n    <tr>\n      <th>7224</th>\n      <td>3</td>\n      <td>11</td>\n      <td>39.0</td>\n      <td>Graduation</td>\n      <td>Married</td>\n      <td>NaN</td>\n      <td>NaN</td>\n      <td>31353.0</td>\n      <td>10</td>\n      <td>0</td>\n      <td>...</td>\n      <td>1</td>\n      <td>1</td>\n      <td>2</td>\n      <td>8</td>\n      <td>0</td>\n      <td>0</td>\n      <td>0</td>\n      <td>0</td>\n      <td>0</td>\n      <td>0</td>\n    </tr>\n  </tbody>\n</table>\n<p>5 rows × 28 columns</p>\n</div>"
     },
     "execution_count": 30,
     "metadata": {},
     "output_type": "execute_result"
    }
   ],
   "source": [
    "data.head()"
   ]
  },
  {
   "cell_type": "markdown",
   "metadata": {},
   "source": [
    "It was verified that all transformations and variables were correctly done and applied to the dataset."
   ]
  },
  {
   "cell_type": "markdown",
   "metadata": {},
   "source": [
    "## Data Analysis"
   ]
  },
  {
   "cell_type": "markdown",
   "metadata": {},
   "source": [
    "### Data Inconsistencies\n",
    "\n",
    "In order to ensure the quality of further analysis, it is needed to clean the dataset by confirming if the data has any inconsistencies, mainly in terms of the context of the problem at hand. As so, the variables `Age`, `Income`, `Monetary`and `Purchases` will be verified in the next cells of this notebook."
   ]
  },
  {
   "cell_type": "markdown",
   "metadata": {},
   "source": [
    "#### Age\n",
    "\n",
    "Given the fact that there can not be any customer who subscribed before being born, this absurd hypothesis was tested."
   ]
  },
  {
   "cell_type": "code",
   "execution_count": 31,
   "metadata": {
    "collapsed": false,
    "jupyter": {
     "outputs_hidden": false
    }
   },
   "outputs": [
    {
     "data": {
      "text/plain": "Series([], dtype: int64)"
     },
     "execution_count": 31,
     "metadata": {},
     "output_type": "execute_result"
    }
   ],
   "source": [
    "data[365 * data['Age'] < data['Longevity']].value_counts()"
   ]
  },
  {
   "cell_type": "markdown",
   "metadata": {},
   "source": [
    "It was verified that there is no case where someone was born after he became a customer. In this case, there is no data inconsistency.\n",
    "Next, the information on the outliers of variable `Age`, prior `BirthYear`, will be checked. In the boxplot computed above, it was possible to see that the outliers would be customers which were born before 1900, which would make them older than at least a hundred years. Therefore, that is the baseline for the next variable analysis."
   ]
  },
  {
   "cell_type": "code",
   "execution_count": 32,
   "metadata": {
    "collapsed": false,
    "jupyter": {
     "outputs_hidden": false
    }
   },
   "outputs": [
    {
     "data": {
      "text/plain": "       CostContact  Revenue    Age    Education MaritalStatus  NKids  NTeens  \\\nID                                                                             \n11004            3       11  123.0  High School        Single    0.0     1.0   \n7829             3       11  116.0  High School      Divorced    1.0     0.0   \n1150             3       11  117.0          PhD      Together    0.0     0.0   \n\n        Income  MntWines  MntFruits  ...  NWebPurchases  NCatalogPurchases  \\\nID                                   ...                                     \n11004  60182.0         8          0  ...              1                  0   \n7829   36640.0        15          6  ...              2                  1   \n1150   83532.0       755        144  ...              4                  6   \n\n       NStorePurchases  NWebVisitsMonth  Response1  Response2  Response3  \\\nID                                                                         \n11004                2                4          0          0          0   \n7829                 2                5          0          0          0   \n1150                 4                1          0          0          0   \n\n       Response4  Response5  Response  \nID                                     \n11004          0          0         0  \n7829           0          0         0  \n1150           0          1         0  \n\n[3 rows x 28 columns]",
      "text/html": "<div>\n<style scoped>\n    .dataframe tbody tr th:only-of-type {\n        vertical-align: middle;\n    }\n\n    .dataframe tbody tr th {\n        vertical-align: top;\n    }\n\n    .dataframe thead th {\n        text-align: right;\n    }\n</style>\n<table border=\"1\" class=\"dataframe\">\n  <thead>\n    <tr style=\"text-align: right;\">\n      <th></th>\n      <th>CostContact</th>\n      <th>Revenue</th>\n      <th>Age</th>\n      <th>Education</th>\n      <th>MaritalStatus</th>\n      <th>NKids</th>\n      <th>NTeens</th>\n      <th>Income</th>\n      <th>MntWines</th>\n      <th>MntFruits</th>\n      <th>...</th>\n      <th>NWebPurchases</th>\n      <th>NCatalogPurchases</th>\n      <th>NStorePurchases</th>\n      <th>NWebVisitsMonth</th>\n      <th>Response1</th>\n      <th>Response2</th>\n      <th>Response3</th>\n      <th>Response4</th>\n      <th>Response5</th>\n      <th>Response</th>\n    </tr>\n    <tr>\n      <th>ID</th>\n      <th></th>\n      <th></th>\n      <th></th>\n      <th></th>\n      <th></th>\n      <th></th>\n      <th></th>\n      <th></th>\n      <th></th>\n      <th></th>\n      <th></th>\n      <th></th>\n      <th></th>\n      <th></th>\n      <th></th>\n      <th></th>\n      <th></th>\n      <th></th>\n      <th></th>\n      <th></th>\n      <th></th>\n    </tr>\n  </thead>\n  <tbody>\n    <tr>\n      <th>11004</th>\n      <td>3</td>\n      <td>11</td>\n      <td>123.0</td>\n      <td>High School</td>\n      <td>Single</td>\n      <td>0.0</td>\n      <td>1.0</td>\n      <td>60182.0</td>\n      <td>8</td>\n      <td>0</td>\n      <td>...</td>\n      <td>1</td>\n      <td>0</td>\n      <td>2</td>\n      <td>4</td>\n      <td>0</td>\n      <td>0</td>\n      <td>0</td>\n      <td>0</td>\n      <td>0</td>\n      <td>0</td>\n    </tr>\n    <tr>\n      <th>7829</th>\n      <td>3</td>\n      <td>11</td>\n      <td>116.0</td>\n      <td>High School</td>\n      <td>Divorced</td>\n      <td>1.0</td>\n      <td>0.0</td>\n      <td>36640.0</td>\n      <td>15</td>\n      <td>6</td>\n      <td>...</td>\n      <td>2</td>\n      <td>1</td>\n      <td>2</td>\n      <td>5</td>\n      <td>0</td>\n      <td>0</td>\n      <td>0</td>\n      <td>0</td>\n      <td>0</td>\n      <td>0</td>\n    </tr>\n    <tr>\n      <th>1150</th>\n      <td>3</td>\n      <td>11</td>\n      <td>117.0</td>\n      <td>PhD</td>\n      <td>Together</td>\n      <td>0.0</td>\n      <td>0.0</td>\n      <td>83532.0</td>\n      <td>755</td>\n      <td>144</td>\n      <td>...</td>\n      <td>4</td>\n      <td>6</td>\n      <td>4</td>\n      <td>1</td>\n      <td>0</td>\n      <td>0</td>\n      <td>0</td>\n      <td>0</td>\n      <td>1</td>\n      <td>0</td>\n    </tr>\n  </tbody>\n</table>\n<p>3 rows × 28 columns</p>\n</div>"
     },
     "execution_count": 32,
     "metadata": {},
     "output_type": "execute_result"
    }
   ],
   "source": [
    "data[data['Age'] >= 100]"
   ]
  },
  {
   "cell_type": "markdown",
   "metadata": {},
   "source": [
    "According to the above found values, it is obvious that these three customers are outliers of the variable `Age`. Since, realistically speaking, it is humanly impossible for a person with 116, 117 and 123 years to be alive and to have bought products from the company with a maximum recency of 99 days.\n",
    "\n",
    "Next we will check if there are any customers who are underage, since one of the products sold is wine, all of them should be overage."
   ]
  },
  {
   "cell_type": "code",
   "execution_count": 33,
   "metadata": {
    "tags": []
   },
   "outputs": [
    {
     "data": {
      "text/plain": "20.0"
     },
     "execution_count": 33,
     "metadata": {},
     "output_type": "execute_result"
    }
   ],
   "source": [
    "data['Age'].min()"
   ]
  },
  {
   "cell_type": "markdown",
   "metadata": {},
   "source": [
    "The minimum customer age is 20 years, which is an acceptable value, given the context of the problem. Customers should be over at least eighteen-year-old."
   ]
  },
  {
   "cell_type": "markdown",
   "metadata": {},
   "source": [
    "#### Income\n",
    "\n",
    "The next possible data inconsistency to be checked is if anybody spent in purchases, in the two years of records of the dataset, more than twice their income (because the stored value of the income is annual). This was done by doubling the value of the income and then executing the difference between it and the total sum of the monetary variables. Afterwards, it was only necessary to check if the result was smaller than zero (if it was smaller than zero, someone spent more than their earned)."
   ]
  },
  {
   "cell_type": "code",
   "execution_count": 34,
   "metadata": {},
   "outputs": [
    {
     "data": {
      "text/plain": "Empty DataFrame\nColumns: [CostContact, Revenue, Age, Education, MaritalStatus, NKids, NTeens, Income, MntWines, MntFruits, MntMeatProducts, MntFishProducts, MntSweetProducts, MntGoldProds, Longevity, Complain, Recency, NDealsPurchases, NWebPurchases, NCatalogPurchases, NStorePurchases, NWebVisitsMonth, Response1, Response2, Response3, Response4, Response5, Response]\nIndex: []\n\n[0 rows x 28 columns]",
      "text/html": "<div>\n<style scoped>\n    .dataframe tbody tr th:only-of-type {\n        vertical-align: middle;\n    }\n\n    .dataframe tbody tr th {\n        vertical-align: top;\n    }\n\n    .dataframe thead th {\n        text-align: right;\n    }\n</style>\n<table border=\"1\" class=\"dataframe\">\n  <thead>\n    <tr style=\"text-align: right;\">\n      <th></th>\n      <th>CostContact</th>\n      <th>Revenue</th>\n      <th>Age</th>\n      <th>Education</th>\n      <th>MaritalStatus</th>\n      <th>NKids</th>\n      <th>NTeens</th>\n      <th>Income</th>\n      <th>MntWines</th>\n      <th>MntFruits</th>\n      <th>...</th>\n      <th>NWebPurchases</th>\n      <th>NCatalogPurchases</th>\n      <th>NStorePurchases</th>\n      <th>NWebVisitsMonth</th>\n      <th>Response1</th>\n      <th>Response2</th>\n      <th>Response3</th>\n      <th>Response4</th>\n      <th>Response5</th>\n      <th>Response</th>\n    </tr>\n    <tr>\n      <th>ID</th>\n      <th></th>\n      <th></th>\n      <th></th>\n      <th></th>\n      <th></th>\n      <th></th>\n      <th></th>\n      <th></th>\n      <th></th>\n      <th></th>\n      <th></th>\n      <th></th>\n      <th></th>\n      <th></th>\n      <th></th>\n      <th></th>\n      <th></th>\n      <th></th>\n      <th></th>\n      <th></th>\n      <th></th>\n    </tr>\n  </thead>\n  <tbody>\n  </tbody>\n</table>\n<p>0 rows × 28 columns</p>\n</div>"
     },
     "execution_count": 34,
     "metadata": {},
     "output_type": "execute_result"
    }
   ],
   "source": [
    "data[((2 * data['Income']) - (data['MntWines'] + data['MntFruits'] + data['MntMeatProducts'] + data['MntFishProducts'] + data['MntSweetProducts'])) < 0]"
   ]
  },
  {
   "cell_type": "markdown",
   "metadata": {},
   "source": [
    "As the result is equal to zero rows, no customers spent more than their income in purchases in the last two years. Therefore, there are no inconsistencies here."
   ]
  },
  {
   "cell_type": "markdown",
   "metadata": {},
   "source": [
    "#### Monetary\n",
    "\n",
    "In the next few cells, data inconsistencies regarding the monetary features of the dataset will be explored.\n",
    "The following possible problems will be verified:\n",
    "- Are there any customers who did not spend money in the company? (_how could they have made purchases but spent zero monetary units?_)\n",
    "- Are there any clients which spent more money in gold products than any of the other ones? (_This would not make sense, since the Wines, fruits, Meats, Fishes and Sweet Products might be regular or gold. Therefore, gold products are a subcategory of the others. As so, it would not make sense to have more money in the `MntGoldProds` than in the sum of all other monetary variables_)"
   ]
  },
  {
   "cell_type": "code",
   "execution_count": 35,
   "metadata": {},
   "outputs": [
    {
     "data": {
      "text/plain": "Empty DataFrame\nColumns: [CostContact, Revenue, Age, Education, MaritalStatus, NKids, NTeens, Income, MntWines, MntFruits, MntMeatProducts, MntFishProducts, MntSweetProducts, MntGoldProds, Longevity, Complain, Recency, NDealsPurchases, NWebPurchases, NCatalogPurchases, NStorePurchases, NWebVisitsMonth, Response1, Response2, Response3, Response4, Response5, Response]\nIndex: []\n\n[0 rows x 28 columns]",
      "text/html": "<div>\n<style scoped>\n    .dataframe tbody tr th:only-of-type {\n        vertical-align: middle;\n    }\n\n    .dataframe tbody tr th {\n        vertical-align: top;\n    }\n\n    .dataframe thead th {\n        text-align: right;\n    }\n</style>\n<table border=\"1\" class=\"dataframe\">\n  <thead>\n    <tr style=\"text-align: right;\">\n      <th></th>\n      <th>CostContact</th>\n      <th>Revenue</th>\n      <th>Age</th>\n      <th>Education</th>\n      <th>MaritalStatus</th>\n      <th>NKids</th>\n      <th>NTeens</th>\n      <th>Income</th>\n      <th>MntWines</th>\n      <th>MntFruits</th>\n      <th>...</th>\n      <th>NWebPurchases</th>\n      <th>NCatalogPurchases</th>\n      <th>NStorePurchases</th>\n      <th>NWebVisitsMonth</th>\n      <th>Response1</th>\n      <th>Response2</th>\n      <th>Response3</th>\n      <th>Response4</th>\n      <th>Response5</th>\n      <th>Response</th>\n    </tr>\n    <tr>\n      <th>ID</th>\n      <th></th>\n      <th></th>\n      <th></th>\n      <th></th>\n      <th></th>\n      <th></th>\n      <th></th>\n      <th></th>\n      <th></th>\n      <th></th>\n      <th></th>\n      <th></th>\n      <th></th>\n      <th></th>\n      <th></th>\n      <th></th>\n      <th></th>\n      <th></th>\n      <th></th>\n      <th></th>\n      <th></th>\n    </tr>\n  </thead>\n  <tbody>\n  </tbody>\n</table>\n<p>0 rows × 28 columns</p>\n</div>"
     },
     "execution_count": 35,
     "metadata": {},
     "output_type": "execute_result"
    }
   ],
   "source": [
    "# checks if there are any cases where the sum of all monetary variables is equal to zero\n",
    "data[(data['MntWines'] + data['MntFruits'] + data['MntMeatProducts'] + data['MntFishProducts'] + data['MntSweetProducts']) == 0]"
   ]
  },
  {
   "cell_type": "markdown",
   "metadata": {},
   "source": [
    "The table above shows that there are no customers who did not spend any money in the company. Hence, the problem indicated before about customers who made purchases but spent zero monetary units does not occur in our dataset."
   ]
  },
  {
   "cell_type": "code",
   "execution_count": 36,
   "metadata": {},
   "outputs": [
    {
     "data": {
      "text/plain": "       CostContact  Revenue   Age   Education MaritalStatus  NKids  NTeens  \\\nID                                                                           \n5255             3       11  30.0  Graduation        Single    1.0     0.0   \n6237             3       11  50.0         PhD        Single    0.0     2.0   \n10311            3       11  47.0  Graduation       Married    0.0     1.0   \n4246             3       11  34.0      Master        Single    0.0     0.0   \n\n       Income  MntWines  MntFruits  ...  NWebPurchases  NCatalogPurchases  \\\nID                                  ...                                     \n5255      NaN         5          1  ...             27                  0   \n6237   7144.0        81          4  ...             23                  1   \n10311  4428.0        16          4  ...             25                  0   \n4246   6560.0        67         11  ...              1                  0   \n\n       NStorePurchases  NWebVisitsMonth  Response1  Response2  Response3  \\\nID                                                                         \n5255                 0                1          0          0          0   \n6237                 1                0          0          0          0   \n10311                0                1          0          0          0   \n4246                 1               17          0          0          0   \n\n       Response4  Response5  Response  \nID                                     \n5255           0          0         0  \n6237           0          0         0  \n10311          0          0         0  \n4246           0          0         0  \n\n[4 rows x 28 columns]",
      "text/html": "<div>\n<style scoped>\n    .dataframe tbody tr th:only-of-type {\n        vertical-align: middle;\n    }\n\n    .dataframe tbody tr th {\n        vertical-align: top;\n    }\n\n    .dataframe thead th {\n        text-align: right;\n    }\n</style>\n<table border=\"1\" class=\"dataframe\">\n  <thead>\n    <tr style=\"text-align: right;\">\n      <th></th>\n      <th>CostContact</th>\n      <th>Revenue</th>\n      <th>Age</th>\n      <th>Education</th>\n      <th>MaritalStatus</th>\n      <th>NKids</th>\n      <th>NTeens</th>\n      <th>Income</th>\n      <th>MntWines</th>\n      <th>MntFruits</th>\n      <th>...</th>\n      <th>NWebPurchases</th>\n      <th>NCatalogPurchases</th>\n      <th>NStorePurchases</th>\n      <th>NWebVisitsMonth</th>\n      <th>Response1</th>\n      <th>Response2</th>\n      <th>Response3</th>\n      <th>Response4</th>\n      <th>Response5</th>\n      <th>Response</th>\n    </tr>\n    <tr>\n      <th>ID</th>\n      <th></th>\n      <th></th>\n      <th></th>\n      <th></th>\n      <th></th>\n      <th></th>\n      <th></th>\n      <th></th>\n      <th></th>\n      <th></th>\n      <th></th>\n      <th></th>\n      <th></th>\n      <th></th>\n      <th></th>\n      <th></th>\n      <th></th>\n      <th></th>\n      <th></th>\n      <th></th>\n      <th></th>\n    </tr>\n  </thead>\n  <tbody>\n    <tr>\n      <th>5255</th>\n      <td>3</td>\n      <td>11</td>\n      <td>30.0</td>\n      <td>Graduation</td>\n      <td>Single</td>\n      <td>1.0</td>\n      <td>0.0</td>\n      <td>NaN</td>\n      <td>5</td>\n      <td>1</td>\n      <td>...</td>\n      <td>27</td>\n      <td>0</td>\n      <td>0</td>\n      <td>1</td>\n      <td>0</td>\n      <td>0</td>\n      <td>0</td>\n      <td>0</td>\n      <td>0</td>\n      <td>0</td>\n    </tr>\n    <tr>\n      <th>6237</th>\n      <td>3</td>\n      <td>11</td>\n      <td>50.0</td>\n      <td>PhD</td>\n      <td>Single</td>\n      <td>0.0</td>\n      <td>2.0</td>\n      <td>7144.0</td>\n      <td>81</td>\n      <td>4</td>\n      <td>...</td>\n      <td>23</td>\n      <td>1</td>\n      <td>1</td>\n      <td>0</td>\n      <td>0</td>\n      <td>0</td>\n      <td>0</td>\n      <td>0</td>\n      <td>0</td>\n      <td>0</td>\n    </tr>\n    <tr>\n      <th>10311</th>\n      <td>3</td>\n      <td>11</td>\n      <td>47.0</td>\n      <td>Graduation</td>\n      <td>Married</td>\n      <td>0.0</td>\n      <td>1.0</td>\n      <td>4428.0</td>\n      <td>16</td>\n      <td>4</td>\n      <td>...</td>\n      <td>25</td>\n      <td>0</td>\n      <td>0</td>\n      <td>1</td>\n      <td>0</td>\n      <td>0</td>\n      <td>0</td>\n      <td>0</td>\n      <td>0</td>\n      <td>0</td>\n    </tr>\n    <tr>\n      <th>4246</th>\n      <td>3</td>\n      <td>11</td>\n      <td>34.0</td>\n      <td>Master</td>\n      <td>Single</td>\n      <td>0.0</td>\n      <td>0.0</td>\n      <td>6560.0</td>\n      <td>67</td>\n      <td>11</td>\n      <td>...</td>\n      <td>1</td>\n      <td>0</td>\n      <td>1</td>\n      <td>17</td>\n      <td>0</td>\n      <td>0</td>\n      <td>0</td>\n      <td>0</td>\n      <td>0</td>\n      <td>0</td>\n    </tr>\n  </tbody>\n</table>\n<p>4 rows × 28 columns</p>\n</div>"
     },
     "execution_count": 36,
     "metadata": {},
     "output_type": "execute_result"
    }
   ],
   "source": [
    "data[(data['MntWines'] + data['MntFruits'] + data['MntMeatProducts'] + data['MntFishProducts'] + data['MntSweetProducts']) < data['MntGoldProds']]"
   ]
  },
  {
   "cell_type": "markdown",
   "metadata": {},
   "source": [
    "With the verification of the above condition it is possible to check that there are four customers who spent more money on gold products then on the total of the other products. This can be considered as an inconsistency of the dataset, as so these rows will be dropped out of the dataset in the next cell."
   ]
  },
  {
   "cell_type": "code",
   "execution_count": 37,
   "metadata": {},
   "outputs": [],
   "source": [
    "# drops rows with the indexes equal to the ones inside the list\n",
    "data.drop([4246,5255,6237,10311], inplace=True)"
   ]
  },
  {
   "cell_type": "markdown",
   "metadata": {},
   "source": [
    "#### Purchases\n",
    "\n",
    "Data inconsistencies can also be checked in the purchase features. By verifying:\n",
    "- Are there any customers who did make any purchases in the company? (_how could they be clients when they haven't made any purchases? (important to mention that the `Longevity` variables and previous `CustomerFrom` feature only have values if the customer made a purchase_)\n",
    "- Are there any clients who made more deal purchases than the sum of the web, store and catalog purchases? (_Such a case would not make sense, given that deal purchases is a subcategory of all the other (products bought on sale). Hence, why it would not make sense to have higher values in `NDealsPurchases` than in the sum of all other purchase features (if `NDealsPurchases` is higher than the sum of other variables those rows of the dataset should be dropped)._)"
   ]
  },
  {
   "cell_type": "code",
   "execution_count": 38,
   "metadata": {},
   "outputs": [
    {
     "data": {
      "text/plain": "       CostContact  Revenue   Age   Education MaritalStatus  NKids  NTeens  \\\nID                                                                           \n5555             3       11  41.0  Graduation      Divorced    0.0     0.0   \n9931             3       11  53.0         PhD       Married    1.0     1.0   \n11110            3       11  43.0  Graduation        Single    1.0     0.0   \n11181            3       11  67.0         PhD       Married    0.0     0.0   \n3955             3       11  51.0  Graduation      Divorced    0.0     0.0   \n6862             3       11  45.0  Graduation      Divorced    0.0     0.0   \n\n         Income  MntWines  MntFruits  ...  NWebPurchases  NCatalogPurchases  \\\nID                                    ...                                     \n5555   153924.0         1          1  ...              0                  0   \n9931     4023.0         5          0  ...              0                  0   \n11110    3502.0         2          1  ...              0                  0   \n11181  156924.0         2          1  ...              0                  0   \n3955     4861.0         2          1  ...              0                  0   \n6862     1730.0         1          1  ...              0                  0   \n\n       NStorePurchases  NWebVisitsMonth  Response1  Response2  Response3  \\\nID                                                                         \n5555                 0                0          0          0          0   \n9931                 0               19          0          0          0   \n11110                0               14          0          0          0   \n11181                0                0          0          0          0   \n3955                 0               14          0          0          0   \n6862                 0               20          0          0          0   \n\n       Response4  Response5  Response  \nID                                     \n5555           0          0         0  \n9931           0          0         0  \n11110          0          0         0  \n11181          0          0         0  \n3955           0          0         0  \n6862           0          0         0  \n\n[6 rows x 28 columns]",
      "text/html": "<div>\n<style scoped>\n    .dataframe tbody tr th:only-of-type {\n        vertical-align: middle;\n    }\n\n    .dataframe tbody tr th {\n        vertical-align: top;\n    }\n\n    .dataframe thead th {\n        text-align: right;\n    }\n</style>\n<table border=\"1\" class=\"dataframe\">\n  <thead>\n    <tr style=\"text-align: right;\">\n      <th></th>\n      <th>CostContact</th>\n      <th>Revenue</th>\n      <th>Age</th>\n      <th>Education</th>\n      <th>MaritalStatus</th>\n      <th>NKids</th>\n      <th>NTeens</th>\n      <th>Income</th>\n      <th>MntWines</th>\n      <th>MntFruits</th>\n      <th>...</th>\n      <th>NWebPurchases</th>\n      <th>NCatalogPurchases</th>\n      <th>NStorePurchases</th>\n      <th>NWebVisitsMonth</th>\n      <th>Response1</th>\n      <th>Response2</th>\n      <th>Response3</th>\n      <th>Response4</th>\n      <th>Response5</th>\n      <th>Response</th>\n    </tr>\n    <tr>\n      <th>ID</th>\n      <th></th>\n      <th></th>\n      <th></th>\n      <th></th>\n      <th></th>\n      <th></th>\n      <th></th>\n      <th></th>\n      <th></th>\n      <th></th>\n      <th></th>\n      <th></th>\n      <th></th>\n      <th></th>\n      <th></th>\n      <th></th>\n      <th></th>\n      <th></th>\n      <th></th>\n      <th></th>\n      <th></th>\n    </tr>\n  </thead>\n  <tbody>\n    <tr>\n      <th>5555</th>\n      <td>3</td>\n      <td>11</td>\n      <td>41.0</td>\n      <td>Graduation</td>\n      <td>Divorced</td>\n      <td>0.0</td>\n      <td>0.0</td>\n      <td>153924.0</td>\n      <td>1</td>\n      <td>1</td>\n      <td>...</td>\n      <td>0</td>\n      <td>0</td>\n      <td>0</td>\n      <td>0</td>\n      <td>0</td>\n      <td>0</td>\n      <td>0</td>\n      <td>0</td>\n      <td>0</td>\n      <td>0</td>\n    </tr>\n    <tr>\n      <th>9931</th>\n      <td>3</td>\n      <td>11</td>\n      <td>53.0</td>\n      <td>PhD</td>\n      <td>Married</td>\n      <td>1.0</td>\n      <td>1.0</td>\n      <td>4023.0</td>\n      <td>5</td>\n      <td>0</td>\n      <td>...</td>\n      <td>0</td>\n      <td>0</td>\n      <td>0</td>\n      <td>19</td>\n      <td>0</td>\n      <td>0</td>\n      <td>0</td>\n      <td>0</td>\n      <td>0</td>\n      <td>0</td>\n    </tr>\n    <tr>\n      <th>11110</th>\n      <td>3</td>\n      <td>11</td>\n      <td>43.0</td>\n      <td>Graduation</td>\n      <td>Single</td>\n      <td>1.0</td>\n      <td>0.0</td>\n      <td>3502.0</td>\n      <td>2</td>\n      <td>1</td>\n      <td>...</td>\n      <td>0</td>\n      <td>0</td>\n      <td>0</td>\n      <td>14</td>\n      <td>0</td>\n      <td>0</td>\n      <td>0</td>\n      <td>0</td>\n      <td>0</td>\n      <td>0</td>\n    </tr>\n    <tr>\n      <th>11181</th>\n      <td>3</td>\n      <td>11</td>\n      <td>67.0</td>\n      <td>PhD</td>\n      <td>Married</td>\n      <td>0.0</td>\n      <td>0.0</td>\n      <td>156924.0</td>\n      <td>2</td>\n      <td>1</td>\n      <td>...</td>\n      <td>0</td>\n      <td>0</td>\n      <td>0</td>\n      <td>0</td>\n      <td>0</td>\n      <td>0</td>\n      <td>0</td>\n      <td>0</td>\n      <td>0</td>\n      <td>0</td>\n    </tr>\n    <tr>\n      <th>3955</th>\n      <td>3</td>\n      <td>11</td>\n      <td>51.0</td>\n      <td>Graduation</td>\n      <td>Divorced</td>\n      <td>0.0</td>\n      <td>0.0</td>\n      <td>4861.0</td>\n      <td>2</td>\n      <td>1</td>\n      <td>...</td>\n      <td>0</td>\n      <td>0</td>\n      <td>0</td>\n      <td>14</td>\n      <td>0</td>\n      <td>0</td>\n      <td>0</td>\n      <td>0</td>\n      <td>0</td>\n      <td>0</td>\n    </tr>\n    <tr>\n      <th>6862</th>\n      <td>3</td>\n      <td>11</td>\n      <td>45.0</td>\n      <td>Graduation</td>\n      <td>Divorced</td>\n      <td>0.0</td>\n      <td>0.0</td>\n      <td>1730.0</td>\n      <td>1</td>\n      <td>1</td>\n      <td>...</td>\n      <td>0</td>\n      <td>0</td>\n      <td>0</td>\n      <td>20</td>\n      <td>0</td>\n      <td>0</td>\n      <td>0</td>\n      <td>0</td>\n      <td>0</td>\n      <td>0</td>\n    </tr>\n  </tbody>\n</table>\n<p>6 rows × 28 columns</p>\n</div>"
     },
     "execution_count": 38,
     "metadata": {},
     "output_type": "execute_result"
    }
   ],
   "source": [
    "# checks if there was any customer that did not make any purchase in the company\n",
    "data[(data['NWebPurchases'] + data['NStorePurchases'] + data['NCatalogPurchases']) == 0]"
   ]
  },
  {
   "cell_type": "code",
   "execution_count": 39,
   "metadata": {},
   "outputs": [],
   "source": [
    "# drops customers which did not make any purchase in the company\n",
    "data.drop([3955, 5555, 6862, 9931, 11110, 11181], inplace = True)"
   ]
  },
  {
   "cell_type": "code",
   "execution_count": 40,
   "metadata": {},
   "outputs": [
    {
     "data": {
      "text/plain": "       CostContact  Revenue   Age   Education MaritalStatus  NKids  NTeens  \\\nID                                                                           \n10749            3       11  25.0  Graduation        Single    0.0     0.0   \n\n       Income  MntWines  MntFruits  ...  NWebPurchases  NCatalogPurchases  \\\nID                                  ...                                     \n10749  8028.0        73         18  ...              0                  1   \n\n       NStorePurchases  NWebVisitsMonth  Response1  Response2  Response3  \\\nID                                                                         \n10749                0               19          0          0          0   \n\n       Response4  Response5  Response  \nID                                     \n10749          0          0         0  \n\n[1 rows x 28 columns]",
      "text/html": "<div>\n<style scoped>\n    .dataframe tbody tr th:only-of-type {\n        vertical-align: middle;\n    }\n\n    .dataframe tbody tr th {\n        vertical-align: top;\n    }\n\n    .dataframe thead th {\n        text-align: right;\n    }\n</style>\n<table border=\"1\" class=\"dataframe\">\n  <thead>\n    <tr style=\"text-align: right;\">\n      <th></th>\n      <th>CostContact</th>\n      <th>Revenue</th>\n      <th>Age</th>\n      <th>Education</th>\n      <th>MaritalStatus</th>\n      <th>NKids</th>\n      <th>NTeens</th>\n      <th>Income</th>\n      <th>MntWines</th>\n      <th>MntFruits</th>\n      <th>...</th>\n      <th>NWebPurchases</th>\n      <th>NCatalogPurchases</th>\n      <th>NStorePurchases</th>\n      <th>NWebVisitsMonth</th>\n      <th>Response1</th>\n      <th>Response2</th>\n      <th>Response3</th>\n      <th>Response4</th>\n      <th>Response5</th>\n      <th>Response</th>\n    </tr>\n    <tr>\n      <th>ID</th>\n      <th></th>\n      <th></th>\n      <th></th>\n      <th></th>\n      <th></th>\n      <th></th>\n      <th></th>\n      <th></th>\n      <th></th>\n      <th></th>\n      <th></th>\n      <th></th>\n      <th></th>\n      <th></th>\n      <th></th>\n      <th></th>\n      <th></th>\n      <th></th>\n      <th></th>\n      <th></th>\n      <th></th>\n    </tr>\n  </thead>\n  <tbody>\n    <tr>\n      <th>10749</th>\n      <td>3</td>\n      <td>11</td>\n      <td>25.0</td>\n      <td>Graduation</td>\n      <td>Single</td>\n      <td>0.0</td>\n      <td>0.0</td>\n      <td>8028.0</td>\n      <td>73</td>\n      <td>18</td>\n      <td>...</td>\n      <td>0</td>\n      <td>1</td>\n      <td>0</td>\n      <td>19</td>\n      <td>0</td>\n      <td>0</td>\n      <td>0</td>\n      <td>0</td>\n      <td>0</td>\n      <td>0</td>\n    </tr>\n  </tbody>\n</table>\n<p>1 rows × 28 columns</p>\n</div>"
     },
     "execution_count": 40,
     "metadata": {},
     "output_type": "execute_result"
    }
   ],
   "source": [
    "# confirms if there was any customer which made more `NDealsPurchases` than the sum of all other types of purchases\n",
    "data[(data['NWebPurchases'] + data['NStorePurchases'] + data['NCatalogPurchases']) < data['NDealsPurchases']]"
   ]
  },
  {
   "cell_type": "code",
   "execution_count": 41,
   "metadata": {},
   "outputs": [],
   "source": [
    "# drops customer who made more deal purchases than web,store and catalog purchases\n",
    "data.drop(10749, inplace = True)"
   ]
  },
  {
   "cell_type": "markdown",
   "metadata": {},
   "source": [
    "### Duplicated Values\n",
    "\n",
    "When doing the preprocessing of a dataset it is also needed to take into account that some rows might be duplicated, which can compromise further analysis of the data.\n",
    "Thus, why in the next cells, the 178 rows of duplicated values in the dataset will be deleted.\n",
    "\n",
    "When checking for duplicates, the response variables (`Response1`, `Response2`, `Response3`, `Response4`, `Response5`, `Response`), should not be included. This is due to the fact that it is not possible to have two customers with every single one of the first 24 variables with the exact same values, while having the same values for responses. With the responses there are 164 duplicate rows. However, without the response variables there are 178 duplicate rows.\n",
    "\n",
    "Therefore, we considered that a row represented a customer if every one of the first 24 variables were the same, even if the response variables were different. These last mentioned cases should be considered as an error."
   ]
  },
  {
   "cell_type": "code",
   "execution_count": 42,
   "metadata": {},
   "outputs": [
    {
     "data": {
      "text/plain": "       CostContact  Revenue   Age   Education MaritalStatus  NKids  NTeens  \\\nID                                                                           \n6853             3       11  34.0      Master        Single    0.0     0.0   \n67               3       11  44.0      Master        Single    1.0     1.0   \n3852             3       11  55.0      Master      Together    1.0     1.0   \n2452             3       11  45.0  Graduation      Together    1.0     1.0   \n8432             3       11  60.0  Graduation      Together    1.0     1.0   \n...            ...      ...   ...         ...           ...    ...     ...   \n10766            3       11  52.0         PhD       Married    0.0     1.0   \n8175             3       11  24.0  Graduation       Married    0.0     0.0   \n7375             3       11  40.0  Graduation      Together    0.0     1.0   \n1225             3       11  53.0  Graduation       Married    0.0     0.0   \n10795            3       11  43.0         PhD       Married    1.0     0.0   \n\n        Income  MntWines  MntFruits  ...  NWebPurchases  NCatalogPurchases  \\\nID                                   ...                                     \n6853   75777.0       712         26  ...              3                  6   \n67     46423.0        68          0  ...              2                  0   \n3852   74881.0       505         72  ...              9                  2   \n2452   34600.0       199         33  ...              5                  2   \n8432   54450.0       454          0  ...              9                  2   \n...        ...       ...        ...  ...            ...                ...   \n10766  65526.0       397         19  ...              4                  4   \n8175   34935.0        34          4  ...              2                  1   \n7375   51369.0       297          7  ...              8                  2   \n1225   80124.0       483         84  ...              3                  7   \n10795  37401.0        19          3  ...              2                  0   \n\n       NStorePurchases  NWebVisitsMonth  Response1  Response2  Response3  \\\nID                                                                         \n6853                11                1          0          0          0   \n67                   4                7          0          0          0   \n3852                12                5          0          0          0   \n2452                 5                8          0          0          0   \n8432                 8                8          0          0          0   \n...                ...              ...        ...        ...        ...   \n10766                8                2          0          0          0   \n8175                 4                7          0          0          0   \n7375                 4                8          0          0          0   \n1225                 8                1          0          0          1   \n10795                3                7          0          0          0   \n\n       Response4  Response5  Response  \nID                                     \n6853           1          1         1  \n67             0          0         0  \n3852           0          0         0  \n2452           0          0         1  \n8432           0          0         0  \n...          ...        ...       ...  \n10766          0          0         0  \n8175           0          0         0  \n7375           0          0         0  \n1225           0          0         0  \n10795          0          0         0  \n\n[178 rows x 28 columns]",
      "text/html": "<div>\n<style scoped>\n    .dataframe tbody tr th:only-of-type {\n        vertical-align: middle;\n    }\n\n    .dataframe tbody tr th {\n        vertical-align: top;\n    }\n\n    .dataframe thead th {\n        text-align: right;\n    }\n</style>\n<table border=\"1\" class=\"dataframe\">\n  <thead>\n    <tr style=\"text-align: right;\">\n      <th></th>\n      <th>CostContact</th>\n      <th>Revenue</th>\n      <th>Age</th>\n      <th>Education</th>\n      <th>MaritalStatus</th>\n      <th>NKids</th>\n      <th>NTeens</th>\n      <th>Income</th>\n      <th>MntWines</th>\n      <th>MntFruits</th>\n      <th>...</th>\n      <th>NWebPurchases</th>\n      <th>NCatalogPurchases</th>\n      <th>NStorePurchases</th>\n      <th>NWebVisitsMonth</th>\n      <th>Response1</th>\n      <th>Response2</th>\n      <th>Response3</th>\n      <th>Response4</th>\n      <th>Response5</th>\n      <th>Response</th>\n    </tr>\n    <tr>\n      <th>ID</th>\n      <th></th>\n      <th></th>\n      <th></th>\n      <th></th>\n      <th></th>\n      <th></th>\n      <th></th>\n      <th></th>\n      <th></th>\n      <th></th>\n      <th></th>\n      <th></th>\n      <th></th>\n      <th></th>\n      <th></th>\n      <th></th>\n      <th></th>\n      <th></th>\n      <th></th>\n      <th></th>\n      <th></th>\n    </tr>\n  </thead>\n  <tbody>\n    <tr>\n      <th>6853</th>\n      <td>3</td>\n      <td>11</td>\n      <td>34.0</td>\n      <td>Master</td>\n      <td>Single</td>\n      <td>0.0</td>\n      <td>0.0</td>\n      <td>75777.0</td>\n      <td>712</td>\n      <td>26</td>\n      <td>...</td>\n      <td>3</td>\n      <td>6</td>\n      <td>11</td>\n      <td>1</td>\n      <td>0</td>\n      <td>0</td>\n      <td>0</td>\n      <td>1</td>\n      <td>1</td>\n      <td>1</td>\n    </tr>\n    <tr>\n      <th>67</th>\n      <td>3</td>\n      <td>11</td>\n      <td>44.0</td>\n      <td>Master</td>\n      <td>Single</td>\n      <td>1.0</td>\n      <td>1.0</td>\n      <td>46423.0</td>\n      <td>68</td>\n      <td>0</td>\n      <td>...</td>\n      <td>2</td>\n      <td>0</td>\n      <td>4</td>\n      <td>7</td>\n      <td>0</td>\n      <td>0</td>\n      <td>0</td>\n      <td>0</td>\n      <td>0</td>\n      <td>0</td>\n    </tr>\n    <tr>\n      <th>3852</th>\n      <td>3</td>\n      <td>11</td>\n      <td>55.0</td>\n      <td>Master</td>\n      <td>Together</td>\n      <td>1.0</td>\n      <td>1.0</td>\n      <td>74881.0</td>\n      <td>505</td>\n      <td>72</td>\n      <td>...</td>\n      <td>9</td>\n      <td>2</td>\n      <td>12</td>\n      <td>5</td>\n      <td>0</td>\n      <td>0</td>\n      <td>0</td>\n      <td>0</td>\n      <td>0</td>\n      <td>0</td>\n    </tr>\n    <tr>\n      <th>2452</th>\n      <td>3</td>\n      <td>11</td>\n      <td>45.0</td>\n      <td>Graduation</td>\n      <td>Together</td>\n      <td>1.0</td>\n      <td>1.0</td>\n      <td>34600.0</td>\n      <td>199</td>\n      <td>33</td>\n      <td>...</td>\n      <td>5</td>\n      <td>2</td>\n      <td>5</td>\n      <td>8</td>\n      <td>0</td>\n      <td>0</td>\n      <td>0</td>\n      <td>0</td>\n      <td>0</td>\n      <td>1</td>\n    </tr>\n    <tr>\n      <th>8432</th>\n      <td>3</td>\n      <td>11</td>\n      <td>60.0</td>\n      <td>Graduation</td>\n      <td>Together</td>\n      <td>1.0</td>\n      <td>1.0</td>\n      <td>54450.0</td>\n      <td>454</td>\n      <td>0</td>\n      <td>...</td>\n      <td>9</td>\n      <td>2</td>\n      <td>8</td>\n      <td>8</td>\n      <td>0</td>\n      <td>0</td>\n      <td>0</td>\n      <td>0</td>\n      <td>0</td>\n      <td>0</td>\n    </tr>\n    <tr>\n      <th>...</th>\n      <td>...</td>\n      <td>...</td>\n      <td>...</td>\n      <td>...</td>\n      <td>...</td>\n      <td>...</td>\n      <td>...</td>\n      <td>...</td>\n      <td>...</td>\n      <td>...</td>\n      <td>...</td>\n      <td>...</td>\n      <td>...</td>\n      <td>...</td>\n      <td>...</td>\n      <td>...</td>\n      <td>...</td>\n      <td>...</td>\n      <td>...</td>\n      <td>...</td>\n      <td>...</td>\n    </tr>\n    <tr>\n      <th>10766</th>\n      <td>3</td>\n      <td>11</td>\n      <td>52.0</td>\n      <td>PhD</td>\n      <td>Married</td>\n      <td>0.0</td>\n      <td>1.0</td>\n      <td>65526.0</td>\n      <td>397</td>\n      <td>19</td>\n      <td>...</td>\n      <td>4</td>\n      <td>4</td>\n      <td>8</td>\n      <td>2</td>\n      <td>0</td>\n      <td>0</td>\n      <td>0</td>\n      <td>0</td>\n      <td>0</td>\n      <td>0</td>\n    </tr>\n    <tr>\n      <th>8175</th>\n      <td>3</td>\n      <td>11</td>\n      <td>24.0</td>\n      <td>Graduation</td>\n      <td>Married</td>\n      <td>0.0</td>\n      <td>0.0</td>\n      <td>34935.0</td>\n      <td>34</td>\n      <td>4</td>\n      <td>...</td>\n      <td>2</td>\n      <td>1</td>\n      <td>4</td>\n      <td>7</td>\n      <td>0</td>\n      <td>0</td>\n      <td>0</td>\n      <td>0</td>\n      <td>0</td>\n      <td>0</td>\n    </tr>\n    <tr>\n      <th>7375</th>\n      <td>3</td>\n      <td>11</td>\n      <td>40.0</td>\n      <td>Graduation</td>\n      <td>Together</td>\n      <td>0.0</td>\n      <td>1.0</td>\n      <td>51369.0</td>\n      <td>297</td>\n      <td>7</td>\n      <td>...</td>\n      <td>8</td>\n      <td>2</td>\n      <td>4</td>\n      <td>8</td>\n      <td>0</td>\n      <td>0</td>\n      <td>0</td>\n      <td>0</td>\n      <td>0</td>\n      <td>0</td>\n    </tr>\n    <tr>\n      <th>1225</th>\n      <td>3</td>\n      <td>11</td>\n      <td>53.0</td>\n      <td>Graduation</td>\n      <td>Married</td>\n      <td>0.0</td>\n      <td>0.0</td>\n      <td>80124.0</td>\n      <td>483</td>\n      <td>84</td>\n      <td>...</td>\n      <td>3</td>\n      <td>7</td>\n      <td>8</td>\n      <td>1</td>\n      <td>0</td>\n      <td>0</td>\n      <td>1</td>\n      <td>0</td>\n      <td>0</td>\n      <td>0</td>\n    </tr>\n    <tr>\n      <th>10795</th>\n      <td>3</td>\n      <td>11</td>\n      <td>43.0</td>\n      <td>PhD</td>\n      <td>Married</td>\n      <td>1.0</td>\n      <td>0.0</td>\n      <td>37401.0</td>\n      <td>19</td>\n      <td>3</td>\n      <td>...</td>\n      <td>2</td>\n      <td>0</td>\n      <td>3</td>\n      <td>7</td>\n      <td>0</td>\n      <td>0</td>\n      <td>0</td>\n      <td>0</td>\n      <td>0</td>\n      <td>0</td>\n    </tr>\n  </tbody>\n</table>\n<p>178 rows × 28 columns</p>\n</div>"
     },
     "execution_count": 42,
     "metadata": {},
     "output_type": "execute_result"
    }
   ],
   "source": [
    "# checks the duplicated rows (without including the response features)\n",
    "data[data.duplicated(subset = data.columns[:-6]) == True]"
   ]
  },
  {
   "cell_type": "markdown",
   "metadata": {},
   "source": [
    "From the results obtained above, it is possible to verify the existence of 178 duplicated rows, which are going to be removed from the dataset in the following step."
   ]
  },
  {
   "cell_type": "code",
   "execution_count": 43,
   "metadata": {},
   "outputs": [],
   "source": [
    "# drops duplicate rows of the dataset\n",
    "data.drop_duplicates(subset = data.columns[:-6], inplace=True)"
   ]
  },
  {
   "cell_type": "markdown",
   "metadata": {},
   "source": [
    "### Treatment of Outliers\n",
    "\n",
    "In regard to the presence of outliers in the dataset´s features, it is important to treat them prior to treating missing values. A great method to achieve this is through Robust Scaling.\n",
    "\n",
    "This method removes the median and scales the data according to the interquartile range of the variables. In this way, it is possible to escape the error of the mean or other statistics that are highly influenced by outliers.\n",
    "\n",
    "However, Robust Scaling has its own limitations and can only be applied in numerical data. Therefore, the separation between numerical and categorical data is crucial."
   ]
  },
  {
   "cell_type": "code",
   "execution_count": 44,
   "metadata": {
    "collapsed": false,
    "jupyter": {
     "outputs_hidden": false
    }
   },
   "outputs": [],
   "source": [
    "# Separation of Categorical and Numerical Variables\n",
    "data_numerical =  data.select_dtypes(include=np.number).set_index(data.index)\n",
    "data_categorical =  data.select_dtypes(exclude=np.number).set_index(data.index)"
   ]
  },
  {
   "cell_type": "markdown",
   "metadata": {},
   "source": [
    "Now that the data was divided into categorical and numerical variables it is time to fit the numerical data to the RobustScaler."
   ]
  },
  {
   "cell_type": "code",
   "execution_count": 45,
   "metadata": {
    "collapsed": false,
    "jupyter": {
     "outputs_hidden": false
    }
   },
   "outputs": [],
   "source": [
    "# fits the RobustScaler to the numerical data\n",
    "rb_scaler=RobustScaler().fit(data_numerical)"
   ]
  },
  {
   "cell_type": "code",
   "execution_count": 46,
   "metadata": {
    "collapsed": false,
    "jupyter": {
     "outputs_hidden": false
    }
   },
   "outputs": [],
   "source": [
    "# the numerical data is transformed using the robust scaler\n",
    "data_numerical_rb = rb_scaler.transform(data_numerical)\n",
    "# new dataframe is created with the scaled values\n",
    "data_numerical_rb = pd.DataFrame(data_numerical_rb, columns = data_numerical.columns, index = data.index)"
   ]
  },
  {
   "cell_type": "markdown",
   "metadata": {},
   "source": [
    "In order to ensure that the values of the variables were scaled, the new dataframe is printed in the next cell."
   ]
  },
  {
   "cell_type": "code",
   "execution_count": 47,
   "metadata": {
    "collapsed": false,
    "jupyter": {
     "outputs_hidden": false
    }
   },
   "outputs": [
    {
     "data": {
      "text/plain": "       CostContact  Revenue       Age  NKids  NTeens    Income  MntWines  \\\nID                                                                         \n5314           0.0      0.0  1.055556    0.0     1.0 -0.328149  0.196160   \n2493           0.0      0.0  0.222222    0.0     1.0  0.293244  0.374676   \n4931           0.0      0.0 -0.388889    0.0     0.0  3.185253 -0.362221   \n1100           0.0      0.0  0.555556    1.0     2.0 -0.310470 -0.314478   \n7224           0.0      0.0 -0.388889    NaN     NaN -0.609808 -0.343539   \n...            ...      ...       ...    ...     ...       ...       ...   \n3887           0.0      0.0  0.000000    1.0     0.0 -0.733833 -0.358070   \n5181           0.0      0.0 -0.666667    1.0     0.0 -0.820569 -0.360145   \n5758           0.0      0.0 -0.666667    0.0     0.0  0.410390  1.865075   \n9729           0.0      0.0  0.833333    1.0     1.0  0.202404  0.028023   \n10478          0.0      0.0  1.111111    1.0     1.0  0.119198  0.638298   \n\n       MntFruits  MntMeatProducts  MntFishProducts  ...  NWebPurchases  \\\nID                                                  ...                  \n5314   -0.161290        -0.189815         0.574468  ...           0.75   \n2493   -0.258065         0.180556         0.148936  ...           0.75   \n4931   -0.258065         7.671296        -0.212766  ...          -1.00   \n1100   -0.129032        -0.212963        -0.255319  ...          -0.25   \n7224   -0.258065        -0.268519        -0.191489  ...          -0.75   \n...          ...              ...              ...  ...            ...   \n3887    0.290323        -0.194444         0.170213  ...          -0.50   \n5181   -0.129032        -0.305556        -0.255319  ...          -0.75   \n5758   -0.258065         0.004630        -0.255319  ...           1.50   \n9729    0.064516         0.856481         0.936170  ...           1.00   \n10478  -0.258065         0.185185        -0.255319  ...           1.75   \n\n       NCatalogPurchases  NStorePurchases  NWebVisitsMonth  Response1  \\\nID                                                                      \n5314               -0.25              0.0             0.50        0.0   \n2493               -0.25              0.6            -0.25        0.0   \n4931                6.50             -1.0            -1.25        0.0   \n1100               -0.25             -0.4            -0.25        0.0   \n7224               -0.25             -0.6             0.50        0.0   \n...                  ...              ...              ...        ...   \n3887               -0.50             -0.4             0.75        0.0   \n5181               -0.50             -0.6             0.75        0.0   \n5758                0.50              1.6             0.00        1.0   \n9729                0.00              0.4             0.25        0.0   \n10478              -0.25              0.2             0.75        0.0   \n\n       Response2  Response3  Response4  Response5  Response  \nID                                                           \n5314         0.0        0.0        0.0        0.0       0.0  \n2493         0.0        0.0        0.0        0.0       0.0  \n4931         0.0        0.0        0.0        0.0       0.0  \n1100         0.0        0.0        0.0        0.0       0.0  \n7224         0.0        0.0        0.0        0.0       0.0  \n...          ...        ...        ...        ...       ...  \n3887         0.0        0.0        0.0        0.0       1.0  \n5181         0.0        0.0        0.0        0.0       0.0  \n5758         1.0        1.0        0.0        1.0       1.0  \n9729         0.0        0.0        0.0        0.0       0.0  \n10478        0.0        0.0        0.0        0.0       1.0  \n\n[2046 rows x 26 columns]",
      "text/html": "<div>\n<style scoped>\n    .dataframe tbody tr th:only-of-type {\n        vertical-align: middle;\n    }\n\n    .dataframe tbody tr th {\n        vertical-align: top;\n    }\n\n    .dataframe thead th {\n        text-align: right;\n    }\n</style>\n<table border=\"1\" class=\"dataframe\">\n  <thead>\n    <tr style=\"text-align: right;\">\n      <th></th>\n      <th>CostContact</th>\n      <th>Revenue</th>\n      <th>Age</th>\n      <th>NKids</th>\n      <th>NTeens</th>\n      <th>Income</th>\n      <th>MntWines</th>\n      <th>MntFruits</th>\n      <th>MntMeatProducts</th>\n      <th>MntFishProducts</th>\n      <th>...</th>\n      <th>NWebPurchases</th>\n      <th>NCatalogPurchases</th>\n      <th>NStorePurchases</th>\n      <th>NWebVisitsMonth</th>\n      <th>Response1</th>\n      <th>Response2</th>\n      <th>Response3</th>\n      <th>Response4</th>\n      <th>Response5</th>\n      <th>Response</th>\n    </tr>\n    <tr>\n      <th>ID</th>\n      <th></th>\n      <th></th>\n      <th></th>\n      <th></th>\n      <th></th>\n      <th></th>\n      <th></th>\n      <th></th>\n      <th></th>\n      <th></th>\n      <th></th>\n      <th></th>\n      <th></th>\n      <th></th>\n      <th></th>\n      <th></th>\n      <th></th>\n      <th></th>\n      <th></th>\n      <th></th>\n      <th></th>\n    </tr>\n  </thead>\n  <tbody>\n    <tr>\n      <th>5314</th>\n      <td>0.0</td>\n      <td>0.0</td>\n      <td>1.055556</td>\n      <td>0.0</td>\n      <td>1.0</td>\n      <td>-0.328149</td>\n      <td>0.196160</td>\n      <td>-0.161290</td>\n      <td>-0.189815</td>\n      <td>0.574468</td>\n      <td>...</td>\n      <td>0.75</td>\n      <td>-0.25</td>\n      <td>0.0</td>\n      <td>0.50</td>\n      <td>0.0</td>\n      <td>0.0</td>\n      <td>0.0</td>\n      <td>0.0</td>\n      <td>0.0</td>\n      <td>0.0</td>\n    </tr>\n    <tr>\n      <th>2493</th>\n      <td>0.0</td>\n      <td>0.0</td>\n      <td>0.222222</td>\n      <td>0.0</td>\n      <td>1.0</td>\n      <td>0.293244</td>\n      <td>0.374676</td>\n      <td>-0.258065</td>\n      <td>0.180556</td>\n      <td>0.148936</td>\n      <td>...</td>\n      <td>0.75</td>\n      <td>-0.25</td>\n      <td>0.6</td>\n      <td>-0.25</td>\n      <td>0.0</td>\n      <td>0.0</td>\n      <td>0.0</td>\n      <td>0.0</td>\n      <td>0.0</td>\n      <td>0.0</td>\n    </tr>\n    <tr>\n      <th>4931</th>\n      <td>0.0</td>\n      <td>0.0</td>\n      <td>-0.388889</td>\n      <td>0.0</td>\n      <td>0.0</td>\n      <td>3.185253</td>\n      <td>-0.362221</td>\n      <td>-0.258065</td>\n      <td>7.671296</td>\n      <td>-0.212766</td>\n      <td>...</td>\n      <td>-1.00</td>\n      <td>6.50</td>\n      <td>-1.0</td>\n      <td>-1.25</td>\n      <td>0.0</td>\n      <td>0.0</td>\n      <td>0.0</td>\n      <td>0.0</td>\n      <td>0.0</td>\n      <td>0.0</td>\n    </tr>\n    <tr>\n      <th>1100</th>\n      <td>0.0</td>\n      <td>0.0</td>\n      <td>0.555556</td>\n      <td>1.0</td>\n      <td>2.0</td>\n      <td>-0.310470</td>\n      <td>-0.314478</td>\n      <td>-0.129032</td>\n      <td>-0.212963</td>\n      <td>-0.255319</td>\n      <td>...</td>\n      <td>-0.25</td>\n      <td>-0.25</td>\n      <td>-0.4</td>\n      <td>-0.25</td>\n      <td>0.0</td>\n      <td>0.0</td>\n      <td>0.0</td>\n      <td>0.0</td>\n      <td>0.0</td>\n      <td>0.0</td>\n    </tr>\n    <tr>\n      <th>7224</th>\n      <td>0.0</td>\n      <td>0.0</td>\n      <td>-0.388889</td>\n      <td>NaN</td>\n      <td>NaN</td>\n      <td>-0.609808</td>\n      <td>-0.343539</td>\n      <td>-0.258065</td>\n      <td>-0.268519</td>\n      <td>-0.191489</td>\n      <td>...</td>\n      <td>-0.75</td>\n      <td>-0.25</td>\n      <td>-0.6</td>\n      <td>0.50</td>\n      <td>0.0</td>\n      <td>0.0</td>\n      <td>0.0</td>\n      <td>0.0</td>\n      <td>0.0</td>\n      <td>0.0</td>\n    </tr>\n    <tr>\n      <th>...</th>\n      <td>...</td>\n      <td>...</td>\n      <td>...</td>\n      <td>...</td>\n      <td>...</td>\n      <td>...</td>\n      <td>...</td>\n      <td>...</td>\n      <td>...</td>\n      <td>...</td>\n      <td>...</td>\n      <td>...</td>\n      <td>...</td>\n      <td>...</td>\n      <td>...</td>\n      <td>...</td>\n      <td>...</td>\n      <td>...</td>\n      <td>...</td>\n      <td>...</td>\n      <td>...</td>\n    </tr>\n    <tr>\n      <th>3887</th>\n      <td>0.0</td>\n      <td>0.0</td>\n      <td>0.000000</td>\n      <td>1.0</td>\n      <td>0.0</td>\n      <td>-0.733833</td>\n      <td>-0.358070</td>\n      <td>0.290323</td>\n      <td>-0.194444</td>\n      <td>0.170213</td>\n      <td>...</td>\n      <td>-0.50</td>\n      <td>-0.50</td>\n      <td>-0.4</td>\n      <td>0.75</td>\n      <td>0.0</td>\n      <td>0.0</td>\n      <td>0.0</td>\n      <td>0.0</td>\n      <td>0.0</td>\n      <td>1.0</td>\n    </tr>\n    <tr>\n      <th>5181</th>\n      <td>0.0</td>\n      <td>0.0</td>\n      <td>-0.666667</td>\n      <td>1.0</td>\n      <td>0.0</td>\n      <td>-0.820569</td>\n      <td>-0.360145</td>\n      <td>-0.129032</td>\n      <td>-0.305556</td>\n      <td>-0.255319</td>\n      <td>...</td>\n      <td>-0.75</td>\n      <td>-0.50</td>\n      <td>-0.6</td>\n      <td>0.75</td>\n      <td>0.0</td>\n      <td>0.0</td>\n      <td>0.0</td>\n      <td>0.0</td>\n      <td>0.0</td>\n      <td>0.0</td>\n    </tr>\n    <tr>\n      <th>5758</th>\n      <td>0.0</td>\n      <td>0.0</td>\n      <td>-0.666667</td>\n      <td>0.0</td>\n      <td>0.0</td>\n      <td>0.410390</td>\n      <td>1.865075</td>\n      <td>-0.258065</td>\n      <td>0.004630</td>\n      <td>-0.255319</td>\n      <td>...</td>\n      <td>1.50</td>\n      <td>0.50</td>\n      <td>1.6</td>\n      <td>0.00</td>\n      <td>1.0</td>\n      <td>1.0</td>\n      <td>1.0</td>\n      <td>0.0</td>\n      <td>1.0</td>\n      <td>1.0</td>\n    </tr>\n    <tr>\n      <th>9729</th>\n      <td>0.0</td>\n      <td>0.0</td>\n      <td>0.833333</td>\n      <td>1.0</td>\n      <td>1.0</td>\n      <td>0.202404</td>\n      <td>0.028023</td>\n      <td>0.064516</td>\n      <td>0.856481</td>\n      <td>0.936170</td>\n      <td>...</td>\n      <td>1.00</td>\n      <td>0.00</td>\n      <td>0.4</td>\n      <td>0.25</td>\n      <td>0.0</td>\n      <td>0.0</td>\n      <td>0.0</td>\n      <td>0.0</td>\n      <td>0.0</td>\n      <td>0.0</td>\n    </tr>\n    <tr>\n      <th>10478</th>\n      <td>0.0</td>\n      <td>0.0</td>\n      <td>1.111111</td>\n      <td>1.0</td>\n      <td>1.0</td>\n      <td>0.119198</td>\n      <td>0.638298</td>\n      <td>-0.258065</td>\n      <td>0.185185</td>\n      <td>-0.255319</td>\n      <td>...</td>\n      <td>1.75</td>\n      <td>-0.25</td>\n      <td>0.2</td>\n      <td>0.75</td>\n      <td>0.0</td>\n      <td>0.0</td>\n      <td>0.0</td>\n      <td>0.0</td>\n      <td>0.0</td>\n      <td>1.0</td>\n    </tr>\n  </tbody>\n</table>\n<p>2046 rows × 26 columns</p>\n</div>"
     },
     "execution_count": 47,
     "metadata": {},
     "output_type": "execute_result"
    }
   ],
   "source": [
    "# prints the new dataframe with the already scaled values of the variables\n",
    "data_numerical_rb"
   ]
  },
  {
   "cell_type": "markdown",
   "metadata": {},
   "source": [
    "## Treatment of Missing Values\n",
    "\n",
    "Data Analytic algorithms do not handle well missing values, as it can lead to a lack of precision in statistical methods that will be applied. Due to this, it is of extreme importance to treat the missing values in the dataset.\n",
    "\n",
    "Treatment of missing values can be done either by deleting the rows which contain NaN's or by imputing a value into them.\n",
    "Since in the dataset in study there still existed a great quantity of missing values, the safest option was to impute values into the missing values places.\n",
    "\n",
    "For categorical variables, the mode was used to substitute missing values. As for the numerical variables, KNN was used, which means it will try to find the best value to impute into the variable. It will find the K number of features most similar to the observation being treated and will replace the missing value with the average of the corresponding values of each chosen observation."
   ]
  },
  {
   "cell_type": "markdown",
   "metadata": {},
   "source": [
    "Firstly, the number of missing values for each variable of the dataset is checked."
   ]
  },
  {
   "cell_type": "code",
   "execution_count": 48,
   "metadata": {},
   "outputs": [],
   "source": [
    "# definition of the function that will be able to compute the number of missing values\n",
    "def nb_missing_values(df, use_inf_as_na=True):\n",
    "    pd.options.mode.use_inf_as_na = use_inf_as_na\n",
    "    df_na = df.isna().sum() \n",
    "    features_na = df_na[df_na > 0]    \n",
    "    df_na = pd.DataFrame.from_dict({\"Number of missing values\": features_na,\n",
    "                                    \"PValue of missing values\": features_na.divide(df.shape[0])})\n",
    "    return df_na"
   ]
  },
  {
   "cell_type": "code",
   "execution_count": 49,
   "metadata": {},
   "outputs": [],
   "source": [
    "# calls the function nb_missing_values for the dataset in study\n",
    "data_ms = nb_missing_values(data, True)"
   ]
  },
  {
   "cell_type": "code",
   "execution_count": 50,
   "metadata": {
    "collapsed": false,
    "jupyter": {
     "outputs_hidden": false
    }
   },
   "outputs": [
    {
     "data": {
      "text/plain": "           Number of missing values  PValue of missing values\nAge                              22                  0.010753\nEducation                        31                  0.015152\nNKids                            28                  0.013685\nNTeens                           28                  0.013685\nIncome                           50                  0.024438",
      "text/html": "<div>\n<style scoped>\n    .dataframe tbody tr th:only-of-type {\n        vertical-align: middle;\n    }\n\n    .dataframe tbody tr th {\n        vertical-align: top;\n    }\n\n    .dataframe thead th {\n        text-align: right;\n    }\n</style>\n<table border=\"1\" class=\"dataframe\">\n  <thead>\n    <tr style=\"text-align: right;\">\n      <th></th>\n      <th>Number of missing values</th>\n      <th>PValue of missing values</th>\n    </tr>\n  </thead>\n  <tbody>\n    <tr>\n      <th>Age</th>\n      <td>22</td>\n      <td>0.010753</td>\n    </tr>\n    <tr>\n      <th>Education</th>\n      <td>31</td>\n      <td>0.015152</td>\n    </tr>\n    <tr>\n      <th>NKids</th>\n      <td>28</td>\n      <td>0.013685</td>\n    </tr>\n    <tr>\n      <th>NTeens</th>\n      <td>28</td>\n      <td>0.013685</td>\n    </tr>\n    <tr>\n      <th>Income</th>\n      <td>50</td>\n      <td>0.024438</td>\n    </tr>\n  </tbody>\n</table>\n</div>"
     },
     "metadata": {},
     "output_type": "display_data"
    }
   ],
   "source": [
    "# displays the dataframe created by the function nb_missing_values in variable data_ms\n",
    "display(data_ms)"
   ]
  },
  {
   "cell_type": "markdown",
   "metadata": {},
   "source": [
    "From the above obtained results, it can be said that there are missing values in both numerical (`Age`,`Income`,`NKids`,`NTeens`) and categorical variables (`Education`). Consequently, two separate methods for treating missing values will be applied to the respective (categorical and numerical) variables of the dataset.\n",
    "\n",
    "The first method, KNN Imputer, will be used for the numerical data which already has robust scaling applied, while the second one will only be applied to the categorical data."
   ]
  },
  {
   "cell_type": "markdown",
   "metadata": {},
   "source": [
    "#### Numerical Features\n",
    "\n",
    "For the numerical features of the dataset which presents missing values - `Age`,`Income` - K-Nearest-Neighbors (KNN) was used. As explained a few paragraphs above, this technique will find the best value to impute into the missing values spots.\n",
    "\n",
    "In the next two cells there occurs the definition of the KNN imputer, where the number of neighbours was set to 5. Therefore, the most similar 5 features of the dataset will be chosen and then statistical methods will be done in order to reach the best value of impute for each missing value.\n"
   ]
  },
  {
   "cell_type": "code",
   "execution_count": 51,
   "metadata": {},
   "outputs": [
    {
     "data": {
      "text/plain": "Empty DataFrame\nColumns: [Number of missing values, PValue of missing values]\nIndex: []",
      "text/html": "<div>\n<style scoped>\n    .dataframe tbody tr th:only-of-type {\n        vertical-align: middle;\n    }\n\n    .dataframe tbody tr th {\n        vertical-align: top;\n    }\n\n    .dataframe thead th {\n        text-align: right;\n    }\n</style>\n<table border=\"1\" class=\"dataframe\">\n  <thead>\n    <tr style=\"text-align: right;\">\n      <th></th>\n      <th>Number of missing values</th>\n      <th>PValue of missing values</th>\n    </tr>\n  </thead>\n  <tbody>\n  </tbody>\n</table>\n</div>"
     },
     "metadata": {},
     "output_type": "display_data"
    }
   ],
   "source": [
    "# definition the KNN imputer variable\n",
    "imputer = KNNImputer(n_neighbors = 5)\n",
    "\n",
    "# creation of a new dataframe with only the scaled numerical data\n",
    "# scaled numerical data is fitted with the knn imputer\n",
    "data_numerical_rb = pd.DataFrame(imputer.fit_transform(data_numerical_rb), index = data.index, columns = data_numerical_rb.columns)\n",
    "\n",
    "# create a variable using the previous function which checks for the number of missing values in variables\n",
    "data_ms = nb_missing_values(data_numerical_rb, True)\n",
    "\n",
    "# print of data_ms to check if missing values have been treated\n",
    "display(data_ms)"
   ]
  },
  {
   "cell_type": "markdown",
   "metadata": {},
   "source": [
    "No rows in the above table mean that all the missing values for the numerical variable - `Age`,`Income`,`NKids`,`NTeens` - have been treated and no longer exist."
   ]
  },
  {
   "cell_type": "markdown",
   "metadata": {},
   "source": [
    "#### Categorical Features\n",
    "\n",
    "In what regards the treatment of missing values for the categorical feature (`Education`), the method used was the replacement of the NaN with the mode of all the values from the feature it belongs to.\n",
    "\n",
    "From an above computed cell, it was possible to check that variable `Education` has 31 missing values; which will now be treated."
   ]
  },
  {
   "cell_type": "markdown",
   "metadata": {},
   "source": [
    "As there is only one categorical feature, on the whole dataset, with missing values, the transformation will be directly applied to the `Education` feature."
   ]
  },
  {
   "cell_type": "code",
   "execution_count": 52,
   "metadata": {},
   "outputs": [],
   "source": [
    "# filling of the missing values of the categorical variable with the mode of the feature\n",
    "data_categorical[\"Education\"].fillna(value=data_categorical[\"Education\"].mode().values[0], inplace=True)"
   ]
  },
  {
   "cell_type": "code",
   "execution_count": 53,
   "metadata": {},
   "outputs": [
    {
     "data": {
      "text/plain": "Empty DataFrame\nColumns: [Number of missing values, PValue of missing values]\nIndex: []",
      "text/html": "<div>\n<style scoped>\n    .dataframe tbody tr th:only-of-type {\n        vertical-align: middle;\n    }\n\n    .dataframe tbody tr th {\n        vertical-align: top;\n    }\n\n    .dataframe thead th {\n        text-align: right;\n    }\n</style>\n<table border=\"1\" class=\"dataframe\">\n  <thead>\n    <tr style=\"text-align: right;\">\n      <th></th>\n      <th>Number of missing values</th>\n      <th>PValue of missing values</th>\n    </tr>\n  </thead>\n  <tbody>\n  </tbody>\n</table>\n</div>"
     },
     "metadata": {},
     "output_type": "display_data"
    }
   ],
   "source": [
    "# calling of the function which counts the missing values of the variables of the dataset\n",
    "data_ms = nb_missing_values(data_categorical, True)\n",
    "# printing of data_ms\n",
    "display(data_ms)"
   ]
  },
  {
   "cell_type": "markdown",
   "metadata": {},
   "source": [
    "There are no remaining missing values in our dataset."
   ]
  },
  {
   "cell_type": "markdown",
   "metadata": {},
   "source": [
    "## Unscaling and Rejoining of the Datasets\n",
    "\n",
    "To ensure that data analysis in the next steps of the project were correctly done, it is needed to unscale the data. The now again existing outliers in the dataset, will be taken into account in further analysis, never ensuring that the result values are 100% accurate."
   ]
  },
  {
   "cell_type": "code",
   "execution_count": 54,
   "metadata": {},
   "outputs": [],
   "source": [
    "# unscaling of the scaled numerical data\n",
    "data_numerical_rb_unscaled = rb_scaler.inverse_transform(data_numerical_rb)"
   ]
  },
  {
   "cell_type": "code",
   "execution_count": 55,
   "metadata": {},
   "outputs": [],
   "source": [
    "# creation of a dataframe with only the unscaled numerical data\n",
    "data_numerical_rb_unscaled = pd.DataFrame(data_numerical_rb_unscaled, columns = data_numerical.columns, index = data.index)"
   ]
  },
  {
   "cell_type": "code",
   "execution_count": 56,
   "metadata": {},
   "outputs": [],
   "source": [
    "# joining the unscaled numerical data with the categorical variables in a joint dataframe\n",
    "data = data_numerical_rb_unscaled.join(data_categorical)"
   ]
  },
  {
   "cell_type": "markdown",
   "metadata": {},
   "source": [
    "## Final Adjustments to the Dataset"
   ]
  },
  {
   "cell_type": "markdown",
   "metadata": {},
   "source": [
    "As a way to ensure that the dataset is completely cleaned, the following cells were created."
   ]
  },
  {
   "cell_type": "code",
   "execution_count": 57,
   "metadata": {},
   "outputs": [
    {
     "name": "stdout",
     "output_type": "stream",
     "text": [
      "<class 'pandas.core.frame.DataFrame'>\n",
      "Int64Index: 2046 entries, 5314 to 10478\n",
      "Data columns (total 28 columns):\n",
      " #   Column             Non-Null Count  Dtype  \n",
      "---  ------             --------------  -----  \n",
      " 0   CostContact        2046 non-null   float64\n",
      " 1   Revenue            2046 non-null   float64\n",
      " 2   Age                2046 non-null   float64\n",
      " 3   NKids              2046 non-null   float64\n",
      " 4   NTeens             2046 non-null   float64\n",
      " 5   Income             2046 non-null   float64\n",
      " 6   MntWines           2046 non-null   float64\n",
      " 7   MntFruits          2046 non-null   float64\n",
      " 8   MntMeatProducts    2046 non-null   float64\n",
      " 9   MntFishProducts    2046 non-null   float64\n",
      " 10  MntSweetProducts   2046 non-null   float64\n",
      " 11  MntGoldProds       2046 non-null   float64\n",
      " 12  Longevity          2046 non-null   float64\n",
      " 13  Complain           2046 non-null   float64\n",
      " 14  Recency            2046 non-null   float64\n",
      " 15  NDealsPurchases    2046 non-null   float64\n",
      " 16  NWebPurchases      2046 non-null   float64\n",
      " 17  NCatalogPurchases  2046 non-null   float64\n",
      " 18  NStorePurchases    2046 non-null   float64\n",
      " 19  NWebVisitsMonth    2046 non-null   float64\n",
      " 20  Response1          2046 non-null   float64\n",
      " 21  Response2          2046 non-null   float64\n",
      " 22  Response3          2046 non-null   float64\n",
      " 23  Response4          2046 non-null   float64\n",
      " 24  Response5          2046 non-null   float64\n",
      " 25  Response           2046 non-null   float64\n",
      " 26  Education          2046 non-null   object \n",
      " 27  MaritalStatus      2046 non-null   object \n",
      "dtypes: float64(26), object(2)\n",
      "memory usage: 528.1+ KB\n"
     ]
    }
   ],
   "source": [
    "data.info()"
   ]
  },
  {
   "cell_type": "markdown",
   "metadata": {},
   "source": [
    "As is shown above, every numerical feature is in float format. For that reason, two lists were created. The first list contains every fetaure which should be represented as an integer. In the second list, there are features which should be represented as floats. However, as they all represent monetary units, they should be rounded with two decimal places (which is computed in the second for loop cell)."
   ]
  },
  {
   "cell_type": "code",
   "execution_count": 58,
   "metadata": {},
   "outputs": [],
   "source": [
    "# list with all the variables that should be in integer form\n",
    "cols_should_be_int = ['CostContact', 'Revenue', 'Age', 'NKids', 'NTeens', 'Longevity', 'Recency', 'NDealsPurchases', 'NWebPurchases',\n",
    "                      'NCatalogPurchases', 'NStorePurchases', 'NWebVisitsMonth', 'Complain', 'Response1', 'Response2', \n",
    "                      'Response3', 'Response4', 'Response5', 'Response']"
   ]
  },
  {
   "cell_type": "code",
   "execution_count": 59,
   "metadata": {
    "collapsed": false,
    "jupyter": {
     "outputs_hidden": false
    }
   },
   "outputs": [],
   "source": [
    "# list with all the features that should be in float but rounded form\n",
    "cols_float_should_be_round = ['Income', 'MntWines', 'MntFruits', 'MntMeatProducts', 'MntFishProducts',\n",
    "                              'MntFishProducts', 'MntSweetProducts', 'MntGoldProds']"
   ]
  },
  {
   "cell_type": "code",
   "execution_count": 60,
   "metadata": {},
   "outputs": [],
   "source": [
    "# for loop which turns any feature in the list into a variable in a integer64 format\n",
    "for feature in cols_should_be_int:\n",
    "    data[feature] = data[feature].astype('int64')"
   ]
  },
  {
   "cell_type": "code",
   "execution_count": 61,
   "metadata": {
    "collapsed": false,
    "jupyter": {
     "outputs_hidden": false
    }
   },
   "outputs": [],
   "source": [
    "# for loop which rounds the numbers of the variables in the list to two decimal cases\n",
    "for feature in cols_float_should_be_round:\n",
    "    data[feature] = data[feature].round(2)"
   ]
  },
  {
   "cell_type": "code",
   "execution_count": 62,
   "metadata": {},
   "outputs": [
    {
     "name": "stdout",
     "output_type": "stream",
     "text": [
      "<class 'pandas.core.frame.DataFrame'>\n",
      "Int64Index: 2046 entries, 5314 to 10478\n",
      "Data columns (total 28 columns):\n",
      " #   Column             Non-Null Count  Dtype  \n",
      "---  ------             --------------  -----  \n",
      " 0   CostContact        2046 non-null   int64  \n",
      " 1   Revenue            2046 non-null   int64  \n",
      " 2   Age                2046 non-null   int64  \n",
      " 3   NKids              2046 non-null   int64  \n",
      " 4   NTeens             2046 non-null   int64  \n",
      " 5   Income             2046 non-null   float64\n",
      " 6   MntWines           2046 non-null   float64\n",
      " 7   MntFruits          2046 non-null   float64\n",
      " 8   MntMeatProducts    2046 non-null   float64\n",
      " 9   MntFishProducts    2046 non-null   float64\n",
      " 10  MntSweetProducts   2046 non-null   float64\n",
      " 11  MntGoldProds       2046 non-null   float64\n",
      " 12  Longevity          2046 non-null   int64  \n",
      " 13  Complain           2046 non-null   int64  \n",
      " 14  Recency            2046 non-null   int64  \n",
      " 15  NDealsPurchases    2046 non-null   int64  \n",
      " 16  NWebPurchases      2046 non-null   int64  \n",
      " 17  NCatalogPurchases  2046 non-null   int64  \n",
      " 18  NStorePurchases    2046 non-null   int64  \n",
      " 19  NWebVisitsMonth    2046 non-null   int64  \n",
      " 20  Response1          2046 non-null   int64  \n",
      " 21  Response2          2046 non-null   int64  \n",
      " 22  Response3          2046 non-null   int64  \n",
      " 23  Response4          2046 non-null   int64  \n",
      " 24  Response5          2046 non-null   int64  \n",
      " 25  Response           2046 non-null   int64  \n",
      " 26  Education          2046 non-null   object \n",
      " 27  MaritalStatus      2046 non-null   object \n",
      "dtypes: float64(7), int64(19), object(2)\n",
      "memory usage: 528.1+ KB\n"
     ]
    }
   ],
   "source": [
    "# prints the information of the missing values and type of the variables\n",
    "data.info()"
   ]
  },
  {
   "cell_type": "markdown",
   "metadata": {},
   "source": [
    "Now the variables are all in the right format and no missing values exist in the dataset."
   ]
  },
  {
   "cell_type": "markdown",
   "metadata": {},
   "source": [
    "With the imputation of new values to the previous missing values, and approximation of the float values to two decimal cases, there now might exist duplicates in the dataframe. Therefore, and as done previously, a duplicates verification was done in the next cells."
   ]
  },
  {
   "cell_type": "code",
   "execution_count": 63,
   "metadata": {},
   "outputs": [
    {
     "data": {
      "text/plain": "       CostContact  Revenue  Age  NKids  NTeens   Income  MntWines  MntFruits  \\\nID                                                                              \n49               3       11   46      1       0  20587.0       2.0        3.0   \n6310             3       11   38      1       0  33039.0      30.0        8.0   \n202              3       11   68      0       0  82032.0     332.0      194.0   \n2253             3       11   26      0       0  18929.0      32.0        0.0   \n92               3       11   28      1       0  34176.0       5.0        7.0   \n10128            3       11   58      0       1  53977.0     620.0       16.0   \n2814             3       11   40      1       0  30560.0       9.0        1.0   \n8427             3       11   60      0       0  64857.0     556.0       14.0   \n5830             3       11   44      0       0  86857.0     899.0      102.0   \n8420             3       11   46      0       0  15315.0       7.0        4.0   \n\n       MntMeatProducts  MntFishProducts  ...  NStorePurchases  \\\nID                                       ...                    \n49                 6.0              4.0  ...                2   \n6310              12.0              8.0  ...                4   \n202              377.0            149.0  ...                7   \n2253               8.0             23.0  ...                4   \n92                24.0             19.0  ...                4   \n10128            165.0              0.0  ...               12   \n2814               5.0              4.0  ...                3   \n8427             717.0            210.0  ...               10   \n5830             838.0            133.0  ...               10   \n8420              13.0             15.0  ...                4   \n\n       NWebVisitsMonth  Response1  Response2  Response3  Response4  Response5  \\\nID                                                                              \n49                   7          0          0          0          0          0   \n6310                 5          0          0          0          0          0   \n202                  1          0          0          0          0          0   \n2253                 6          0          0          0          0          0   \n92                   6          0          0          0          0          0   \n10128                5          0          0          0          0          0   \n2814                 7          0          0          0          0          0   \n8427                 4          0          0          0          0          0   \n5830                 2          0          0          0          0          0   \n8420                 5          0          0          0          0          0   \n\n       Response    Education  MaritalStatus  \nID                                           \n49            0   Graduation         Single  \n6310          0   Graduation        Married  \n202           0          PhD          Widow  \n2253          0   Graduation        Married  \n92            0   Graduation         Single  \n10128         0   Graduation       Together  \n2814          0       Master       Together  \n8427          0       Master         Single  \n5830          1          PhD         Single  \n8420          0  High School        Married  \n\n[10 rows x 28 columns]",
      "text/html": "<div>\n<style scoped>\n    .dataframe tbody tr th:only-of-type {\n        vertical-align: middle;\n    }\n\n    .dataframe tbody tr th {\n        vertical-align: top;\n    }\n\n    .dataframe thead th {\n        text-align: right;\n    }\n</style>\n<table border=\"1\" class=\"dataframe\">\n  <thead>\n    <tr style=\"text-align: right;\">\n      <th></th>\n      <th>CostContact</th>\n      <th>Revenue</th>\n      <th>Age</th>\n      <th>NKids</th>\n      <th>NTeens</th>\n      <th>Income</th>\n      <th>MntWines</th>\n      <th>MntFruits</th>\n      <th>MntMeatProducts</th>\n      <th>MntFishProducts</th>\n      <th>...</th>\n      <th>NStorePurchases</th>\n      <th>NWebVisitsMonth</th>\n      <th>Response1</th>\n      <th>Response2</th>\n      <th>Response3</th>\n      <th>Response4</th>\n      <th>Response5</th>\n      <th>Response</th>\n      <th>Education</th>\n      <th>MaritalStatus</th>\n    </tr>\n    <tr>\n      <th>ID</th>\n      <th></th>\n      <th></th>\n      <th></th>\n      <th></th>\n      <th></th>\n      <th></th>\n      <th></th>\n      <th></th>\n      <th></th>\n      <th></th>\n      <th></th>\n      <th></th>\n      <th></th>\n      <th></th>\n      <th></th>\n      <th></th>\n      <th></th>\n      <th></th>\n      <th></th>\n      <th></th>\n      <th></th>\n    </tr>\n  </thead>\n  <tbody>\n    <tr>\n      <th>49</th>\n      <td>3</td>\n      <td>11</td>\n      <td>46</td>\n      <td>1</td>\n      <td>0</td>\n      <td>20587.0</td>\n      <td>2.0</td>\n      <td>3.0</td>\n      <td>6.0</td>\n      <td>4.0</td>\n      <td>...</td>\n      <td>2</td>\n      <td>7</td>\n      <td>0</td>\n      <td>0</td>\n      <td>0</td>\n      <td>0</td>\n      <td>0</td>\n      <td>0</td>\n      <td>Graduation</td>\n      <td>Single</td>\n    </tr>\n    <tr>\n      <th>6310</th>\n      <td>3</td>\n      <td>11</td>\n      <td>38</td>\n      <td>1</td>\n      <td>0</td>\n      <td>33039.0</td>\n      <td>30.0</td>\n      <td>8.0</td>\n      <td>12.0</td>\n      <td>8.0</td>\n      <td>...</td>\n      <td>4</td>\n      <td>5</td>\n      <td>0</td>\n      <td>0</td>\n      <td>0</td>\n      <td>0</td>\n      <td>0</td>\n      <td>0</td>\n      <td>Graduation</td>\n      <td>Married</td>\n    </tr>\n    <tr>\n      <th>202</th>\n      <td>3</td>\n      <td>11</td>\n      <td>68</td>\n      <td>0</td>\n      <td>0</td>\n      <td>82032.0</td>\n      <td>332.0</td>\n      <td>194.0</td>\n      <td>377.0</td>\n      <td>149.0</td>\n      <td>...</td>\n      <td>7</td>\n      <td>1</td>\n      <td>0</td>\n      <td>0</td>\n      <td>0</td>\n      <td>0</td>\n      <td>0</td>\n      <td>0</td>\n      <td>PhD</td>\n      <td>Widow</td>\n    </tr>\n    <tr>\n      <th>2253</th>\n      <td>3</td>\n      <td>11</td>\n      <td>26</td>\n      <td>0</td>\n      <td>0</td>\n      <td>18929.0</td>\n      <td>32.0</td>\n      <td>0.0</td>\n      <td>8.0</td>\n      <td>23.0</td>\n      <td>...</td>\n      <td>4</td>\n      <td>6</td>\n      <td>0</td>\n      <td>0</td>\n      <td>0</td>\n      <td>0</td>\n      <td>0</td>\n      <td>0</td>\n      <td>Graduation</td>\n      <td>Married</td>\n    </tr>\n    <tr>\n      <th>92</th>\n      <td>3</td>\n      <td>11</td>\n      <td>28</td>\n      <td>1</td>\n      <td>0</td>\n      <td>34176.0</td>\n      <td>5.0</td>\n      <td>7.0</td>\n      <td>24.0</td>\n      <td>19.0</td>\n      <td>...</td>\n      <td>4</td>\n      <td>6</td>\n      <td>0</td>\n      <td>0</td>\n      <td>0</td>\n      <td>0</td>\n      <td>0</td>\n      <td>0</td>\n      <td>Graduation</td>\n      <td>Single</td>\n    </tr>\n    <tr>\n      <th>10128</th>\n      <td>3</td>\n      <td>11</td>\n      <td>58</td>\n      <td>0</td>\n      <td>1</td>\n      <td>53977.0</td>\n      <td>620.0</td>\n      <td>16.0</td>\n      <td>165.0</td>\n      <td>0.0</td>\n      <td>...</td>\n      <td>12</td>\n      <td>5</td>\n      <td>0</td>\n      <td>0</td>\n      <td>0</td>\n      <td>0</td>\n      <td>0</td>\n      <td>0</td>\n      <td>Graduation</td>\n      <td>Together</td>\n    </tr>\n    <tr>\n      <th>2814</th>\n      <td>3</td>\n      <td>11</td>\n      <td>40</td>\n      <td>1</td>\n      <td>0</td>\n      <td>30560.0</td>\n      <td>9.0</td>\n      <td>1.0</td>\n      <td>5.0</td>\n      <td>4.0</td>\n      <td>...</td>\n      <td>3</td>\n      <td>7</td>\n      <td>0</td>\n      <td>0</td>\n      <td>0</td>\n      <td>0</td>\n      <td>0</td>\n      <td>0</td>\n      <td>Master</td>\n      <td>Together</td>\n    </tr>\n    <tr>\n      <th>8427</th>\n      <td>3</td>\n      <td>11</td>\n      <td>60</td>\n      <td>0</td>\n      <td>0</td>\n      <td>64857.0</td>\n      <td>556.0</td>\n      <td>14.0</td>\n      <td>717.0</td>\n      <td>210.0</td>\n      <td>...</td>\n      <td>10</td>\n      <td>4</td>\n      <td>0</td>\n      <td>0</td>\n      <td>0</td>\n      <td>0</td>\n      <td>0</td>\n      <td>0</td>\n      <td>Master</td>\n      <td>Single</td>\n    </tr>\n    <tr>\n      <th>5830</th>\n      <td>3</td>\n      <td>11</td>\n      <td>44</td>\n      <td>0</td>\n      <td>0</td>\n      <td>86857.0</td>\n      <td>899.0</td>\n      <td>102.0</td>\n      <td>838.0</td>\n      <td>133.0</td>\n      <td>...</td>\n      <td>10</td>\n      <td>2</td>\n      <td>0</td>\n      <td>0</td>\n      <td>0</td>\n      <td>0</td>\n      <td>0</td>\n      <td>1</td>\n      <td>PhD</td>\n      <td>Single</td>\n    </tr>\n    <tr>\n      <th>8420</th>\n      <td>3</td>\n      <td>11</td>\n      <td>46</td>\n      <td>0</td>\n      <td>0</td>\n      <td>15315.0</td>\n      <td>7.0</td>\n      <td>4.0</td>\n      <td>13.0</td>\n      <td>15.0</td>\n      <td>...</td>\n      <td>4</td>\n      <td>5</td>\n      <td>0</td>\n      <td>0</td>\n      <td>0</td>\n      <td>0</td>\n      <td>0</td>\n      <td>0</td>\n      <td>High School</td>\n      <td>Married</td>\n    </tr>\n  </tbody>\n</table>\n<p>10 rows × 28 columns</p>\n</div>"
     },
     "execution_count": 63,
     "metadata": {},
     "output_type": "execute_result"
    }
   ],
   "source": [
    "# checks for duplicates in the dataset (does not include the response features)\n",
    "data[data.duplicated(subset = data.drop(['Response1', 'Response2', 'Response3', 'Response4', 'Response5', 'Response'], axis = 1).columns) == True]"
   ]
  },
  {
   "cell_type": "markdown",
   "metadata": {},
   "source": [
    "After all the preprocessing methods were applied, it is now possible to check that there still exist ten duplicate rows in the dataset. As so, these will be dropped in the next cell."
   ]
  },
  {
   "cell_type": "code",
   "execution_count": 64,
   "metadata": {},
   "outputs": [],
   "source": [
    "# drops the duplicates for the response variables in the dataset\n",
    "data.drop_duplicates(subset = data.drop(['Response1', 'Response2','Response3', 'Response4', 'Response5', 'Response'], axis = 1).columns, inplace=True)"
   ]
  },
  {
   "cell_type": "markdown",
   "metadata": {},
   "source": [
    "Data exportation with new alterations to an Excel file."
   ]
  },
  {
   "cell_type": "code",
   "execution_count": 65,
   "metadata": {},
   "outputs": [],
   "source": [
    "data.to_excel(path + \"2Preprocess.xlsx\")"
   ]
  }
 ],
 "metadata": {
  "kernelspec": {
   "display_name": "Python 3",
   "language": "python",
   "name": "python3"
  },
  "language_info": {
   "codemirror_mode": {
    "name": "ipython",
    "version": 3
   },
   "file_extension": ".py",
   "mimetype": "text/x-python",
   "name": "python",
   "nbconvert_exporter": "python",
   "pygments_lexer": "ipython3",
   "version": "3.8.8"
  }
 },
 "nbformat": 4,
 "nbformat_minor": 4
}
