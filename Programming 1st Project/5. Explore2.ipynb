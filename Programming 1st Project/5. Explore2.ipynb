{
 "cells": [
  {
   "cell_type": "markdown",
   "metadata": {},
   "source": [
    "**Group Members**:\n",
    "- Afonso Cadete | 20211519@novaims.unl.pt\n",
    "- Catarina Oliveira | 20211616@novaims.unl.pt\n",
    "- Joana Rosa | 20211516@novaims.unl.pt\n",
    "- Rita Centeno | 20211579@novaims.unl.pt"
   ]
  },
  {
   "cell_type": "markdown",
   "metadata": {},
   "source": [
    "# 5. Jupyter Notebook - Explore2\n",
    "## Joint Feature Discrimination\n",
    "\n",
    "In this semifinal notebook, the main goal is to assess the features' joint discrimination ability, while being able to:\n",
    "- perform deep exploration of a small set of features of the dataset;\n",
    "- find out a set of representative characteristics of the respondents;\n",
    "- computation of the maximum expected profit."
   ]
  },
  {
   "cell_type": "code",
   "execution_count": 1,
   "metadata": {
    "collapsed": false,
    "jupyter": {
     "outputs_hidden": false
    }
   },
   "outputs": [],
   "source": [
    "# Library Importation\n",
    "import pandas as pd"
   ]
  },
  {
   "cell_type": "code",
   "execution_count": 2,
   "metadata": {
    "collapsed": false,
    "jupyter": {
     "outputs_hidden": false
    }
   },
   "outputs": [
    {
     "data": {
      "text/plain": "        Income  MntWines  MntFruits  MntMeatProducts  MntFishProducts  \\\nID                                                                      \n5314   40689.0       270          3               27               39   \n2493   61286.0       356          0              107               19   \n4931  157146.0         1          0             1725                2   \n1100   41275.0        24          4               22                0   \n7224   31353.0        10          0               10                3   \n\n      MntSweetProducts  MntGoldProds  Recency  NCatalogPurchases  Response1  \\\nID                                                                            \n5314                 6            99       69                  1          0   \n2493                 9           117       34                  1          0   \n4931                 1             1       13                 28          0   \n1100                 2             9       33                  1          0   \n7224                 1             7       24                  1          0   \n\n      ...  Response5  Response   Education  MaritalStatus  FamilySize  \\\nID    ...                                                               \n5314  ...          0         0  Graduation       Together           3   \n2493  ...          0         0  Graduation        Married           3   \n4931  ...          0         0  Graduation       Together           2   \n1100  ...          0         0      Master       Together           5   \n7224  ...          0         0  Graduation        Married           3   \n\n     MntTotal %IncomeSpent  TotalPurchases  TotalResponses  NDaysPurchase  \nID                                                                         \n5314      345        0.424              13               0             92  \n2493      491        0.401              16               0             66  \n4931     1729        0.550              28               0             41  \n1100       52        0.063               7               0            118  \n7224       24        0.038               4               0            228  \n\n[5 rows x 23 columns]",
      "text/html": "<div>\n<style scoped>\n    .dataframe tbody tr th:only-of-type {\n        vertical-align: middle;\n    }\n\n    .dataframe tbody tr th {\n        vertical-align: top;\n    }\n\n    .dataframe thead th {\n        text-align: right;\n    }\n</style>\n<table border=\"1\" class=\"dataframe\">\n  <thead>\n    <tr style=\"text-align: right;\">\n      <th></th>\n      <th>Income</th>\n      <th>MntWines</th>\n      <th>MntFruits</th>\n      <th>MntMeatProducts</th>\n      <th>MntFishProducts</th>\n      <th>MntSweetProducts</th>\n      <th>MntGoldProds</th>\n      <th>Recency</th>\n      <th>NCatalogPurchases</th>\n      <th>Response1</th>\n      <th>...</th>\n      <th>Response5</th>\n      <th>Response</th>\n      <th>Education</th>\n      <th>MaritalStatus</th>\n      <th>FamilySize</th>\n      <th>MntTotal</th>\n      <th>%IncomeSpent</th>\n      <th>TotalPurchases</th>\n      <th>TotalResponses</th>\n      <th>NDaysPurchase</th>\n    </tr>\n    <tr>\n      <th>ID</th>\n      <th></th>\n      <th></th>\n      <th></th>\n      <th></th>\n      <th></th>\n      <th></th>\n      <th></th>\n      <th></th>\n      <th></th>\n      <th></th>\n      <th></th>\n      <th></th>\n      <th></th>\n      <th></th>\n      <th></th>\n      <th></th>\n      <th></th>\n      <th></th>\n      <th></th>\n      <th></th>\n      <th></th>\n    </tr>\n  </thead>\n  <tbody>\n    <tr>\n      <th>5314</th>\n      <td>40689.0</td>\n      <td>270</td>\n      <td>3</td>\n      <td>27</td>\n      <td>39</td>\n      <td>6</td>\n      <td>99</td>\n      <td>69</td>\n      <td>1</td>\n      <td>0</td>\n      <td>...</td>\n      <td>0</td>\n      <td>0</td>\n      <td>Graduation</td>\n      <td>Together</td>\n      <td>3</td>\n      <td>345</td>\n      <td>0.424</td>\n      <td>13</td>\n      <td>0</td>\n      <td>92</td>\n    </tr>\n    <tr>\n      <th>2493</th>\n      <td>61286.0</td>\n      <td>356</td>\n      <td>0</td>\n      <td>107</td>\n      <td>19</td>\n      <td>9</td>\n      <td>117</td>\n      <td>34</td>\n      <td>1</td>\n      <td>0</td>\n      <td>...</td>\n      <td>0</td>\n      <td>0</td>\n      <td>Graduation</td>\n      <td>Married</td>\n      <td>3</td>\n      <td>491</td>\n      <td>0.401</td>\n      <td>16</td>\n      <td>0</td>\n      <td>66</td>\n    </tr>\n    <tr>\n      <th>4931</th>\n      <td>157146.0</td>\n      <td>1</td>\n      <td>0</td>\n      <td>1725</td>\n      <td>2</td>\n      <td>1</td>\n      <td>1</td>\n      <td>13</td>\n      <td>28</td>\n      <td>0</td>\n      <td>...</td>\n      <td>0</td>\n      <td>0</td>\n      <td>Graduation</td>\n      <td>Together</td>\n      <td>2</td>\n      <td>1729</td>\n      <td>0.550</td>\n      <td>28</td>\n      <td>0</td>\n      <td>41</td>\n    </tr>\n    <tr>\n      <th>1100</th>\n      <td>41275.0</td>\n      <td>24</td>\n      <td>4</td>\n      <td>22</td>\n      <td>0</td>\n      <td>2</td>\n      <td>9</td>\n      <td>33</td>\n      <td>1</td>\n      <td>0</td>\n      <td>...</td>\n      <td>0</td>\n      <td>0</td>\n      <td>Master</td>\n      <td>Together</td>\n      <td>5</td>\n      <td>52</td>\n      <td>0.063</td>\n      <td>7</td>\n      <td>0</td>\n      <td>118</td>\n    </tr>\n    <tr>\n      <th>7224</th>\n      <td>31353.0</td>\n      <td>10</td>\n      <td>0</td>\n      <td>10</td>\n      <td>3</td>\n      <td>1</td>\n      <td>7</td>\n      <td>24</td>\n      <td>1</td>\n      <td>0</td>\n      <td>...</td>\n      <td>0</td>\n      <td>0</td>\n      <td>Graduation</td>\n      <td>Married</td>\n      <td>3</td>\n      <td>24</td>\n      <td>0.038</td>\n      <td>4</td>\n      <td>0</td>\n      <td>228</td>\n    </tr>\n  </tbody>\n</table>\n<p>5 rows × 23 columns</p>\n</div>"
     },
     "execution_count": 2,
     "metadata": {},
     "output_type": "execute_result"
    }
   ],
   "source": [
    "# Importation of the extracted dataset\n",
    "\n",
    "# This path should be changed into the path where the Excel document was stored.\n",
    "path = 'C:\\\\Users\\\\joana\\\\Documents\\\\Joana Rita\\\\Universidade\\\\Data Science\\\\Year 2\\\\1st Semester\\\\Programming for Data Science\\\\1st Project\\\\'\n",
    "\n",
    "# Reads the Excel document and defines that the 'ID' column is the index of the dataset\n",
    "data_original = pd.read_excel(path + \"4Explore1.xlsx\", index_col = 'ID')\n",
    "\n",
    "# Creates a copy of the imported data, so that the original one is never changed\n",
    "data=data_original.copy()\n",
    "\n",
    "# Calls the head of the dataset, to ensure the import was correctly done.\n",
    "data.head()"
   ]
  },
  {
   "cell_type": "markdown",
   "source": [
    " In the last notebook the following features were considered to have a good influence on the response (target), when analyzed individually.\n",
    "\n",
    " # Categoricals\n",
    "\n",
    "| Feature | Influence |\n",
    "|--- |---|\n",
    "| MaritalStatus | As 'single' the better |\n",
    "| Education | As 'higher' the better |\n",
    "| Responses | All are good with 1, 2 and 5 being the best |\n",
    "|FamilySize| The lowest the better |\n",
    "\n",
    "# Numericals\n",
    "\n",
    "|Features| Analysis of group by Response | Analysis of SMD | Way of Influence |\n",
    "| --- | ---| ---| ---|\n",
    "|Income or %IncomeSpent| Keep | Drop | The highest the better |\n",
    "|Recency | Keep | Keep |The lower the better|\n",
    "|NCatalogPurchases| Keep | Keep |The highest the better |\n",
    "|NDaysPurchases | Keep | Keep |  The lower the better |\n",
    "|TotalPurchases | Keep | Keep | The higher the better |\n",
    "| Mnt | Keep | Keep | All Mnt features are good, with MntMeatProducts, MntWines and MntTotal being the better |\n"
   ],
   "metadata": {
    "collapsed": false
   }
  },
  {
   "cell_type": "markdown",
   "source": [
    "### Multivariate Analysis of Categorical Variables\n",
    "\n",
    "However, a feature that can perform well individually might not be so good when combined to others. Therefore, a multivariate analysis of categorical variables is needed to check the best possible combinations of features and its values."
   ],
   "metadata": {
    "collapsed": false
   }
  },
  {
   "cell_type": "code",
   "execution_count": 3,
   "metadata": {
    "tags": []
   },
   "outputs": [
    {
     "data": {
      "text/plain": "                                      Response          \n                                          mean sum count\nFamilySize Education  TotalResponses                    \n1          Graduation 1               0.600000  12    20\n           Master     1               0.538462   7    13\n           PhD        0               0.400000  12    30\n                      1               0.500000   7    14\n2          Graduation 3               0.666667   8    12\n           PhD        1               0.400000   8    20\n                      2               0.500000   6    12\n3          PhD        1               0.480000  12    25",
      "text/html": "<div>\n<style scoped>\n    .dataframe tbody tr th:only-of-type {\n        vertical-align: middle;\n    }\n\n    .dataframe tbody tr th {\n        vertical-align: top;\n    }\n\n    .dataframe thead tr th {\n        text-align: left;\n    }\n\n    .dataframe thead tr:last-of-type th {\n        text-align: right;\n    }\n</style>\n<table border=\"1\" class=\"dataframe\">\n  <thead>\n    <tr>\n      <th></th>\n      <th></th>\n      <th></th>\n      <th colspan=\"3\" halign=\"left\">Response</th>\n    </tr>\n    <tr>\n      <th></th>\n      <th></th>\n      <th></th>\n      <th>mean</th>\n      <th>sum</th>\n      <th>count</th>\n    </tr>\n    <tr>\n      <th>FamilySize</th>\n      <th>Education</th>\n      <th>TotalResponses</th>\n      <th></th>\n      <th></th>\n      <th></th>\n    </tr>\n  </thead>\n  <tbody>\n    <tr>\n      <th rowspan=\"4\" valign=\"top\">1</th>\n      <th>Graduation</th>\n      <th>1</th>\n      <td>0.600000</td>\n      <td>12</td>\n      <td>20</td>\n    </tr>\n    <tr>\n      <th>Master</th>\n      <th>1</th>\n      <td>0.538462</td>\n      <td>7</td>\n      <td>13</td>\n    </tr>\n    <tr>\n      <th rowspan=\"2\" valign=\"top\">PhD</th>\n      <th>0</th>\n      <td>0.400000</td>\n      <td>12</td>\n      <td>30</td>\n    </tr>\n    <tr>\n      <th>1</th>\n      <td>0.500000</td>\n      <td>7</td>\n      <td>14</td>\n    </tr>\n    <tr>\n      <th rowspan=\"3\" valign=\"top\">2</th>\n      <th>Graduation</th>\n      <th>3</th>\n      <td>0.666667</td>\n      <td>8</td>\n      <td>12</td>\n    </tr>\n    <tr>\n      <th rowspan=\"2\" valign=\"top\">PhD</th>\n      <th>1</th>\n      <td>0.400000</td>\n      <td>8</td>\n      <td>20</td>\n    </tr>\n    <tr>\n      <th>2</th>\n      <td>0.500000</td>\n      <td>6</td>\n      <td>12</td>\n    </tr>\n    <tr>\n      <th>3</th>\n      <th>PhD</th>\n      <th>1</th>\n      <td>0.480000</td>\n      <td>12</td>\n      <td>25</td>\n    </tr>\n  </tbody>\n</table>\n</div>"
     },
     "execution_count": 3,
     "metadata": {},
     "output_type": "execute_result"
    }
   ],
   "source": [
    "# Values of rate and count\n",
    "rate = 0.35\n",
    "count = 9\n",
    "# Best feature combination\n",
    "by_cols1 = ['FamilySize', 'Education', 'TotalResponses']\n",
    "# Statistics to be used\n",
    "stats = ['mean', 'sum', 'count']\n",
    "\n",
    "# Groupping by the answers of the features selected\n",
    "gb_obj = data.groupby(by_cols1)\n",
    "data_agg = gb_obj.agg({'Response': stats})\n",
    "\n",
    "# Defining the conditions\n",
    "response_large = data_agg[('Response', 'mean')] > rate\n",
    "response_rel = data_agg[('Response', 'count')] > count\n",
    "\n",
    "# Dataset respecting the conditions imposed\n",
    "data_agg = data_agg.loc[response_large & response_rel, :]\n",
    "g1_idx = data_agg.index\n",
    "\n",
    "data_agg"
   ]
  },
  {
   "cell_type": "markdown",
   "source": [
    "After several combinations between different sets of features, the best combination of categorical features that maximize the profit, with some degree of representativity were `FamilySize`, `Education`and `TotalResponses`.\n",
    "\n",
    "The combination of these features was better when:\n",
    "- Family Size was 1, 2 or 3. With the biggest amount of combinations having a family size 1, and decreasing while the number of family members increases. It's important to notice that one of the variables that was not included (MaritalStatus) was the source of FamilySize, which might explain why profit decreases when it is added to the combination.\n",
    "- Combined with the family size, education level concerned as minimum degree: graduation with the most combinations being PhD.\n",
    "- Total responses of the customers who reunited the two other conditions, were more commonly 1.\n",
    "\n",
    "All of these conditions were to expect after the individual analysis, except for the total responses in which one would expect it to be higher. However there were fewer customers to combine all these features and still answer 1 in the response target which would remove representativity and precision."
   ],
   "metadata": {
    "collapsed": false
   }
  },
  {
   "cell_type": "markdown",
   "source": [
    "### Multivariate Analysis of Numerical Variables"
   ],
   "metadata": {
    "collapsed": false
   }
  },
  {
   "cell_type": "markdown",
   "source": [
    "In order to decrease the set of possible values in the numeric features, these had to be changed into intervals turning these features into categorical ones. The following cell divided these values in 5 intervals for each feature."
   ],
   "metadata": {
    "collapsed": false
   }
  },
  {
   "cell_type": "code",
   "execution_count": 4,
   "metadata": {
    "tags": []
   },
   "outputs": [
    {
     "data": {
      "text/plain": "(2036, 12)"
     },
     "metadata": {},
     "output_type": "display_data"
    },
    {
     "data": {
      "text/plain": "              MntTotal        MntWines      MntFruits  MntMeatProducts  \\\nID                                                                       \n5314    (181.0, 577.0]   (85.0, 284.0]     (1.0, 5.0]     (12.0, 36.0]   \n2493    (181.0, 577.0]  (284.0, 582.0]  (-0.001, 1.0]    (36.0, 110.0]   \n4931  (1101.0, 2491.0]  (-0.001, 16.0]  (-0.001, 1.0]  (297.0, 1725.0]   \n\n     MntSweetProducts   MntGoldProds NCatalogPurchases   NDaysPurchase  \\\nID                                                                       \n5314      (5.0, 14.0]  (71.0, 249.0]     (-0.001, 1.0]   (74.0, 121.0]   \n2493      (5.0, 14.0]  (71.0, 249.0]     (-0.001, 1.0]    (55.0, 74.0]   \n4931    (-0.001, 1.0]  (-0.001, 6.0]       (5.0, 28.0]  (25.999, 55.0]   \n\n     TotalPurchases               Income    %IncomeSpent  Response  \nID                                                                  \n5314    (9.0, 15.0]   (32313.0, 44635.0]  (0.209, 0.495]         0  \n2493   (15.0, 20.0]   (58330.0, 71853.0]  (0.209, 0.495]         0  \n4931   (20.0, 32.0]  (71853.0, 666666.0]  (0.495, 0.793]         0  ",
      "text/html": "<div>\n<style scoped>\n    .dataframe tbody tr th:only-of-type {\n        vertical-align: middle;\n    }\n\n    .dataframe tbody tr th {\n        vertical-align: top;\n    }\n\n    .dataframe thead th {\n        text-align: right;\n    }\n</style>\n<table border=\"1\" class=\"dataframe\">\n  <thead>\n    <tr style=\"text-align: right;\">\n      <th></th>\n      <th>MntTotal</th>\n      <th>MntWines</th>\n      <th>MntFruits</th>\n      <th>MntMeatProducts</th>\n      <th>MntSweetProducts</th>\n      <th>MntGoldProds</th>\n      <th>NCatalogPurchases</th>\n      <th>NDaysPurchase</th>\n      <th>TotalPurchases</th>\n      <th>Income</th>\n      <th>%IncomeSpent</th>\n      <th>Response</th>\n    </tr>\n    <tr>\n      <th>ID</th>\n      <th></th>\n      <th></th>\n      <th></th>\n      <th></th>\n      <th></th>\n      <th></th>\n      <th></th>\n      <th></th>\n      <th></th>\n      <th></th>\n      <th></th>\n      <th></th>\n    </tr>\n  </thead>\n  <tbody>\n    <tr>\n      <th>5314</th>\n      <td>(181.0, 577.0]</td>\n      <td>(85.0, 284.0]</td>\n      <td>(1.0, 5.0]</td>\n      <td>(12.0, 36.0]</td>\n      <td>(5.0, 14.0]</td>\n      <td>(71.0, 249.0]</td>\n      <td>(-0.001, 1.0]</td>\n      <td>(74.0, 121.0]</td>\n      <td>(9.0, 15.0]</td>\n      <td>(32313.0, 44635.0]</td>\n      <td>(0.209, 0.495]</td>\n      <td>0</td>\n    </tr>\n    <tr>\n      <th>2493</th>\n      <td>(181.0, 577.0]</td>\n      <td>(284.0, 582.0]</td>\n      <td>(-0.001, 1.0]</td>\n      <td>(36.0, 110.0]</td>\n      <td>(5.0, 14.0]</td>\n      <td>(71.0, 249.0]</td>\n      <td>(-0.001, 1.0]</td>\n      <td>(55.0, 74.0]</td>\n      <td>(15.0, 20.0]</td>\n      <td>(58330.0, 71853.0]</td>\n      <td>(0.209, 0.495]</td>\n      <td>0</td>\n    </tr>\n    <tr>\n      <th>4931</th>\n      <td>(1101.0, 2491.0]</td>\n      <td>(-0.001, 16.0]</td>\n      <td>(-0.001, 1.0]</td>\n      <td>(297.0, 1725.0]</td>\n      <td>(-0.001, 1.0]</td>\n      <td>(-0.001, 6.0]</td>\n      <td>(5.0, 28.0]</td>\n      <td>(25.999, 55.0]</td>\n      <td>(20.0, 32.0]</td>\n      <td>(71853.0, 666666.0]</td>\n      <td>(0.495, 0.793]</td>\n      <td>0</td>\n    </tr>\n  </tbody>\n</table>\n</div>"
     },
     "metadata": {},
     "output_type": "display_data"
    }
   ],
   "source": [
    "# Numerical features with multiple unique values\n",
    "num_features = ['MntTotal', 'MntWines', 'MntFruits', 'MntMeatProducts', 'MntSweetProducts', 'MntGoldProds', 'NCatalogPurchases', 'NDaysPurchase', 'TotalPurchases', 'Income', '%IncomeSpent']\n",
    "\n",
    "#Number of intervals defined and division\n",
    "n_bins, data_bin = 5, {}\n",
    "for f in num_features:\n",
    "    data_bin[f] = pd.qcut(data[f], q=n_bins, duplicates='drop')\n",
    "\n",
    "# Adding the Response\n",
    "data_bin['Response'] = data['Response']\n",
    "data_bin = pd.DataFrame.from_dict(data_bin)\n",
    "display(data_bin.shape, data_bin.head(3))"
   ]
  },
  {
   "cell_type": "markdown",
   "source": [
    "Before reaching the best set of combinations, one tried to check the influence of the Monetary Features in the `Response` (Target)\n",
    "One interesting way to visualize how the Monetary features influence the Response is to plot it into a parallel coordinates graph, like it was done in the following cell."
   ],
   "metadata": {
    "collapsed": false
   }
  },
  {
   "cell_type": "code",
   "execution_count": 5,
   "metadata": {
    "collapsed": true,
    "jupyter": {
     "outputs_hidden": true,
     "source_hidden": true
    },
    "tags": []
   },
   "outputs": [
    {
     "data": {
      "text/plain": "<AxesSubplot:>"
     },
     "execution_count": 5,
     "metadata": {},
     "output_type": "execute_result"
    },
    {
     "data": {
      "text/plain": "<Figure size 432x288 with 1 Axes>",
      "image/png": "[encoded data removed]"
     },
     "metadata": {},
     "output_type": "display_data"
    }
   ],
   "source": [
    "# Parallel Coordinates Graph\n",
    "features = [\"MntWines\", \"MntMeatProducts\", \"MntFruits\", \"MntSweetProducts\", \"MntGoldProds\", \"Response\"]\n",
    "pd.plotting.parallel_coordinates(data[features], 'Response', color=[\"paleturquoise\", \"cadetblue\"])"
   ]
  },
  {
   "cell_type": "markdown",
   "source": [
    "Analyzing the graph above, it's possible to see that MntWines and MntProducts were the features with the biggest amount of 1 in the `Response`(target).\n",
    "\n",
    "Nevertheless, it is still necessary to check how the set of numerical features (divided in bins) behaves when combined. The following cell represents the set of numerical features for which the best profit was achieved."
   ],
   "metadata": {
    "collapsed": false
   }
  },
  {
   "cell_type": "code",
   "execution_count": 6,
   "outputs": [
    {
     "data": {
      "text/plain": "                                                               Response      \\\n                                                                   mean sum   \nMntGoldProds  TotalPurchases %IncomeSpent    MntTotal                         \n(16.0, 34.0]  (15.0, 20.0]   (0.793, 35.329] (1101.0, 2491.0]  0.470588  16   \n              (20.0, 32.0]   (0.793, 35.329] (1101.0, 2491.0]  0.323529  11   \n(34.0, 71.0]  (5.0, 9.0]     (0.209, 0.495]  (43.0, 181.0]     0.416667   5   \n              (9.0, 15.0]    (0.793, 35.329] (1101.0, 2491.0]  0.500000   6   \n              (20.0, 32.0]   (0.793, 35.329] (1101.0, 2491.0]  0.428571  15   \n(71.0, 249.0] (9.0, 15.0]    (0.793, 35.329] (1101.0, 2491.0]  0.545455  12   \n              (20.0, 32.0]   (0.495, 0.793]  (1101.0, 2491.0]  0.400000   4   \n                             (0.793, 35.329] (1101.0, 2491.0]  0.377358  20   \n\n                                                                     \n                                                              count  \nMntGoldProds  TotalPurchases %IncomeSpent    MntTotal                \n(16.0, 34.0]  (15.0, 20.0]   (0.793, 35.329] (1101.0, 2491.0]    34  \n              (20.0, 32.0]   (0.793, 35.329] (1101.0, 2491.0]    34  \n(34.0, 71.0]  (5.0, 9.0]     (0.209, 0.495]  (43.0, 181.0]       12  \n              (9.0, 15.0]    (0.793, 35.329] (1101.0, 2491.0]    12  \n              (20.0, 32.0]   (0.793, 35.329] (1101.0, 2491.0]    35  \n(71.0, 249.0] (9.0, 15.0]    (0.793, 35.329] (1101.0, 2491.0]    22  \n              (20.0, 32.0]   (0.495, 0.793]  (1101.0, 2491.0]    10  \n                             (0.793, 35.329] (1101.0, 2491.0]    53  ",
      "text/html": "<div>\n<style scoped>\n    .dataframe tbody tr th:only-of-type {\n        vertical-align: middle;\n    }\n\n    .dataframe tbody tr th {\n        vertical-align: top;\n    }\n\n    .dataframe thead tr th {\n        text-align: left;\n    }\n\n    .dataframe thead tr:last-of-type th {\n        text-align: right;\n    }\n</style>\n<table border=\"1\" class=\"dataframe\">\n  <thead>\n    <tr>\n      <th></th>\n      <th></th>\n      <th></th>\n      <th></th>\n      <th colspan=\"3\" halign=\"left\">Response</th>\n    </tr>\n    <tr>\n      <th></th>\n      <th></th>\n      <th></th>\n      <th></th>\n      <th>mean</th>\n      <th>sum</th>\n      <th>count</th>\n    </tr>\n    <tr>\n      <th>MntGoldProds</th>\n      <th>TotalPurchases</th>\n      <th>%IncomeSpent</th>\n      <th>MntTotal</th>\n      <th></th>\n      <th></th>\n      <th></th>\n    </tr>\n  </thead>\n  <tbody>\n    <tr>\n      <th rowspan=\"2\" valign=\"top\">(16.0, 34.0]</th>\n      <th>(15.0, 20.0]</th>\n      <th>(0.793, 35.329]</th>\n      <th>(1101.0, 2491.0]</th>\n      <td>0.470588</td>\n      <td>16</td>\n      <td>34</td>\n    </tr>\n    <tr>\n      <th>(20.0, 32.0]</th>\n      <th>(0.793, 35.329]</th>\n      <th>(1101.0, 2491.0]</th>\n      <td>0.323529</td>\n      <td>11</td>\n      <td>34</td>\n    </tr>\n    <tr>\n      <th rowspan=\"3\" valign=\"top\">(34.0, 71.0]</th>\n      <th>(5.0, 9.0]</th>\n      <th>(0.209, 0.495]</th>\n      <th>(43.0, 181.0]</th>\n      <td>0.416667</td>\n      <td>5</td>\n      <td>12</td>\n    </tr>\n    <tr>\n      <th>(9.0, 15.0]</th>\n      <th>(0.793, 35.329]</th>\n      <th>(1101.0, 2491.0]</th>\n      <td>0.500000</td>\n      <td>6</td>\n      <td>12</td>\n    </tr>\n    <tr>\n      <th>(20.0, 32.0]</th>\n      <th>(0.793, 35.329]</th>\n      <th>(1101.0, 2491.0]</th>\n      <td>0.428571</td>\n      <td>15</td>\n      <td>35</td>\n    </tr>\n    <tr>\n      <th rowspan=\"3\" valign=\"top\">(71.0, 249.0]</th>\n      <th>(9.0, 15.0]</th>\n      <th>(0.793, 35.329]</th>\n      <th>(1101.0, 2491.0]</th>\n      <td>0.545455</td>\n      <td>12</td>\n      <td>22</td>\n    </tr>\n    <tr>\n      <th rowspan=\"2\" valign=\"top\">(20.0, 32.0]</th>\n      <th>(0.495, 0.793]</th>\n      <th>(1101.0, 2491.0]</th>\n      <td>0.400000</td>\n      <td>4</td>\n      <td>10</td>\n    </tr>\n    <tr>\n      <th>(0.793, 35.329]</th>\n      <th>(1101.0, 2491.0]</th>\n      <td>0.377358</td>\n      <td>20</td>\n      <td>53</td>\n    </tr>\n  </tbody>\n</table>\n</div>"
     },
     "execution_count": 6,
     "metadata": {},
     "output_type": "execute_result"
    }
   ],
   "source": [
    "# Values of rate and count\n",
    "rate = 0.3\n",
    "count = 9\n",
    "\n",
    "# Best feature combination\n",
    "by_cols2 = ['MntGoldProds', 'TotalPurchases','%IncomeSpent', 'MntTotal']\n",
    "\n",
    "# Groupping by the answers of the features selected\n",
    "gb_obj = data_bin.groupby(by_cols2)\n",
    "data_agg = gb_obj.agg({'Response': stats})\n",
    "\n",
    "# Defining the conditions\n",
    "response_large = data_agg[('Response', 'mean')] > rate\n",
    "response_rel = data_agg[('Response', 'count')] > count\n",
    "\n",
    "# Dataset respecting the conditions imposed\n",
    "data_agg = data_agg.loc[response_large & response_rel , :]\n",
    "g2_idx = data_agg.index\n",
    "\n",
    "data_agg\n"
   ],
   "metadata": {
    "collapsed": false
   }
  },
  {
   "cell_type": "markdown",
   "source": [
    "The best combination of numerical features were `MntGoldProds`, `TotalPurchases`, `%IncomeSpent`and `MntTotal`.\n",
    "\n",
    "- Since MntTotal is one of the features which has a bigger amount of higher correlations with other features, it holds on a lot of information on the customers.\n",
    "\n",
    "- MntGolProds is also an important feature to be included since it is not included in the MntTotal and the products which are covered by this feature are the more expensive ones (which, of course, will increase profit).\n",
    "-\n",
    "- %IncomeSpent is highly correlated with MntTotal, however it does add a lot more information by combining Income with MntTotal that is important to compute profit.\n",
    "\n",
    "- TotalPurchases is highly correlated with NCatalogPurchases (which was one of the best individual features) wih NStorePurchases and NWebPurchases, holding on a lot of information about where the customer most buy from.\n",
    "\n",
    "These 4 features end up to combine information of almost all the important features considered on the individual analysis and due to that, maximized the profit.\n",
    "\n",
    "To have only the important features as columns, the ones that were not considered in the previous cells were dropped from the dataset, in the next cell."
   ],
   "metadata": {
    "collapsed": false
   }
  },
  {
   "cell_type": "code",
   "execution_count": 7,
   "outputs": [
    {
     "data": {
      "text/plain": "      MntGoldProds  Response   Education  FamilySize  MntTotal  %IncomeSpent  \\\nID                                                                             \n5314            99         0  Graduation           3       345         0.424   \n2493           117         0  Graduation           3       491         0.401   \n4931             1         0  Graduation           2      1729         0.550   \n1100             9         0      Master           5        52         0.063   \n7224             7         0  Graduation           3        24         0.038   \n\n      TotalPurchases  TotalResponses  \nID                                    \n5314              13               0  \n2493              16               0  \n4931              28               0  \n1100               7               0  \n7224               4               0  ",
      "text/html": "<div>\n<style scoped>\n    .dataframe tbody tr th:only-of-type {\n        vertical-align: middle;\n    }\n\n    .dataframe tbody tr th {\n        vertical-align: top;\n    }\n\n    .dataframe thead th {\n        text-align: right;\n    }\n</style>\n<table border=\"1\" class=\"dataframe\">\n  <thead>\n    <tr style=\"text-align: right;\">\n      <th></th>\n      <th>MntGoldProds</th>\n      <th>Response</th>\n      <th>Education</th>\n      <th>FamilySize</th>\n      <th>MntTotal</th>\n      <th>%IncomeSpent</th>\n      <th>TotalPurchases</th>\n      <th>TotalResponses</th>\n    </tr>\n    <tr>\n      <th>ID</th>\n      <th></th>\n      <th></th>\n      <th></th>\n      <th></th>\n      <th></th>\n      <th></th>\n      <th></th>\n      <th></th>\n    </tr>\n  </thead>\n  <tbody>\n    <tr>\n      <th>5314</th>\n      <td>99</td>\n      <td>0</td>\n      <td>Graduation</td>\n      <td>3</td>\n      <td>345</td>\n      <td>0.424</td>\n      <td>13</td>\n      <td>0</td>\n    </tr>\n    <tr>\n      <th>2493</th>\n      <td>117</td>\n      <td>0</td>\n      <td>Graduation</td>\n      <td>3</td>\n      <td>491</td>\n      <td>0.401</td>\n      <td>16</td>\n      <td>0</td>\n    </tr>\n    <tr>\n      <th>4931</th>\n      <td>1</td>\n      <td>0</td>\n      <td>Graduation</td>\n      <td>2</td>\n      <td>1729</td>\n      <td>0.550</td>\n      <td>28</td>\n      <td>0</td>\n    </tr>\n    <tr>\n      <th>1100</th>\n      <td>9</td>\n      <td>0</td>\n      <td>Master</td>\n      <td>5</td>\n      <td>52</td>\n      <td>0.063</td>\n      <td>7</td>\n      <td>0</td>\n    </tr>\n    <tr>\n      <th>7224</th>\n      <td>7</td>\n      <td>0</td>\n      <td>Graduation</td>\n      <td>3</td>\n      <td>24</td>\n      <td>0.038</td>\n      <td>4</td>\n      <td>0</td>\n    </tr>\n  </tbody>\n</table>\n</div>"
     },
     "execution_count": 7,
     "metadata": {},
     "output_type": "execute_result"
    }
   ],
   "source": [
    "# adding the features chosen + the response to a list\n",
    "by_cols = by_cols1 + by_cols2 + ['Response']\n",
    "# if the feature is not on the previous made list, it should be dropped\n",
    "for feature in data.columns:\n",
    "    if feature not in by_cols:\n",
    "            data.drop(feature, axis = 1, inplace = True)\n",
    "\n",
    "data.head()"
   ],
   "metadata": {
    "collapsed": false
   }
  },
  {
   "cell_type": "markdown",
   "source": [
    "After removing the features which were considered to influence less the `response`, the best combination of both categorical and numerical features were put together in order to reach the number of customers that gather the best conditions (now on referred as 'best customers') and to check how many of those customer actually answered 1 on the `response`(target)."
   ],
   "metadata": {
    "collapsed": false
   }
  },
  {
   "cell_type": "code",
   "execution_count": 8,
   "metadata": {},
   "outputs": [
    {
     "name": "stdout",
     "output_type": "stream",
     "text": [
      "Total number of customers: 2036 Number of customers who answered 1: 307 Response Mean: 0.15\n",
      "Total number of 'best customers': 324 Number of the 'best customers' that answered 1: 143 Response Mean: 0.44\n"
     ]
    }
   ],
   "source": [
    "conditions = []\n",
    "for g_idx, df_g in zip([g1_idx, g2_idx], [data, data_bin]):\n",
    "    condition_g = None\n",
    "    for idx in zip(g_idx.values):  \n",
    "        condition_i = None\n",
    "        for i, c in zip(idx[0], g_idx.names):    \n",
    "            condition_i = df_g[c]==i if condition_i is None else (condition_i) & (df_g[c]==i)\n",
    "\n",
    "        condition_g = condition_i if condition_g is None else (condition_g) | (condition_i)\n",
    "        \n",
    "    conditions.append(condition_g)\n",
    "\n",
    "\n",
    "# Unique IDs of the 'Best customers'\n",
    "un_ids = list(set(list(data[conditions[0]].index) + list(data_bin[conditions[1]].index)))\n",
    "# Subset customers\n",
    "data_ = data.loc[un_ids]\n",
    "#Computing True and False Positives\n",
    "TP = data_.Response.sum()\n",
    "FP = len(data_) - TP\n",
    "\n",
    "print(\"Total number of customers: {} Number of customers who answered 1: {} Response Mean: {:.2f}\".format(len(data), data.Response.sum(), data.Response.mean()))\n",
    "print(\"Total number of 'best customers': {} Number of the 'best customers' that answered 1: {} Response Mean: {:.2f}\".format(len(data_), data_.Response.sum(), data_.Response.mean()))"
   ]
  },
  {
   "cell_type": "markdown",
   "source": [
    "Having the ids, and the number of the 'Best Customers' are now gathered the conditions to calculate profit. In this specific case, the number of True Positives, which are the 'best customers' that actually answered 1 to the target, was 143, with the response mean being 0.44. The False Positives are the difference between the total number of 'best customers' and the true positives (324 - 143 = 181)."
   ],
   "metadata": {
    "collapsed": false
   }
  },
  {
   "cell_type": "code",
   "execution_count": 9,
   "metadata": {},
   "outputs": [
    {
     "data": {
      "text/plain": "      MntGoldProds  Response    Education  FamilySize  MntTotal  %IncomeSpent  \\\nID                                                                              \n1               37         1   Graduation           1       540         0.473   \n8204            17         0  High School           2      1302         0.834   \n4114            32         0       Master           2      1661         1.049   \n8213            35         1  High School           3        61         0.210   \n2072            34         1          PhD           3      1030         0.965   \n...            ...       ...          ...         ...       ...           ...   \n6086            48         0   Graduation           2      1332         0.828   \n1993            19         0          PhD           3       953         0.813   \n4058            45         0          PhD           1       766         0.625   \n2021            89         0   Graduation           3      1299         1.057   \n4073            65         1  High School           2      1150         0.905   \n\n      TotalPurchases  TotalResponses  \nID                                    \n1                 17               1  \n8204              17               0  \n4114              28               0  \n8213               7               0  \n2072              15               1  \n...              ...             ...  \n6086              23               1  \n1993              14               1  \n4058              21               1  \n2021              29               0  \n4073              27               1  \n\n[324 rows x 8 columns]",
      "text/html": "<div>\n<style scoped>\n    .dataframe tbody tr th:only-of-type {\n        vertical-align: middle;\n    }\n\n    .dataframe tbody tr th {\n        vertical-align: top;\n    }\n\n    .dataframe thead th {\n        text-align: right;\n    }\n</style>\n<table border=\"1\" class=\"dataframe\">\n  <thead>\n    <tr style=\"text-align: right;\">\n      <th></th>\n      <th>MntGoldProds</th>\n      <th>Response</th>\n      <th>Education</th>\n      <th>FamilySize</th>\n      <th>MntTotal</th>\n      <th>%IncomeSpent</th>\n      <th>TotalPurchases</th>\n      <th>TotalResponses</th>\n    </tr>\n    <tr>\n      <th>ID</th>\n      <th></th>\n      <th></th>\n      <th></th>\n      <th></th>\n      <th></th>\n      <th></th>\n      <th></th>\n      <th></th>\n    </tr>\n  </thead>\n  <tbody>\n    <tr>\n      <th>1</th>\n      <td>37</td>\n      <td>1</td>\n      <td>Graduation</td>\n      <td>1</td>\n      <td>540</td>\n      <td>0.473</td>\n      <td>17</td>\n      <td>1</td>\n    </tr>\n    <tr>\n      <th>8204</th>\n      <td>17</td>\n      <td>0</td>\n      <td>High School</td>\n      <td>2</td>\n      <td>1302</td>\n      <td>0.834</td>\n      <td>17</td>\n      <td>0</td>\n    </tr>\n    <tr>\n      <th>4114</th>\n      <td>32</td>\n      <td>0</td>\n      <td>Master</td>\n      <td>2</td>\n      <td>1661</td>\n      <td>1.049</td>\n      <td>28</td>\n      <td>0</td>\n    </tr>\n    <tr>\n      <th>8213</th>\n      <td>35</td>\n      <td>1</td>\n      <td>High School</td>\n      <td>3</td>\n      <td>61</td>\n      <td>0.210</td>\n      <td>7</td>\n      <td>0</td>\n    </tr>\n    <tr>\n      <th>2072</th>\n      <td>34</td>\n      <td>1</td>\n      <td>PhD</td>\n      <td>3</td>\n      <td>1030</td>\n      <td>0.965</td>\n      <td>15</td>\n      <td>1</td>\n    </tr>\n    <tr>\n      <th>...</th>\n      <td>...</td>\n      <td>...</td>\n      <td>...</td>\n      <td>...</td>\n      <td>...</td>\n      <td>...</td>\n      <td>...</td>\n      <td>...</td>\n    </tr>\n    <tr>\n      <th>6086</th>\n      <td>48</td>\n      <td>0</td>\n      <td>Graduation</td>\n      <td>2</td>\n      <td>1332</td>\n      <td>0.828</td>\n      <td>23</td>\n      <td>1</td>\n    </tr>\n    <tr>\n      <th>1993</th>\n      <td>19</td>\n      <td>0</td>\n      <td>PhD</td>\n      <td>3</td>\n      <td>953</td>\n      <td>0.813</td>\n      <td>14</td>\n      <td>1</td>\n    </tr>\n    <tr>\n      <th>4058</th>\n      <td>45</td>\n      <td>0</td>\n      <td>PhD</td>\n      <td>1</td>\n      <td>766</td>\n      <td>0.625</td>\n      <td>21</td>\n      <td>1</td>\n    </tr>\n    <tr>\n      <th>2021</th>\n      <td>89</td>\n      <td>0</td>\n      <td>Graduation</td>\n      <td>3</td>\n      <td>1299</td>\n      <td>1.057</td>\n      <td>29</td>\n      <td>0</td>\n    </tr>\n    <tr>\n      <th>4073</th>\n      <td>65</td>\n      <td>1</td>\n      <td>High School</td>\n      <td>2</td>\n      <td>1150</td>\n      <td>0.905</td>\n      <td>27</td>\n      <td>1</td>\n    </tr>\n  </tbody>\n</table>\n<p>324 rows × 8 columns</p>\n</div>"
     },
     "execution_count": 9,
     "metadata": {},
     "output_type": "execute_result"
    }
   ],
   "source": [
    "data_ #Confirming the 'best customers' dataframe"
   ]
  },
  {
   "cell_type": "markdown",
   "metadata": {},
   "source": []
  },
  {
   "cell_type": "markdown",
   "metadata": {},
   "source": [
    "### Set of best features"
   ]
  },
  {
   "cell_type": "markdown",
   "metadata": {},
   "source": [
    "The final set of best features was considered the following:\n",
    "\n",
    "<b> >> MntGoldProds, Education, FamilySize, MntTotal, %IncomeSpent, totalPurchases and TotalResponses << </b>"
   ]
  },
  {
   "cell_type": "markdown",
   "source": [
    "### Profit Computation"
   ],
   "metadata": {
    "collapsed": false
   }
  },
  {
   "cell_type": "markdown",
   "source": [
    "Maximize the Profit is, of course, the main goal of this work. Combining the best features with a good rate and a representative count was essential to reach a good amount of profit.\n",
    "\n",
    "Profit Computation was performed with the following formula:"
   ],
   "metadata": {
    "collapsed": false
   }
  },
  {
   "cell_type": "markdown",
   "metadata": {},
   "source": [
    "$$p = rTP − c(TP + FP)$$\n",
    "\n",
    "$(p)$ - profit\n",
    "$(c)$ - cost of contact\n",
    "$(r)$ - return\n",
    "$(TP)$ - True Positives\n",
    "$(FP)$ - False Positives"
   ]
  },
  {
   "cell_type": "markdown",
   "source": [
    "The following function is able to compute the profit just by calling it with the numbers of revenue, cost, False Positives and True Positives. These values were already given in the above cells, but for better readibility are here described:\n",
    "- Revenue: 11\n",
    "- Cost: 3\n",
    "- False Positives: 181\n",
    "- True Positives: 143"
   ],
   "metadata": {
    "collapsed": false
   }
  },
  {
   "cell_type": "code",
   "execution_count": 10,
   "metadata": {
    "collapsed": false,
    "jupyter": {
     "outputs_hidden": false
    }
   },
   "outputs": [
    {
     "name": "stdout",
     "output_type": "stream",
     "text": [
      "Profit: 601\n"
     ]
    }
   ],
   "source": [
    "# Profit computation Function\n",
    "def profit(revenue, cost, FalsePositives, TruePositives):\n",
    "    profit =  revenue * TruePositives - cost*(TruePositives + FalsePositives)\n",
    "    print('Profit:', profit)\n",
    "\n",
    "profit(11, 3, FP, TP)"
   ]
  },
  {
   "cell_type": "markdown",
   "source": [
    "The profit achieved was 601 monetary units (M.U) which is an incredible and very positive change compared to the company's previous revenue of -3046 M.U."
   ],
   "metadata": {
    "collapsed": false
   }
  },
  {
   "cell_type": "markdown",
   "source": [
    "Finally, the data set with the 'best customers' is created in the following cell."
   ],
   "metadata": {
    "collapsed": false
   }
  },
  {
   "cell_type": "code",
   "execution_count": 11,
   "outputs": [],
   "source": [
    "data_.to_excel(path + \"respondents.xlsx\")"
   ],
   "metadata": {
    "collapsed": false
   }
  }
 ],
 "metadata": {
  "kernelspec": {
   "display_name": "Python 3 (ipykernel)",
   "language": "python",
   "name": "python3"
  },
  "language_info": {
   "codemirror_mode": {
    "name": "ipython",
    "version": 3
   },
   "file_extension": ".py",
   "mimetype": "text/x-python",
   "name": "python",
   "nbconvert_exporter": "python",
   "pygments_lexer": "ipython3",
   "version": "3.9.13"
  }
 },
 "nbformat": 4,
 "nbformat_minor": 4
}
